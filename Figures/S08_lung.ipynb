{
 "cells": [
  {
   "cell_type": "code",
   "execution_count": 1,
   "metadata": {},
   "outputs": [],
   "source": [
    "suppressPackageStartupMessages({\n",
    "    source('../libs.R')\n",
    "    source('../utils.R')    \n",
    "    source('../Figures/colors.R')    \n",
    "    source('../utils_mapping.R')\n",
    "    source('../utils_plotting.R')\n",
    "})\n"
   ]
  },
  {
   "cell_type": "markdown",
   "metadata": {},
   "source": [
    "# Load"
   ]
  },
  {
   "cell_type": "markdown",
   "metadata": {},
   "source": [
    "## obj_fibroblasts"
   ]
  },
  {
   "cell_type": "code",
   "execution_count": 2,
   "metadata": {},
   "outputs": [],
   "source": [
    "dname <- '/data/srlab2/ik936/Roche/data/cache/obj_fibroblasts/'\n",
    "fields_load <- c('meta_data', 'effects_nested', 'effects_marginal')\n",
    "# fields_load <- c('meta_data', 'umap_after', 'umap_before', 'V', 'V_unweighted', 'effects_nested', 'effects_marginal')\n",
    "obj <- map(fields_load, function(name) {\n",
    "    readRDS(file.path(dname, paste0(name, '.rds')))\n",
    "})\n",
    "names(obj) <- fields_load\n",
    "\n",
    "\n",
    "obj$meta_data <- obj$meta_data %>% \n",
    "    dplyr::mutate(tissue_cluster = case_when(\n",
    "        tissue_cluster == 'NOTCH3+ perivascular' ~ 'Sublining',\n",
    "        TRUE ~ tissue_cluster\n",
    "    ))\n",
    "\n",
    "masc_res <- readRDS('/data/srlab2/ik936/Roche/data/cache/confusion_analysis_results.rds')\n"
   ]
  },
  {
   "cell_type": "markdown",
   "metadata": {},
   "source": [
    "## adams"
   ]
  },
  {
   "cell_type": "code",
   "execution_count": 3,
   "metadata": {},
   "outputs": [],
   "source": [
    "adams <- readRDS('/data/srlab2/ik936/Roche/data/lung/Adams/query.rds')\n",
    "adams$effects <- readRDS('/data/srlab2/ik936/Roche/data/lung/Adams/effects.rds')\n",
    "# adams$masc_res <- readRDS('/data/srlab2/ik936/Roche/data/lung/Adams/masc_res.rds')\n",
    "adams$frequencies <- readRDS('/data/srlab2/ik936/Roche/data/cache/adams_ttest_frequencies.rds')"
   ]
  },
  {
   "cell_type": "markdown",
   "metadata": {},
   "source": [
    "## travaglini"
   ]
  },
  {
   "cell_type": "code",
   "execution_count": null,
   "metadata": {},
   "outputs": [],
   "source": [
    "trav <- readRDS('/data/srlab2/ik936/Roche/data/lung/Travaglini/obj_mesenchymal')"
   ]
  },
  {
   "cell_type": "markdown",
   "metadata": {},
   "source": [
    "# Travaglini clusters: heatmap"
   ]
  },
  {
   "cell_type": "code",
   "execution_count": null,
   "metadata": {},
   "outputs": [],
   "source": [
    "## Markers from paper\n",
    "markers_list <- map(\n",
    "    paste0('Cluster ', 25:33), \n",
    "    function(sheetname) {\n",
    "        openxlsx::read.xlsx('/data/srlab2/ik936/Roche/data/lung/Travaglini/41586_2020_2922_MOESM6_ESM.xlsx', sheetname, startRow = 2) %>% \n",
    "            arrange(-avg_logFC) %>% head(20) %>% \n",
    "            subset(avg_logFC >= .5) %>%\n",
    "            dplyr::select(Gene:p_val_adj)\n",
    "    }\n",
    ")\n",
    "\n",
    "names(markers_list) <- c('ASM', 'VSM', 'MyoF', 'FibM', 'AdvF', 'AlvF', 'LipF', 'Peri', 'Meso')\n",
    "markers <- bind_rows(markers_list, .id = 'Cluster')\n",
    "\n",
    "## Make markers unique to a cluster \n",
    "markers <- data.table(markers)[, .SD[order(-avg_logFC)][1], by = Gene]\n",
    "\n",
    "## Matrix of betas \n",
    "X <- trav$effects %>% \n",
    "    subset(feature %in% Reduce(union, markers)) %>% \n",
    "    dplyr::select(SCORE=beta, Cluster, feature) %>% \n",
    "    tidyr::spread(Cluster, SCORE, fill = 0) %>% \n",
    "    tibble::column_to_rownames('feature') %>% \n",
    "    as.matrix()\n",
    "\n",
    "markers <- subset(markers, Gene %in% rownames(X))"
   ]
  },
  {
   "cell_type": "code",
   "execution_count": null,
   "metadata": {},
   "outputs": [],
   "source": [
    "fig.size(3, 12)\n",
    "ht_opt(RESET = TRUE)\n",
    "ht_opt(\"heatmap_column_names_gp\" = gpar(fontsize = 5))\n",
    "ht_opt(\"heatmap_row_names_gp\" = gpar(fontsize = 8))\n",
    "suppressWarnings({\n",
    "    h3 <- split(markers$Gene, markers$Cluster) %>% imap(function(.genes, .cluster) {\n",
    "        ## ComplexHeatmap requires identical columns\n",
    "        if (.cluster == 'VSM') {\n",
    "            Heatmap(\n",
    "                t(X[.genes, ]) %>% scale(),\n",
    "    #             t(X[.genes, ]),\n",
    "                show_column_names = TRUE,\n",
    "                show_heatmap_legend = TRUE,\n",
    "                name = 'Z-score',\n",
    "                column_title = .cluster,\n",
    "                heatmap_legend_param = list(direction = \"horizontal\"),\n",
    "                col = colorRamp2(c(-2, 0, 2), c(muted('blue'), \"white\", muted(\"red\")))\n",
    "            )\n",
    "            \n",
    "        } else {\n",
    "            Heatmap(\n",
    "                t(X[.genes, ]) %>% scale(),\n",
    "    #             t(X[.genes, ]),\n",
    "    #             show_column_names = FALSE,\n",
    "                show_heatmap_legend = FALSE,\n",
    "                column_title = .cluster,\n",
    "                heatmap_legend_param = list(direction = \"horizontal\"),\n",
    "                col = colorRamp2(c(-2, 0, 2), c(muted('blue'), \"white\", muted(\"red\")))\n",
    "            )\n",
    "            \n",
    "        }\n",
    "    }) %>% \n",
    "        purrr::reduce(`+`)\n",
    "    \n",
    "})\n",
    "\n",
    "\n",
    "\n",
    "h3 <- grid.grabExpr(draw(h3, merge_legend = TRUE, heatmap_legend_side = \"bottom\"))\n",
    "\n",
    "# h3 <- grid.grabExpr(draw(h3))\n",
    "p1 <- wrap_elements(full = h3)\n",
    "p1"
   ]
  },
  {
   "cell_type": "markdown",
   "metadata": {},
   "source": [
    "# Trav frequency "
   ]
  },
  {
   "cell_type": "code",
   "execution_count": null,
   "metadata": {},
   "outputs": [],
   "source": [
    "## Travaglini meta data\n",
    ".m <- fread('/data/srlab2/ik936/Roche/data/lung/Travaglini/krasnow_hlca_10x_metadata.csv')  %>% \n",
    "    subset(compartment == 'Stromal') \n",
    "\n",
    ".levels <- c(\n",
    "    'Pericyte', 'Vascular Smooth Muscle', 'Airway Smooth Muscle', \n",
    "    'Alveolar Fibroblast', 'Myofibroblast', 'Adventitial Fibroblast', \n",
    "    'Lipofibroblast', 'Fibromyocyte', 'Mesothelial'\n",
    ") %>% rev()\n"
   ]
  },
  {
   "cell_type": "code",
   "execution_count": null,
   "metadata": {},
   "outputs": [],
   "source": [
    "plt_df <- rbind(\n",
    "    .m %>% \n",
    "        with(prop.table(table(free_annotation))) %>% \n",
    "        data.table() %>% \n",
    "        cbind(patient = 'Total') %>% \n",
    "        dplyr::select(patient, free_annotation, N),\n",
    "    .m %>% \n",
    "        with(prop.table(table(free_annotation, patient), 2)) %>% \n",
    "        data.table() %>% \n",
    "        dplyr::mutate(patient = paste('Donor #', patient)) %>% \n",
    "        dplyr::select(patient, free_annotation, N)\n",
    ") \n",
    "\n",
    "\n",
    "p2 <- plt_df %>% \n",
    "    dplyr::mutate(free_annotation = factor(free_annotation, .levels)) %>% \n",
    "    ggplot(aes(paste0('Donor# ', patient), 100*N, fill = free_annotation)) + \n",
    "        geom_bar(stat = 'identity') + \n",
    "#         scale_fill_manual(values = palette_global[names(x1)]) + \n",
    "        scale_fill_tableau() + \n",
    "        coord_flip() + \n",
    "        theme(\n",
    "            legend.position = 'bottom',\n",
    "            axis.title.y = element_blank(),\n",
    "            legend.text = element_text(size = 8),\n",
    "#             legend.title = element_text(size = 10)\n",
    "            legend.title = element_blank()\n",
    "        ) + \n",
    "        scale_y_continuous(breaks = c(seq(0, 100, by = 10))) + \n",
    "        geom_hline(yintercept = 97.5, linetype = 2) + \n",
    "        labs(title = 'Clusters Frequencies in Travaglini dataset', y = '% of non-endothelial stromal cells') + \n",
    "        NULL\n",
    "\n",
    "fig.size(4, 8)\n",
    "p2\n"
   ]
  },
  {
   "cell_type": "markdown",
   "metadata": {},
   "source": [
    "# Adams frequency barplot"
   ]
  },
  {
   "cell_type": "code",
   "execution_count": null,
   "metadata": {},
   "outputs": [],
   "source": [
    "x1 <- subset(obj$meta_data, Tissue == 'Lung') %>% with(prop.table(table(Cluster_name)))\n",
    "x2 <- adams$meta_data %>% with(prop.table(table(Cluster)))\n",
    "\n",
    "p4 <- tibble(Adams = as.numeric(x2[names(x1)]), `Fibroblast Atlas` = as.numeric(x1), Cluster = names(x1)) %>% \n",
    "    tidyr::gather(key, val, -Cluster) %>% \n",
    "    ggplot(aes(key, 100*val, fill = Cluster)) + \n",
    "        geom_bar(stat = 'identity') + \n",
    "        scale_fill_manual(values = palette_global[names(x1)]) + \n",
    "        coord_flip() + \n",
    "        theme(\n",
    "            legend.position = 'bottom',\n",
    "            axis.title.y = element_blank(),\n",
    "            legend.text = element_text(size = 8),\n",
    "#             legend.title = element_text(size = 10)\n",
    "            legend.title = element_blank()\n",
    "        ) + \n",
    "        labs(y = 'Relative Frequency') + \n",
    "        NULL\n",
    "fig.size(3, 8)\n",
    "p4"
   ]
  },
  {
   "cell_type": "markdown",
   "metadata": {},
   "source": [
    "# Adams differential frequency plots"
   ]
  },
  {
   "cell_type": "code",
   "execution_count": null,
   "metadata": {},
   "outputs": [],
   "source": [
    "prop_df <- data.table(adams$meta_data)[\n",
    "    , Ntotal := .N, by = .(Subject_Identity)    \n",
    "][\n",
    "    , .N, by = .(Cluster, Subject_Identity, Ntotal)\n",
    "][\n",
    "    , prop := N / Ntotal\n",
    "][] %>% \n",
    "    dplyr::select(Cluster, Subject_Identity, prop) %>% \n",
    "    tidyr::spread(Subject_Identity, prop, fill = 0) %>% \n",
    "    tidyr::gather(Subject_Identity, prop, -Cluster) %>% \n",
    "    dplyr::left_join(unique(dplyr::select(adams$meta_data, Subject_Identity, Disease_Identity)))"
   ]
  },
  {
   "cell_type": "code",
   "execution_count": null,
   "metadata": {},
   "outputs": [],
   "source": [
    "fig.size(8, 10)\n",
    "plt_df <- prop_df %>% \n",
    "#     subset(grepl('C13|C4|C11', Cluster)) %>% \n",
    "    left_join(adams$frequencies) %>% \n",
    "    dplyr::mutate(LABEL = sprintf('%s\\n(fdr=%0.3f)', Cluster, padj)) \n",
    "#     dplyr::mutate(Cluster = factor(Cluster, c('SPARC+COL3A1+ C4', 'MYH11+ C13', 'C3', 'CXCL10+CCL19+ C11'))) %>% \n",
    "#     dplyr::mutate(LABEL = factor(LABEL, . %>% ) \n",
    "\n",
    "plt_levels <- plt_df %>% dplyr::select(LABEL, padj) %>% unique() %>% arrange(padj) %>% with(LABEL)\n",
    "\n",
    "p5 <- plt_df %>% \n",
    "    dplyr::mutate(LABEL = factor(LABEL, plt_levels)) %>% \n",
    "    ggplot(aes(Disease_Identity, 100 * prop)) + \n",
    "        geom_violin() + \n",
    "        geom_jitter(width = .2, height = 0, shape = 21) + \n",
    "        facet_wrap(~LABEL, scales = 'free_y', nrow = 4) + \n",
    "        labs(y = '% of total fibroblasts') + \n",
    "        theme(\n",
    "            axis.title.x = element_blank(),\n",
    "            strip.text = element_text(size = 8)\n",
    "        )\n",
    "\n",
    "\n",
    "pg <- ggplotGrob(p5)\n",
    "\n",
    "for(i in which(grepl(\"^strip\", pg$layout$name))){\n",
    "  pg$grobs[[i]]$layout$clip <- \"off\"\n",
    "}\n",
    "\n",
    "p5 <- wrap_elements(pg)\n",
    "p5\n",
    "# p5 <- grid::grid.draw(pg)"
   ]
  },
  {
   "cell_type": "markdown",
   "metadata": {},
   "source": [
    "# Adams heatmap - marker comparison\n"
   ]
  },
  {
   "cell_type": "code",
   "execution_count": null,
   "metadata": {},
   "outputs": [],
   "source": [
    "beta_thresh <- log(2)\n",
    "plt_df <- inner_join(\n",
    "     adams$effects %>% \n",
    "        dplyr::select(-contrast),\n",
    "    obj$effects_nested %>% \n",
    "#         left_join(unique(dplyr::select(obj$meta_data, matches('^Cluster')))) %>% \n",
    "        subset(Tissue == 'Lung') %>% \n",
    "        dplyr::select(-contrast),\n",
    "    by = c('feature'), \n",
    "    suffix = c('_adams', '_roche')\n",
    ") \n",
    "\n",
    "cor_df <- split(plt_df, plt_df$Cluster_adams) %>% imap(function(.SD, .cluster_adams) {\n",
    "        split(.SD, .SD$Cluster_roche) %>% imap(function(.SE, .cluster_roche) {\n",
    "            .SE %>% \n",
    "                dplyr::mutate(LABEL = case_when(\n",
    "                    (abs(beta_roche) > beta_thresh & abs(zscore_roche) > 1.96) | \n",
    "                    (abs(beta_adams) > beta_thresh & abs(zscore_adams) > 1.96) ~ 'yes', \n",
    "                    TRUE ~ 'no'\n",
    "                )) %>% \n",
    "                subset(LABEL == 'yes') %>% \n",
    "                with(cor.test(~beta_roche + beta_adams)) %>% \n",
    "                broom::tidy() %>% \n",
    "                cbind(Cluster_roche = .cluster_roche)\n",
    "        }) %>% \n",
    "            bind_rows() %>% \n",
    "            cbind(Cluster_adams = .cluster_adams)\n",
    "    }) %>% \n",
    "    bind_rows()\n",
    "\n",
    "\n",
    "cormat <- cor_df %>% \n",
    "    dplyr::select(estimate, matches('^Cluster')) %>% \n",
    "    tidyr::spread(Cluster_roche, estimate) %>% \n",
    "    tibble::column_to_rownames('Cluster_adams') "
   ]
  },
  {
   "cell_type": "code",
   "execution_count": null,
   "metadata": {},
   "outputs": [],
   "source": [
    "data.table(cor_df)[, .SD[order(-estimate)][1], by = Cluster_roche] %>% with(quantile(estimate, c(0, 1)))\n",
    "# %>% with(sd(estimate))\n",
    "# with(mean(estimate))"
   ]
  },
  {
   "cell_type": "code",
   "execution_count": null,
   "metadata": {},
   "outputs": [],
   "source": [
    "colnames(cormat) <- paste0('C', colnames(cormat))\n",
    "rownames(cormat) <- paste0('C', rownames(cormat))"
   ]
  },
  {
   "cell_type": "code",
   "execution_count": null,
   "metadata": {},
   "outputs": [],
   "source": [
    ".order <- hclust(dist(cormat))$order"
   ]
  },
  {
   "cell_type": "code",
   "execution_count": null,
   "metadata": {},
   "outputs": [],
   "source": [
    "fig.size(8, 9)\n",
    "\n",
    "ht_opt(RESET = TRUE)\n",
    "ht_opt(\"heatmap_column_names_gp\" = gpar(fontsize = 12))\n",
    "\n",
    "h2 <- Heatmap(\n",
    "    cormat[.order, .order], \n",
    "#     cormat, \n",
    "    cluster_rows = FALSE, cluster_columns = FALSE,\n",
    "    row_title = 'Fibroblast Atlas', column_title = 'Adams',\n",
    "#     col = colorRamp2(c(-1, 0, 1), c(muted('blue'), \"white\", muted(\"red\"))),\n",
    "    use_raster = TRUE, raster_device = \"CairoJPEG\",\n",
    "    name = 'Pearson Correlation'\n",
    ")\n",
    "\n",
    "p6 <- wrap_elements(full = grid.grabExpr(draw(h2)))\n",
    "\n",
    "p6\n"
   ]
  },
  {
   "cell_type": "markdown",
   "metadata": {},
   "source": [
    "# Panels"
   ]
  },
  {
   "cell_type": "code",
   "execution_count": null,
   "metadata": {},
   "outputs": [],
   "source": [
    "fig.size(12, 12)\n",
    "fig <- (\n",
    "    p1  / \n",
    "    (\n",
    "        (\n",
    "            (\n",
    "                (wrap_elements(full = p2) /  wrap_elements(full = p4)) | \n",
    "                p5\n",
    "            )  + \n",
    "                plot_layout(widths = c(1.4, 1))\n",
    "            \n",
    "        )\n",
    "    ) / \n",
    "    p6\n",
    ") + \n",
    "plot_layout(heights = c(.6, 1.3, .7)) + \n",
    "plot_annotation(tag_levels = 'a')\n",
    "\n",
    "fig"
   ]
  },
  {
   "cell_type": "code",
   "execution_count": null,
   "metadata": {},
   "outputs": [],
   "source": [
    "ggsave(\n",
    "    filename = '/data/srlab2/ik936/Roche/manuscript/figures/SuppFigure8.pdf', \n",
    "    plot = fig, \n",
    "    units = 'in', device = 'pdf', \n",
    "    height = 12, width = 12,\n",
    "    useDingbats = FALSE\n",
    ")\n",
    "\n",
    "\n",
    "ggsave(\n",
    "    filename = '/data/srlab2/ik936/Roche/manuscript/figures/SuppFigure8.png', \n",
    "    plot = fig, \n",
    "    units = 'in', device = 'png', \n",
    "    height = 12, width = 12\n",
    ")\n"
   ]
  },
  {
   "cell_type": "code",
   "execution_count": null,
   "metadata": {},
   "outputs": [],
   "source": []
  },
  {
   "cell_type": "raw",
   "metadata": {},
   "source": []
  }
 ],
 "metadata": {
  "kernelspec": {
   "display_name": "R",
   "language": "R",
   "name": "ir"
  },
  "language_info": {
   "codemirror_mode": "r",
   "file_extension": ".r",
   "mimetype": "text/x-r-source",
   "name": "R",
   "pygments_lexer": "r",
   "version": "4.0.3"
  }
 },
 "nbformat": 4,
 "nbformat_minor": 4
}
