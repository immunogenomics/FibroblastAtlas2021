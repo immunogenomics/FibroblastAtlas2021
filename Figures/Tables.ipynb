{
 "cells": [
  {
   "cell_type": "code",
   "execution_count": 1,
   "metadata": {},
   "outputs": [],
   "source": [
    "suppressPackageStartupMessages({\n",
    "    source('../libs.R')\n",
    "    source('../utils.R')    \n",
    "#     source('../utils_mapping.R')\n",
    "})\n"
   ]
  },
  {
   "cell_type": "code",
   "execution_count": 2,
   "metadata": {},
   "outputs": [],
   "source": [
    "dname <- '/data/srlab2/ik936/Roche/data/cache/obj_fibroblasts/'\n",
    "fields_load <- c('gsea', 'masc', 'masc_meta', 'effects_marginal', 'meta_data', 'effects_nested')\n",
    "fib <- map(fields_load, function(name) {\n",
    "    readRDS(file.path(dname, paste0(name, '.rds')))\n",
    "})\n",
    "names(fib) <- fields_load\n"
   ]
  },
  {
   "cell_type": "markdown",
   "metadata": {},
   "source": [
    "# AHCA/TS Markers (*) "
   ]
  },
  {
   "cell_type": "code",
   "execution_count": 3,
   "metadata": {},
   "outputs": [],
   "source": [
    "## Adult Human Cell Atlas\n",
    "effects_ahca <- readRDS('/data/srlab2/ik936/Roche/data/AdultHumanCellAtlas/cache/presto_cluster_nested.rds')\n",
    "effects_ahca$padj <- p.adjust(effects_ahca$pvalue, 'BH')\n",
    "effects_ahca$contrast <- gsub('mesenchymal', 'fibroblast', effects_ahca$contrast)\n",
    "effects_ahca$Cluster <- gsub('mesenchymal', 'fibroblast', effects_ahca$Cluster)\n",
    "\n",
    "effects_ts <- readRDS('/data/srlab2/ik936/Roche/data/tabula_sapiens/presto_cluster_nested.rds')\n",
    "effects_ts$padj <- p.adjust(effects_ts$pvalue, 'BH')\n"
   ]
  },
  {
   "cell_type": "code",
   "execution_count": 4,
   "metadata": {},
   "outputs": [
    {
     "data": {
      "text/html": [
       "936"
      ],
      "text/latex": [
       "936"
      ],
      "text/markdown": [
       "936"
      ],
      "text/plain": [
       "[1] 936"
      ]
     },
     "metadata": {},
     "output_type": "display_data"
    }
   ],
   "source": [
    "genes_ts <- data.table(effects_ts)[\n",
    "    ## marker is upregulated in all tissues for that cluster\n",
    "    , sum(padj < .05 & beta > 0), by = .(Cluster, feature)\n",
    "][V1 == 1 & Cluster == 'Stromal', feature]\n",
    "genes_ahca <- data.table(effects_ahca)[\n",
    "    ## marker is upregulated in all tissues for that cluster\n",
    "    , sum(padj < .05 & beta > 0), by = .(Cluster, feature)\n",
    "][V1 == 1 & Cluster == 'Stromal', feature]\n",
    "genes <- union(genes_ts, genes_ahca)\n",
    "length(genes)"
   ]
  },
  {
   "cell_type": "code",
   "execution_count": 5,
   "metadata": {},
   "outputs": [],
   "source": [
    ".x_ts <- effects_ts %>% \n",
    "    subset(Cluster == 'Stromal') %>% \n",
    "    subset(beta > 0 & padj < .05) %>% \n",
    "    split(.$feature) %>% \n",
    "    map(function(.SD) {\n",
    "        data.frame(\n",
    "            tissues_ts = paste(.SD$Tissue, collapse = ';'),\n",
    "            ntissues_ts = nrow(.SD)\n",
    "        )\n",
    "    }) %>% \n",
    "    bind_rows(.id = 'feature') %>% \n",
    "    dplyr::arrange(-ntissues_ts)\n"
   ]
  },
  {
   "cell_type": "code",
   "execution_count": 6,
   "metadata": {},
   "outputs": [],
   "source": [
    ".x_ahca <- effects_ahca %>% \n",
    "    subset(Cluster == 'fibroblast') %>% \n",
    "    subset(beta > 0 & padj < .05) %>% \n",
    "    split(.$feature) %>% \n",
    "    map(function(.SD) {\n",
    "        data.frame(\n",
    "            tissues_ahca = paste(.SD$tissue, collapse = ';'),\n",
    "            ntissues_ahca = nrow(.SD)\n",
    "        )\n",
    "    }) %>% \n",
    "    bind_rows(.id = 'feature') %>% \n",
    "    dplyr::arrange(-ntissues_ahca)\n"
   ]
  },
  {
   "cell_type": "code",
   "execution_count": 7,
   "metadata": {},
   "outputs": [
    {
     "data": {
      "text/html": [
       "<table class=\"dataframe\">\n",
       "<caption>A data.frame: 6 × 5</caption>\n",
       "<thead>\n",
       "\t<tr><th></th><th scope=col>feature</th><th scope=col>tissues_ahca</th><th scope=col>ntissues_ahca</th><th scope=col>tissues_ts</th><th scope=col>ntissues_ts</th></tr>\n",
       "\t<tr><th></th><th scope=col>&lt;chr&gt;</th><th scope=col>&lt;chr&gt;</th><th scope=col>&lt;int&gt;</th><th scope=col>&lt;chr&gt;</th><th scope=col>&lt;int&gt;</th></tr>\n",
       "</thead>\n",
       "<tbody>\n",
       "\t<tr><th scope=row>1</th><td>ADAMTS12 </td><td>Esophagus;Skin;Bladder;Rectum;Heart;Trachea;Muscle</td><td>7</td><td>Muscle;Large_Intestine;Lung;Trachea;Vasculature;Thymus;Bladder</td><td>7</td></tr>\n",
       "\t<tr><th scope=row>2</th><td>ADCYAP1R1</td><td>Esophagus;Bladder;Rectum;Trachea;Heart;Skin;Muscle</td><td>7</td><td>Thymus;Large_Intestine;Bladder;Trachea;Lung;Muscle;Vasculature</td><td>7</td></tr>\n",
       "\t<tr><th scope=row>3</th><td>AGTR1    </td><td>Esophagus;Skin;Heart;Bladder;Trachea;Rectum;Muscle</td><td>7</td><td>Thymus;Large_Intestine;Lung;Trachea;Bladder;Muscle;Vasculature</td><td>7</td></tr>\n",
       "\t<tr><th scope=row>4</th><td>ANGPTL5  </td><td>Skin;Heart;Trachea;Esophagus;Rectum;Bladder;Muscle</td><td>7</td><td>Bladder;Large_Intestine;Lung;Muscle;Thymus;Trachea;Vasculature</td><td>7</td></tr>\n",
       "\t<tr><th scope=row>5</th><td>CACNA2D1 </td><td>Esophagus;Heart;Muscle;Trachea;Bladder;Rectum;Skin</td><td>7</td><td>Thymus;Trachea;Bladder;Lung;Vasculature;Muscle;Large_Intestine</td><td>7</td></tr>\n",
       "\t<tr><th scope=row>6</th><td>CEP126   </td><td>Esophagus;Skin;Heart;Muscle;Bladder;Rectum;Trachea</td><td>7</td><td>Thymus;Bladder;Vasculature;Trachea;Muscle;Large_Intestine;Lung</td><td>7</td></tr>\n",
       "</tbody>\n",
       "</table>\n"
      ],
      "text/latex": [
       "A data.frame: 6 × 5\n",
       "\\begin{tabular}{r|lllll}\n",
       "  & feature & tissues\\_ahca & ntissues\\_ahca & tissues\\_ts & ntissues\\_ts\\\\\n",
       "  & <chr> & <chr> & <int> & <chr> & <int>\\\\\n",
       "\\hline\n",
       "\t1 & ADAMTS12  & Esophagus;Skin;Bladder;Rectum;Heart;Trachea;Muscle & 7 & Muscle;Large\\_Intestine;Lung;Trachea;Vasculature;Thymus;Bladder & 7\\\\\n",
       "\t2 & ADCYAP1R1 & Esophagus;Bladder;Rectum;Trachea;Heart;Skin;Muscle & 7 & Thymus;Large\\_Intestine;Bladder;Trachea;Lung;Muscle;Vasculature & 7\\\\\n",
       "\t3 & AGTR1     & Esophagus;Skin;Heart;Bladder;Trachea;Rectum;Muscle & 7 & Thymus;Large\\_Intestine;Lung;Trachea;Bladder;Muscle;Vasculature & 7\\\\\n",
       "\t4 & ANGPTL5   & Skin;Heart;Trachea;Esophagus;Rectum;Bladder;Muscle & 7 & Bladder;Large\\_Intestine;Lung;Muscle;Thymus;Trachea;Vasculature & 7\\\\\n",
       "\t5 & CACNA2D1  & Esophagus;Heart;Muscle;Trachea;Bladder;Rectum;Skin & 7 & Thymus;Trachea;Bladder;Lung;Vasculature;Muscle;Large\\_Intestine & 7\\\\\n",
       "\t6 & CEP126    & Esophagus;Skin;Heart;Muscle;Bladder;Rectum;Trachea & 7 & Thymus;Bladder;Vasculature;Trachea;Muscle;Large\\_Intestine;Lung & 7\\\\\n",
       "\\end{tabular}\n"
      ],
      "text/markdown": [
       "\n",
       "A data.frame: 6 × 5\n",
       "\n",
       "| <!--/--> | feature &lt;chr&gt; | tissues_ahca &lt;chr&gt; | ntissues_ahca &lt;int&gt; | tissues_ts &lt;chr&gt; | ntissues_ts &lt;int&gt; |\n",
       "|---|---|---|---|---|---|\n",
       "| 1 | ADAMTS12  | Esophagus;Skin;Bladder;Rectum;Heart;Trachea;Muscle | 7 | Muscle;Large_Intestine;Lung;Trachea;Vasculature;Thymus;Bladder | 7 |\n",
       "| 2 | ADCYAP1R1 | Esophagus;Bladder;Rectum;Trachea;Heart;Skin;Muscle | 7 | Thymus;Large_Intestine;Bladder;Trachea;Lung;Muscle;Vasculature | 7 |\n",
       "| 3 | AGTR1     | Esophagus;Skin;Heart;Bladder;Trachea;Rectum;Muscle | 7 | Thymus;Large_Intestine;Lung;Trachea;Bladder;Muscle;Vasculature | 7 |\n",
       "| 4 | ANGPTL5   | Skin;Heart;Trachea;Esophagus;Rectum;Bladder;Muscle | 7 | Bladder;Large_Intestine;Lung;Muscle;Thymus;Trachea;Vasculature | 7 |\n",
       "| 5 | CACNA2D1  | Esophagus;Heart;Muscle;Trachea;Bladder;Rectum;Skin | 7 | Thymus;Trachea;Bladder;Lung;Vasculature;Muscle;Large_Intestine | 7 |\n",
       "| 6 | CEP126    | Esophagus;Skin;Heart;Muscle;Bladder;Rectum;Trachea | 7 | Thymus;Bladder;Vasculature;Trachea;Muscle;Large_Intestine;Lung | 7 |\n",
       "\n"
      ],
      "text/plain": [
       "  feature   tissues_ahca                                       ntissues_ahca\n",
       "1 ADAMTS12  Esophagus;Skin;Bladder;Rectum;Heart;Trachea;Muscle 7            \n",
       "2 ADCYAP1R1 Esophagus;Bladder;Rectum;Trachea;Heart;Skin;Muscle 7            \n",
       "3 AGTR1     Esophagus;Skin;Heart;Bladder;Trachea;Rectum;Muscle 7            \n",
       "4 ANGPTL5   Skin;Heart;Trachea;Esophagus;Rectum;Bladder;Muscle 7            \n",
       "5 CACNA2D1  Esophagus;Heart;Muscle;Trachea;Bladder;Rectum;Skin 7            \n",
       "6 CEP126    Esophagus;Skin;Heart;Muscle;Bladder;Rectum;Trachea 7            \n",
       "  tissues_ts                                                     ntissues_ts\n",
       "1 Muscle;Large_Intestine;Lung;Trachea;Vasculature;Thymus;Bladder 7          \n",
       "2 Thymus;Large_Intestine;Bladder;Trachea;Lung;Muscle;Vasculature 7          \n",
       "3 Thymus;Large_Intestine;Lung;Trachea;Bladder;Muscle;Vasculature 7          \n",
       "4 Bladder;Large_Intestine;Lung;Muscle;Thymus;Trachea;Vasculature 7          \n",
       "5 Thymus;Trachea;Bladder;Lung;Vasculature;Muscle;Large_Intestine 7          \n",
       "6 Thymus;Bladder;Vasculature;Trachea;Muscle;Large_Intestine;Lung 7          "
      ]
     },
     "metadata": {},
     "output_type": "display_data"
    }
   ],
   "source": [
    "table_ts_ahca <- full_join(.x_ahca, .x_ts, by = 'feature') %>% \n",
    "    dplyr::arrange(-(ntissues_ts + ntissues_ahca)) \n",
    "\n",
    "head(table_ts_ahca)\n"
   ]
  },
  {
   "cell_type": "markdown",
   "metadata": {},
   "source": [
    "# Clinical tables"
   ]
  },
  {
   "cell_type": "code",
   "execution_count": 8,
   "metadata": {},
   "outputs": [
    {
     "name": "stderr",
     "output_type": "stream",
     "text": [
      "Joining, by = \"LibraryID\"\n",
      "\n",
      "Joining, by = \"LibraryID\"\n",
      "\n",
      "Joining, by = \"LibraryID\"\n",
      "\n",
      "Joining, by = \"LibraryID\"\n",
      "\n"
     ]
    },
    {
     "data": {
      "text/html": [
       "<ol>\n",
       "\t<li><table class=\"dataframe\">\n",
       "<caption>A data.frame: 2 × 7</caption>\n",
       "<thead>\n",
       "\t<tr><th></th><th scope=col>Sample.ID</th><th scope=col>Condition</th><th scope=col>Sex</th><th scope=col>Age</th><th scope=col>Joint</th><th scope=col>Seropositivity</th><th scope=col>Treatment</th></tr>\n",
       "\t<tr><th></th><th scope=col>&lt;chr&gt;</th><th scope=col>&lt;chr&gt;</th><th scope=col>&lt;chr&gt;</th><th scope=col>&lt;dbl&gt;</th><th scope=col>&lt;chr&gt;</th><th scope=col>&lt;chr&gt;</th><th scope=col>&lt;chr&gt;</th></tr>\n",
       "</thead>\n",
       "<tbody>\n",
       "\t<tr><th scope=row>1</th><td>Synovium1</td><td>RA</td><td>M</td><td>43</td><td>knee</td><td>Seropositive</td><td>MTX15;HCQ200;LEF20</td></tr>\n",
       "\t<tr><th scope=row>2</th><td>Synovium2</td><td>RA</td><td>M</td><td>77</td><td>knee</td><td>Seropositive</td><td>MTX20;lHCQ400     </td></tr>\n",
       "</tbody>\n",
       "</table>\n",
       "</li>\n",
       "\t<li><table class=\"dataframe\">\n",
       "<caption>A data.frame: 2 × 6</caption>\n",
       "<thead>\n",
       "\t<tr><th></th><th scope=col>SampleID</th><th scope=col>Diagnosis</th><th scope=col>Age</th><th scope=col>Sex</th><th scope=col>Serology</th><th scope=col>Treatment</th></tr>\n",
       "\t<tr><th></th><th scope=col>&lt;chr&gt;</th><th scope=col>&lt;chr&gt;</th><th scope=col>&lt;dbl&gt;</th><th scope=col>&lt;chr&gt;</th><th scope=col>&lt;chr&gt;</th><th scope=col>&lt;chr&gt;</th></tr>\n",
       "</thead>\n",
       "<tbody>\n",
       "\t<tr><th scope=row>1</th><td>Lung1</td><td>Control</td><td>NA</td><td>NA</td><td>negative</td><td>none</td></tr>\n",
       "\t<tr><th scope=row>2</th><td>Lung2</td><td>Control</td><td>NA</td><td>NA</td><td>negative</td><td>none</td></tr>\n",
       "</tbody>\n",
       "</table>\n",
       "</li>\n",
       "\t<li><table class=\"dataframe\">\n",
       "<caption>A data.frame: 2 × 7</caption>\n",
       "<thead>\n",
       "\t<tr><th></th><th scope=col>SampleID</th><th scope=col>Sex</th><th scope=col>Diagnosis</th><th scope=col>Presence_of_antiRo_antibodies</th><th scope=col>Focus_score</th><th scope=col>Histology</th><th scope=col>Treatment</th></tr>\n",
       "\t<tr><th></th><th scope=col>&lt;chr&gt;</th><th scope=col>&lt;chr&gt;</th><th scope=col>&lt;chr&gt;</th><th scope=col>&lt;chr&gt;</th><th scope=col>&lt;dbl&gt;</th><th scope=col>&lt;chr&gt;</th><th scope=col>&lt;chr&gt;</th></tr>\n",
       "</thead>\n",
       "<tbody>\n",
       "\t<tr><th scope=row>1</th><td>SalivaryGland1</td><td>F</td><td>PSS</td><td>Neg </td><td>1.74</td><td>FLS. Mild focal fibrosis.</td><td>none</td></tr>\n",
       "\t<tr><th scope=row>2</th><td>SalivaryGland2</td><td>M</td><td>PSS</td><td>Neg </td><td>2.78</td><td>FLS. Mild focal fibrosis.</td><td>none</td></tr>\n",
       "</tbody>\n",
       "</table>\n",
       "</li>\n",
       "\t<li><table class=\"dataframe\">\n",
       "<caption>A data.frame: 2 × 8</caption>\n",
       "<thead>\n",
       "\t<tr><th></th><th scope=col>SampleID</th><th scope=col>DonorID</th><th scope=col>Status</th><th scope=col>YOB</th><th scope=col>Sex</th><th scope=col>Nancy</th><th scope=col>Location</th><th scope=col>Treatment</th></tr>\n",
       "\t<tr><th></th><th scope=col>&lt;chr&gt;</th><th scope=col>&lt;chr&gt;</th><th scope=col>&lt;chr&gt;</th><th scope=col>&lt;dbl&gt;</th><th scope=col>&lt;chr&gt;</th><th scope=col>&lt;dbl&gt;</th><th scope=col>&lt;chr&gt;</th><th scope=col>&lt;chr&gt;</th></tr>\n",
       "</thead>\n",
       "<tbody>\n",
       "\t<tr><th scope=row>1</th><td>Gut1</td><td>GutDonor1</td><td>Healthy</td><td>1998</td><td>female</td><td>NA</td><td>Ascending colon </td><td>unknown</td></tr>\n",
       "\t<tr><th scope=row>2</th><td>Gut2</td><td>GutDonor2</td><td>Healthy</td><td>1946</td><td>female</td><td>NA</td><td>Sigmoid colon   </td><td>unknown</td></tr>\n",
       "</tbody>\n",
       "</table>\n",
       "</li>\n",
       "</ol>\n"
      ],
      "text/latex": [
       "\\begin{enumerate}\n",
       "\\item A data.frame: 2 × 7\n",
       "\\begin{tabular}{r|lllllll}\n",
       "  & Sample.ID & Condition & Sex & Age & Joint & Seropositivity & Treatment\\\\\n",
       "  & <chr> & <chr> & <chr> & <dbl> & <chr> & <chr> & <chr>\\\\\n",
       "\\hline\n",
       "\t1 & Synovium1 & RA & M & 43 & knee & Seropositive & MTX15;HCQ200;LEF20\\\\\n",
       "\t2 & Synovium2 & RA & M & 77 & knee & Seropositive & MTX20;lHCQ400     \\\\\n",
       "\\end{tabular}\n",
       "\n",
       "\\item A data.frame: 2 × 6\n",
       "\\begin{tabular}{r|llllll}\n",
       "  & SampleID & Diagnosis & Age & Sex & Serology & Treatment\\\\\n",
       "  & <chr> & <chr> & <dbl> & <chr> & <chr> & <chr>\\\\\n",
       "\\hline\n",
       "\t1 & Lung1 & Control & NA & NA & negative & none\\\\\n",
       "\t2 & Lung2 & Control & NA & NA & negative & none\\\\\n",
       "\\end{tabular}\n",
       "\n",
       "\\item A data.frame: 2 × 7\n",
       "\\begin{tabular}{r|lllllll}\n",
       "  & SampleID & Sex & Diagnosis & Presence\\_of\\_antiRo\\_antibodies & Focus\\_score & Histology & Treatment\\\\\n",
       "  & <chr> & <chr> & <chr> & <chr> & <dbl> & <chr> & <chr>\\\\\n",
       "\\hline\n",
       "\t1 & SalivaryGland1 & F & PSS & Neg  & 1.74 & FLS. Mild focal fibrosis. & none\\\\\n",
       "\t2 & SalivaryGland2 & M & PSS & Neg  & 2.78 & FLS. Mild focal fibrosis. & none\\\\\n",
       "\\end{tabular}\n",
       "\n",
       "\\item A data.frame: 2 × 8\n",
       "\\begin{tabular}{r|llllllll}\n",
       "  & SampleID & DonorID & Status & YOB & Sex & Nancy & Location & Treatment\\\\\n",
       "  & <chr> & <chr> & <chr> & <dbl> & <chr> & <dbl> & <chr> & <chr>\\\\\n",
       "\\hline\n",
       "\t1 & Gut1 & GutDonor1 & Healthy & 1998 & female & NA & Ascending colon  & unknown\\\\\n",
       "\t2 & Gut2 & GutDonor2 & Healthy & 1946 & female & NA & Sigmoid colon    & unknown\\\\\n",
       "\\end{tabular}\n",
       "\n",
       "\\end{enumerate}\n"
      ],
      "text/markdown": [
       "1. \n",
       "A data.frame: 2 × 7\n",
       "\n",
       "| <!--/--> | Sample.ID &lt;chr&gt; | Condition &lt;chr&gt; | Sex &lt;chr&gt; | Age &lt;dbl&gt; | Joint &lt;chr&gt; | Seropositivity &lt;chr&gt; | Treatment &lt;chr&gt; |\n",
       "|---|---|---|---|---|---|---|---|\n",
       "| 1 | Synovium1 | RA | M | 43 | knee | Seropositive | MTX15;HCQ200;LEF20 |\n",
       "| 2 | Synovium2 | RA | M | 77 | knee | Seropositive | MTX20;lHCQ400      |\n",
       "\n",
       "\n",
       "2. \n",
       "A data.frame: 2 × 6\n",
       "\n",
       "| <!--/--> | SampleID &lt;chr&gt; | Diagnosis &lt;chr&gt; | Age &lt;dbl&gt; | Sex &lt;chr&gt; | Serology &lt;chr&gt; | Treatment &lt;chr&gt; |\n",
       "|---|---|---|---|---|---|---|\n",
       "| 1 | Lung1 | Control | NA | NA | negative | none |\n",
       "| 2 | Lung2 | Control | NA | NA | negative | none |\n",
       "\n",
       "\n",
       "3. \n",
       "A data.frame: 2 × 7\n",
       "\n",
       "| <!--/--> | SampleID &lt;chr&gt; | Sex &lt;chr&gt; | Diagnosis &lt;chr&gt; | Presence_of_antiRo_antibodies &lt;chr&gt; | Focus_score &lt;dbl&gt; | Histology &lt;chr&gt; | Treatment &lt;chr&gt; |\n",
       "|---|---|---|---|---|---|---|---|\n",
       "| 1 | SalivaryGland1 | F | PSS | Neg  | 1.74 | FLS. Mild focal fibrosis. | none |\n",
       "| 2 | SalivaryGland2 | M | PSS | Neg  | 2.78 | FLS. Mild focal fibrosis. | none |\n",
       "\n",
       "\n",
       "4. \n",
       "A data.frame: 2 × 8\n",
       "\n",
       "| <!--/--> | SampleID &lt;chr&gt; | DonorID &lt;chr&gt; | Status &lt;chr&gt; | YOB &lt;dbl&gt; | Sex &lt;chr&gt; | Nancy &lt;dbl&gt; | Location &lt;chr&gt; | Treatment &lt;chr&gt; |\n",
       "|---|---|---|---|---|---|---|---|---|\n",
       "| 1 | Gut1 | GutDonor1 | Healthy | 1998 | female | NA | Ascending colon  | unknown |\n",
       "| 2 | Gut2 | GutDonor2 | Healthy | 1946 | female | NA | Sigmoid colon    | unknown |\n",
       "\n",
       "\n",
       "\n",
       "\n"
      ],
      "text/plain": [
       "[[1]]\n",
       "  Sample.ID Condition Sex Age Joint Seropositivity          Treatment\n",
       "1 Synovium1        RA   M  43  knee   Seropositive MTX15;HCQ200;LEF20\n",
       "2 Synovium2        RA   M  77  knee   Seropositive      MTX20;lHCQ400\n",
       "\n",
       "[[2]]\n",
       "  SampleID Diagnosis Age  Sex Serology Treatment\n",
       "1    Lung1   Control  NA <NA> negative      none\n",
       "2    Lung2   Control  NA <NA> negative      none\n",
       "\n",
       "[[3]]\n",
       "        SampleID Sex Diagnosis Presence_of_antiRo_antibodies Focus_score\n",
       "1 SalivaryGland1   F       PSS                          Neg         1.74\n",
       "2 SalivaryGland2   M       PSS                           Neg        2.78\n",
       "                  Histology Treatment\n",
       "1 FLS. Mild focal fibrosis.      none\n",
       "2 FLS. Mild focal fibrosis.      none\n",
       "\n",
       "[[4]]\n",
       "  SampleID   DonorID  Status  YOB    Sex Nancy         Location Treatment\n",
       "1     Gut1 GutDonor1 Healthy 1998 female    NA Ascending colon    unknown\n",
       "2     Gut2 GutDonor2 Healthy 1946 female    NA    Sigmoid colon   unknown\n"
      ]
     },
     "metadata": {},
     "output_type": "display_data"
    }
   ],
   "source": [
    "fname <- '/data/srlab2/ik936/Roche/manuscript/tables/clinical_tables.xlsx'\n",
    "rx_df <- readRDS('/data/srlab2/ik936/Roche/data/clinical/treatment_r2c23.rds')\n",
    "clin_tables <- map(openxlsx::getSheetNames(fname), openxlsx::readWorkbook, xlsxFile = fname) %>% \n",
    "    map(left_join, rx_df) \n",
    "\n",
    "clin_tables_clean <- clin_tables %>% \n",
    "    map(dplyr::select, -LibraryID, -matches('^InternalID$|^internalSampleID$')) \n",
    "\n",
    "map(clin_tables_clean, head, 2)\n"
   ]
  },
  {
   "cell_type": "markdown",
   "metadata": {},
   "source": [
    "# Samples\n",
    "\n",
    "Only post-QC \n"
   ]
  },
  {
   "cell_type": "code",
   "execution_count": 9,
   "metadata": {},
   "outputs": [],
   "source": [
    "# t1 <- readRDS('/data/srlab2/ik936/Roche/data/cache/all_obj_all/meta_data.rds') %>% \n",
    "#     dplyr::select(\n",
    "#         CellID, Tissue, LibraryID, DonorID, \n",
    "#         Diagnosis, Technology, \n",
    "#         Lineage = joint_lineage, \n",
    "#         nUMI, nGene, percent_mito, \n",
    "#     ) \n",
    "\n",
    "# head(t1)\n"
   ]
  },
  {
   "cell_type": "code",
   "execution_count": 10,
   "metadata": {},
   "outputs": [],
   "source": [
    "# t1 <- readRDS('/data/srlab2/ik936/Roche/data/cache/all_obj_all/meta_data.rds') %>% \n",
    "#     dplyr::mutate(\n",
    "#         Diagnosis = case_when(\n",
    "#             Tissue == 'Lung' ~ Diagnosis, \n",
    "#             TRUE ~ Case\n",
    "#         )\n",
    "#     ) %>% \n",
    "#     dplyr::select(\n",
    "#         Tissue, LibraryID, DonorID, \n",
    "# #         Case, \n",
    "#         Diagnosis, \n",
    "#         Technology\n",
    "#     ) %>% \n",
    "#     unique()\n",
    "\n",
    "# head(t1)\n",
    "# nrow(t1)\n"
   ]
  },
  {
   "cell_type": "markdown",
   "metadata": {},
   "source": [
    "# inflammation scores"
   ]
  },
  {
   "cell_type": "code",
   "execution_count": 11,
   "metadata": {},
   "outputs": [],
   "source": [
    "# t3 <- readRDS('/data/srlab2/ik936/Roche/data/cache/inflam_scores_icdf.rds') %>% \n",
    "#     dplyr::select(LibraryID, Tissue, InflamScore_raw = InflamScore, InflamScore = InflamScore_beta)\n",
    "\n",
    "# head(t3)\n"
   ]
  },
  {
   "cell_type": "markdown",
   "metadata": {},
   "source": [
    "# Within-tissue DGE (*) "
   ]
  },
  {
   "cell_type": "markdown",
   "metadata": {},
   "source": [
    "## Public markers"
   ]
  },
  {
   "cell_type": "code",
   "execution_count": 12,
   "metadata": {},
   "outputs": [],
   "source": [
    "str <- 'DCN\tCD74\tASPN\tPRG4\n",
    "IGF1\tIFITM3\tDKK3\tFN1\n",
    "FBLN1\tLGALS3BP\tMAMDC2\tITGB8\n",
    "PDGFRL\tHLA-DRA\tABHD2\tCRTAC1\n",
    "SFRP1\tHLA-B\tPRELP\tHTRA1\n",
    "C3\tCXCL12\tCOL5A1\tPCSK6\n",
    "GAS6\tHLA-DPA1\tEMP1\tHBEGF\n",
    "FBLN5\tHLA-DRB1\tANGPTL1\tTHBS4\n",
    "RPL37\tPLAU\tCADM1\tTIMP3\n",
    "VCAN\tHLA-A\tFMOD\tAPLP2\n",
    "RPL35A\tIFI27\tOGN\tSMIM14\n",
    "CD34\tB2M\tPDGFRB\tNTN4\n",
    "GSN\tHLA-DPB1\tCD109\tCD55\n",
    "SERPINF1\tMDK\tMYADM\tCLIC5\n",
    "PPAP2B\tZFP36L1\tAHNAK\tC10orf105\n",
    "MFAP5\tIFI30\tVIM\tERRFI1\n",
    "PODN\tSTAT1\tCOL8A2\tCREB5\n",
    "PTGFR\tLOXL1\tCAMK1D\tBCAT1\n",
    "SFRP2\tBGN\tDPT\tFAM49A\n",
    "CFH\tC1S\tCOMP\tITGBL1\n",
    "'\n",
    "\n",
    "\n",
    "x <- strsplit(str, '\\n') %>% map(strsplit, '\\t') %>% map(data.frame)\n",
    "x <- as.data.frame(t(x[[1]])) %>% as_tibble()\n",
    "colnames(x) <- c('CD34+ sublining (SC-F1)', 'HLA-DRAhi sublining (SC-F2)', 'DKK3+ sublining (SC-F3)', 'Lining (SC-F4)')\n",
    "gs_synovium <- x %>% as.list() %>% map(as.character)\n"
   ]
  },
  {
   "cell_type": "code",
   "execution_count": 13,
   "metadata": {},
   "outputs": [],
   "source": [
    "gs_lip <- list()\n",
    "gs_lip$CD34pos <- c('TNFSF13B', 'IL7', 'CD34', 'FAP', 'ICAM1', 'VCAM1', 'PDPN', 'PDGFRA', 'PDGFRB', 'CXCL12')\n",
    "gs_lip$CD34neg <- c('LTB1', 'LTB2', 'CCL19', 'CCL21')\n",
    "\n",
    "\n",
    "x <- openxlsx::readWorkbook('/data/srlab2/ik936/Roche/data/aviv_gut/1-s2.0-S0092867419307329-mmc2.xlsx', 'Stromal') %>% \n",
    "    subset(ident %in% c(\n",
    "        'Inflammatory Fibroblasts',\n",
    "        'Myofibroblasts',\n",
    "        'RSPO3+',\n",
    "        'WNT2B+ Fos-hi',\n",
    "        'WNT2B+ Fos-lo 1',\n",
    "        'WNT2B+ Fos-lo 2',\n",
    "        'WNT5B+ 1',\n",
    "        'WNT5B+ 2'\n",
    "    )\n",
    ") %>% \n",
    "    subset(log2fc > 0) %>% \n",
    "    identity()\n",
    "# x <- data.table(x)[log2fc > 0, head(.SD[order(-log2fc)], 1), , by = gene]\n",
    "gs_gut <- split(x$gene, x$ident)\n"
   ]
  },
  {
   "cell_type": "code",
   "execution_count": 14,
   "metadata": {},
   "outputs": [],
   "source": [
    "gs_lung <- readRDS('/data/srlab2/ik936/Roche/data/cache/banovich_clusters_fibroblast_object.rds')$gs\n"
   ]
  },
  {
   "cell_type": "markdown",
   "metadata": {},
   "source": [
    "## Compile genelists "
   ]
  },
  {
   "cell_type": "code",
   "execution_count": 16,
   "metadata": {},
   "outputs": [],
   "source": [
    "gs_df <- list(\n",
    "    gs_synovium %>% map(data.frame) %>% bind_rows(.id = 'Cluster_public') %>% cbind(Tissue = 'Synovium') %>% dplyr::rename(Feature = `.x..i..`),\n",
    "    gs_gut %>% map(data.frame) %>% bind_rows(.id = 'Cluster_public') %>% cbind(Tissue = 'Gut') %>% dplyr::rename(Feature = `.x..i..`),\n",
    "    gs_lip %>% map(data.frame) %>% bind_rows(.id = 'Cluster_public') %>% cbind(Tissue = 'SalivaryGland') %>% dplyr::rename(Feature = `.x..i..`),\n",
    "    gs_lung %>% map(data.frame) %>% bind_rows(.id = 'Cluster_public') %>% cbind(Tissue = 'Lung') %>% dplyr::rename(Feature = `.x..i..`)\n",
    ") %>% \n",
    "bind_rows()\n"
   ]
  },
  {
   "cell_type": "markdown",
   "metadata": {},
   "source": [
    "## Attach to presto results "
   ]
  },
  {
   "cell_type": "code",
   "execution_count": 17,
   "metadata": {},
   "outputs": [],
   "source": [
    "t6 <- list(\n",
    "    SalivaryGland = readRDS('/data/srlab2/ik936/Roche/data/cache/salivarygland_fibroblasts_obj.rds')$presto$effects,\n",
    "    Gut = readRDS('/data/srlab2/ik936/Roche/data/cache/fibroblast_object_gut.rds')$presto$effects,\n",
    "    Lung = readRDS('/data/srlab2/ik936/Roche/data/cache/lung_fibroblasts_obj.rds')$presto$effects,\n",
    "    Synovium = readRDS('/data/srlab2/ik936/Roche/data/cache/synovium_fibroblasts_obj.rds')$presto$effects\n",
    ") %>% \n",
    "    bind_rows(.id = 'Tissue') %>% \n",
    "    subset(!Cluster %in% 'NOTCH3+ perivascular') %>%\n",
    "    dplyr::select(Cluster, Tissue, Feature = feature, LogFoldChange = beta, Sigma = sigma, Zscore = zscore, Pval = pvalue) %>% \n",
    "    subset(Pval < .1)\n"
   ]
  },
  {
   "cell_type": "code",
   "execution_count": 18,
   "metadata": {},
   "outputs": [
    {
     "name": "stderr",
     "output_type": "stream",
     "text": [
      "Joining, by = c(\"Tissue\", \"Feature\")\n",
      "\n"
     ]
    }
   ],
   "source": [
    "t6 <- data.table(left_join(t6, gs_df))[\n",
    "    , .(Cluster_public = paste(Cluster_public, collapse = ';'))\n",
    "    , by = .(Cluster, Tissue, Feature, LogFoldChange, Sigma, Zscore, Pval)\n",
    "]"
   ]
  },
  {
   "cell_type": "code",
   "execution_count": 19,
   "metadata": {},
   "outputs": [
    {
     "data": {
      "text/html": [
       "<table class=\"dataframe\">\n",
       "<caption>A data.table: 6 × 8</caption>\n",
       "<thead>\n",
       "\t<tr><th scope=col>Cluster</th><th scope=col>Tissue</th><th scope=col>Feature</th><th scope=col>LogFoldChange</th><th scope=col>Sigma</th><th scope=col>Zscore</th><th scope=col>Pval</th><th scope=col>Cluster_public</th></tr>\n",
       "\t<tr><th scope=col>&lt;chr&gt;</th><th scope=col>&lt;chr&gt;</th><th scope=col>&lt;chr&gt;</th><th scope=col>&lt;dbl&gt;</th><th scope=col>&lt;dbl&gt;</th><th scope=col>&lt;dbl&gt;</th><th scope=col>&lt;dbl&gt;</th><th scope=col>&lt;chr&gt;</th></tr>\n",
       "</thead>\n",
       "<tbody>\n",
       "\t<tr><td>CCL19</td><td>SalivaryGland</td><td>HSPH1 </td><td>1.476528</td><td>0.6288576</td><td>2.347953</td><td>0.009438457</td><td>NA</td></tr>\n",
       "\t<tr><td>CD34 </td><td>SalivaryGland</td><td>TNN   </td><td>2.925866</td><td>1.2501593</td><td>2.340394</td><td>0.009631692</td><td>NA</td></tr>\n",
       "\t<tr><td>CD34 </td><td>SalivaryGland</td><td>ASPN  </td><td>1.962962</td><td>0.8451165</td><td>2.322712</td><td>0.010097316</td><td>NA</td></tr>\n",
       "\t<tr><td>CCL19</td><td>SalivaryGland</td><td>DNAJB1</td><td>1.569224</td><td>0.6870579</td><td>2.283976</td><td>0.011186463</td><td>NA</td></tr>\n",
       "\t<tr><td>CD34 </td><td>SalivaryGland</td><td>THBS4 </td><td>2.046988</td><td>0.8965259</td><td>2.283245</td><td>0.011207971</td><td>NA</td></tr>\n",
       "\t<tr><td>CCL19</td><td>SalivaryGland</td><td>RGS16 </td><td>1.572704</td><td>0.6907502</td><td>2.276805</td><td>0.011398937</td><td>NA</td></tr>\n",
       "</tbody>\n",
       "</table>\n"
      ],
      "text/latex": [
       "A data.table: 6 × 8\n",
       "\\begin{tabular}{llllllll}\n",
       " Cluster & Tissue & Feature & LogFoldChange & Sigma & Zscore & Pval & Cluster\\_public\\\\\n",
       " <chr> & <chr> & <chr> & <dbl> & <dbl> & <dbl> & <dbl> & <chr>\\\\\n",
       "\\hline\n",
       "\t CCL19 & SalivaryGland & HSPH1  & 1.476528 & 0.6288576 & 2.347953 & 0.009438457 & NA\\\\\n",
       "\t CD34  & SalivaryGland & TNN    & 2.925866 & 1.2501593 & 2.340394 & 0.009631692 & NA\\\\\n",
       "\t CD34  & SalivaryGland & ASPN   & 1.962962 & 0.8451165 & 2.322712 & 0.010097316 & NA\\\\\n",
       "\t CCL19 & SalivaryGland & DNAJB1 & 1.569224 & 0.6870579 & 2.283976 & 0.011186463 & NA\\\\\n",
       "\t CD34  & SalivaryGland & THBS4  & 2.046988 & 0.8965259 & 2.283245 & 0.011207971 & NA\\\\\n",
       "\t CCL19 & SalivaryGland & RGS16  & 1.572704 & 0.6907502 & 2.276805 & 0.011398937 & NA\\\\\n",
       "\\end{tabular}\n"
      ],
      "text/markdown": [
       "\n",
       "A data.table: 6 × 8\n",
       "\n",
       "| Cluster &lt;chr&gt; | Tissue &lt;chr&gt; | Feature &lt;chr&gt; | LogFoldChange &lt;dbl&gt; | Sigma &lt;dbl&gt; | Zscore &lt;dbl&gt; | Pval &lt;dbl&gt; | Cluster_public &lt;chr&gt; |\n",
       "|---|---|---|---|---|---|---|---|\n",
       "| CCL19 | SalivaryGland | HSPH1  | 1.476528 | 0.6288576 | 2.347953 | 0.009438457 | NA |\n",
       "| CD34  | SalivaryGland | TNN    | 2.925866 | 1.2501593 | 2.340394 | 0.009631692 | NA |\n",
       "| CD34  | SalivaryGland | ASPN   | 1.962962 | 0.8451165 | 2.322712 | 0.010097316 | NA |\n",
       "| CCL19 | SalivaryGland | DNAJB1 | 1.569224 | 0.6870579 | 2.283976 | 0.011186463 | NA |\n",
       "| CD34  | SalivaryGland | THBS4  | 2.046988 | 0.8965259 | 2.283245 | 0.011207971 | NA |\n",
       "| CCL19 | SalivaryGland | RGS16  | 1.572704 | 0.6907502 | 2.276805 | 0.011398937 | NA |\n",
       "\n"
      ],
      "text/plain": [
       "  Cluster Tissue        Feature LogFoldChange Sigma     Zscore   Pval       \n",
       "1 CCL19   SalivaryGland HSPH1   1.476528      0.6288576 2.347953 0.009438457\n",
       "2 CD34    SalivaryGland TNN     2.925866      1.2501593 2.340394 0.009631692\n",
       "3 CD34    SalivaryGland ASPN    1.962962      0.8451165 2.322712 0.010097316\n",
       "4 CCL19   SalivaryGland DNAJB1  1.569224      0.6870579 2.283976 0.011186463\n",
       "5 CD34    SalivaryGland THBS4   2.046988      0.8965259 2.283245 0.011207971\n",
       "6 CCL19   SalivaryGland RGS16   1.572704      0.6907502 2.276805 0.011398937\n",
       "  Cluster_public\n",
       "1 NA            \n",
       "2 NA            \n",
       "3 NA            \n",
       "4 NA            \n",
       "5 NA            \n",
       "6 NA            "
      ]
     },
     "metadata": {},
     "output_type": "display_data"
    }
   ],
   "source": [
    "head(t6)"
   ]
  },
  {
   "cell_type": "markdown",
   "metadata": {},
   "source": [
    "# Gene selection stats"
   ]
  },
  {
   "cell_type": "code",
   "execution_count": 20,
   "metadata": {},
   "outputs": [],
   "source": [
    "t7 <- readRDS('/data/srlab2/ik936/Roche/data/cache/iag_df.rds') %>% \n",
    "    dplyr::select(Tissue, Feature = feature, Slope = beta, Sigma = sigma, Zscore = zscore, Pval = pvalue) %>% \n",
    "    subset(Pval < .05)\n"
   ]
  },
  {
   "cell_type": "code",
   "execution_count": 21,
   "metadata": {},
   "outputs": [
    {
     "data": {
      "text/html": [
       "<table class=\"dataframe\">\n",
       "<caption>A tibble: 6 × 6</caption>\n",
       "<thead>\n",
       "\t<tr><th scope=col>Tissue</th><th scope=col>Feature</th><th scope=col>Slope</th><th scope=col>Sigma</th><th scope=col>Zscore</th><th scope=col>Pval</th></tr>\n",
       "\t<tr><th scope=col>&lt;chr&gt;</th><th scope=col>&lt;chr&gt;</th><th scope=col>&lt;dbl&gt;</th><th scope=col>&lt;dbl&gt;</th><th scope=col>&lt;dbl&gt;</th><th scope=col>&lt;dbl&gt;</th></tr>\n",
       "</thead>\n",
       "<tbody>\n",
       "\t<tr><td>SalivaryGland</td><td>A1CF   </td><td>1.5277086</td><td>0.6229209</td><td>2.452492</td><td>0.014187049</td></tr>\n",
       "\t<tr><td>SalivaryGland</td><td>A2ML1  </td><td>0.8811583</td><td>0.3533270</td><td>2.493889</td><td>0.012635195</td></tr>\n",
       "\t<tr><td>SalivaryGland</td><td>AADACL2</td><td>1.0701482</td><td>0.4061467</td><td>2.634881</td><td>0.008416679</td></tr>\n",
       "\t<tr><td>SalivaryGland</td><td>AATK   </td><td>1.1757423</td><td>0.4724727</td><td>2.488487</td><td>0.012828779</td></tr>\n",
       "\t<tr><td>SalivaryGland</td><td>ABCA1  </td><td>0.5111586</td><td>0.2573504</td><td>1.986236</td><td>0.047007150</td></tr>\n",
       "\t<tr><td>SalivaryGland</td><td>ABCA9  </td><td>0.5403027</td><td>0.2714974</td><td>1.990085</td><td>0.046581626</td></tr>\n",
       "</tbody>\n",
       "</table>\n"
      ],
      "text/latex": [
       "A tibble: 6 × 6\n",
       "\\begin{tabular}{llllll}\n",
       " Tissue & Feature & Slope & Sigma & Zscore & Pval\\\\\n",
       " <chr> & <chr> & <dbl> & <dbl> & <dbl> & <dbl>\\\\\n",
       "\\hline\n",
       "\t SalivaryGland & A1CF    & 1.5277086 & 0.6229209 & 2.452492 & 0.014187049\\\\\n",
       "\t SalivaryGland & A2ML1   & 0.8811583 & 0.3533270 & 2.493889 & 0.012635195\\\\\n",
       "\t SalivaryGland & AADACL2 & 1.0701482 & 0.4061467 & 2.634881 & 0.008416679\\\\\n",
       "\t SalivaryGland & AATK    & 1.1757423 & 0.4724727 & 2.488487 & 0.012828779\\\\\n",
       "\t SalivaryGland & ABCA1   & 0.5111586 & 0.2573504 & 1.986236 & 0.047007150\\\\\n",
       "\t SalivaryGland & ABCA9   & 0.5403027 & 0.2714974 & 1.990085 & 0.046581626\\\\\n",
       "\\end{tabular}\n"
      ],
      "text/markdown": [
       "\n",
       "A tibble: 6 × 6\n",
       "\n",
       "| Tissue &lt;chr&gt; | Feature &lt;chr&gt; | Slope &lt;dbl&gt; | Sigma &lt;dbl&gt; | Zscore &lt;dbl&gt; | Pval &lt;dbl&gt; |\n",
       "|---|---|---|---|---|---|\n",
       "| SalivaryGland | A1CF    | 1.5277086 | 0.6229209 | 2.452492 | 0.014187049 |\n",
       "| SalivaryGland | A2ML1   | 0.8811583 | 0.3533270 | 2.493889 | 0.012635195 |\n",
       "| SalivaryGland | AADACL2 | 1.0701482 | 0.4061467 | 2.634881 | 0.008416679 |\n",
       "| SalivaryGland | AATK    | 1.1757423 | 0.4724727 | 2.488487 | 0.012828779 |\n",
       "| SalivaryGland | ABCA1   | 0.5111586 | 0.2573504 | 1.986236 | 0.047007150 |\n",
       "| SalivaryGland | ABCA9   | 0.5403027 | 0.2714974 | 1.990085 | 0.046581626 |\n",
       "\n"
      ],
      "text/plain": [
       "  Tissue        Feature Slope     Sigma     Zscore   Pval       \n",
       "1 SalivaryGland A1CF    1.5277086 0.6229209 2.452492 0.014187049\n",
       "2 SalivaryGland A2ML1   0.8811583 0.3533270 2.493889 0.012635195\n",
       "3 SalivaryGland AADACL2 1.0701482 0.4061467 2.634881 0.008416679\n",
       "4 SalivaryGland AATK    1.1757423 0.4724727 2.488487 0.012828779\n",
       "5 SalivaryGland ABCA1   0.5111586 0.2573504 1.986236 0.047007150\n",
       "6 SalivaryGland ABCA9   0.5403027 0.2714974 1.990085 0.046581626"
      ]
     },
     "metadata": {},
     "output_type": "display_data"
    }
   ],
   "source": [
    "head(t7)\n"
   ]
  },
  {
   "cell_type": "markdown",
   "metadata": {},
   "source": [
    "# Joint fibroblast cluster marker stats"
   ]
  },
  {
   "cell_type": "code",
   "execution_count": 22,
   "metadata": {},
   "outputs": [
    {
     "name": "stderr",
     "output_type": "stream",
     "text": [
      "Joining, by = \"Cluster\"\n",
      "\n",
      "Joining, by = \"Cluster\"\n",
      "\n"
     ]
    }
   ],
   "source": [
    "meta_data <- readRDS('/data/srlab2/ik936/Roche/data/cache/obj_fibroblasts/meta_data.rds') \n",
    "effects_marginal <- readRDS('/data/srlab2/ik936/Roche/data/cache/obj_fibroblasts/effects_marginal.rds') %>% \n",
    "    inner_join(unique(dplyr::select(meta_data, Cluster, Cluster_name))) %>% \n",
    "    dplyr::mutate(Tissue = 'Marginal') %>% \n",
    "    dplyr::select(Cluster = Cluster_name, Tissue, Feature = feature, LogFoldChange = beta, Sigma = sigma, Zscore = zscore, Pval = pvalue)\n",
    "\n",
    "effects_nested <- readRDS('/data/srlab2/ik936/Roche/data/cache/obj_fibroblasts/effects_nested.rds') %>% \n",
    "    inner_join(unique(dplyr::select(meta_data, Cluster, Cluster_name))) %>% \n",
    "    dplyr::select(Cluster = Cluster_name, Tissue, Feature = feature, LogFoldChange = beta, Sigma = sigma, Zscore = zscore, Pval = pvalue)\n",
    "\n",
    "t8 <- rbind(effects_marginal, effects_nested) %>% \n",
    "    subset(Pval < .1)\n"
   ]
  },
  {
   "cell_type": "code",
   "execution_count": 23,
   "metadata": {},
   "outputs": [
    {
     "data": {
      "text/html": [
       "<table class=\"dataframe\">\n",
       "<caption>A tibble: 6 × 7</caption>\n",
       "<thead>\n",
       "\t<tr><th scope=col>Cluster</th><th scope=col>Tissue</th><th scope=col>Feature</th><th scope=col>LogFoldChange</th><th scope=col>Sigma</th><th scope=col>Zscore</th><th scope=col>Pval</th></tr>\n",
       "\t<tr><th scope=col>&lt;chr&gt;</th><th scope=col>&lt;chr&gt;</th><th scope=col>&lt;chr&gt;</th><th scope=col>&lt;dbl&gt;</th><th scope=col>&lt;dbl&gt;</th><th scope=col>&lt;dbl&gt;</th><th scope=col>&lt;dbl&gt;</th></tr>\n",
       "</thead>\n",
       "<tbody>\n",
       "\t<tr><td>CXCL10+CCL19+ C11</td><td>Marginal</td><td>CCL19  </td><td>4.866968</td><td>0.6387375</td><td>7.619669</td><td>1.271637e-14</td></tr>\n",
       "\t<tr><td>CD34+MFAP5+ C9   </td><td>Marginal</td><td>PCOLCE2</td><td>2.606899</td><td>0.3801777</td><td>6.857055</td><td>3.514730e-12</td></tr>\n",
       "\t<tr><td>CXCL10+CCL19+ C11</td><td>Marginal</td><td>CXCL10 </td><td>4.535924</td><td>0.6722624</td><td>6.747252</td><td>7.533556e-12</td></tr>\n",
       "\t<tr><td>CD34+MFAP5+ C9   </td><td>Marginal</td><td>MFAP5  </td><td>3.019067</td><td>0.4530927</td><td>6.663244</td><td>1.339244e-11</td></tr>\n",
       "\t<tr><td>CD34+MFAP5+ C9   </td><td>Marginal</td><td>C1QTNF3</td><td>2.525249</td><td>0.3883603</td><td>6.502337</td><td>3.954093e-11</td></tr>\n",
       "\t<tr><td>CD34+MFAP5+ C9   </td><td>Marginal</td><td>CYP4B1 </td><td>1.912124</td><td>0.3295715</td><td>5.801849</td><td>3.279386e-09</td></tr>\n",
       "</tbody>\n",
       "</table>\n"
      ],
      "text/latex": [
       "A tibble: 6 × 7\n",
       "\\begin{tabular}{lllllll}\n",
       " Cluster & Tissue & Feature & LogFoldChange & Sigma & Zscore & Pval\\\\\n",
       " <chr> & <chr> & <chr> & <dbl> & <dbl> & <dbl> & <dbl>\\\\\n",
       "\\hline\n",
       "\t CXCL10+CCL19+ C11 & Marginal & CCL19   & 4.866968 & 0.6387375 & 7.619669 & 1.271637e-14\\\\\n",
       "\t CD34+MFAP5+ C9    & Marginal & PCOLCE2 & 2.606899 & 0.3801777 & 6.857055 & 3.514730e-12\\\\\n",
       "\t CXCL10+CCL19+ C11 & Marginal & CXCL10  & 4.535924 & 0.6722624 & 6.747252 & 7.533556e-12\\\\\n",
       "\t CD34+MFAP5+ C9    & Marginal & MFAP5   & 3.019067 & 0.4530927 & 6.663244 & 1.339244e-11\\\\\n",
       "\t CD34+MFAP5+ C9    & Marginal & C1QTNF3 & 2.525249 & 0.3883603 & 6.502337 & 3.954093e-11\\\\\n",
       "\t CD34+MFAP5+ C9    & Marginal & CYP4B1  & 1.912124 & 0.3295715 & 5.801849 & 3.279386e-09\\\\\n",
       "\\end{tabular}\n"
      ],
      "text/markdown": [
       "\n",
       "A tibble: 6 × 7\n",
       "\n",
       "| Cluster &lt;chr&gt; | Tissue &lt;chr&gt; | Feature &lt;chr&gt; | LogFoldChange &lt;dbl&gt; | Sigma &lt;dbl&gt; | Zscore &lt;dbl&gt; | Pval &lt;dbl&gt; |\n",
       "|---|---|---|---|---|---|---|\n",
       "| CXCL10+CCL19+ C11 | Marginal | CCL19   | 4.866968 | 0.6387375 | 7.619669 | 1.271637e-14 |\n",
       "| CD34+MFAP5+ C9    | Marginal | PCOLCE2 | 2.606899 | 0.3801777 | 6.857055 | 3.514730e-12 |\n",
       "| CXCL10+CCL19+ C11 | Marginal | CXCL10  | 4.535924 | 0.6722624 | 6.747252 | 7.533556e-12 |\n",
       "| CD34+MFAP5+ C9    | Marginal | MFAP5   | 3.019067 | 0.4530927 | 6.663244 | 1.339244e-11 |\n",
       "| CD34+MFAP5+ C9    | Marginal | C1QTNF3 | 2.525249 | 0.3883603 | 6.502337 | 3.954093e-11 |\n",
       "| CD34+MFAP5+ C9    | Marginal | CYP4B1  | 1.912124 | 0.3295715 | 5.801849 | 3.279386e-09 |\n",
       "\n"
      ],
      "text/plain": [
       "  Cluster           Tissue   Feature LogFoldChange Sigma     Zscore  \n",
       "1 CXCL10+CCL19+ C11 Marginal CCL19   4.866968      0.6387375 7.619669\n",
       "2 CD34+MFAP5+ C9    Marginal PCOLCE2 2.606899      0.3801777 6.857055\n",
       "3 CXCL10+CCL19+ C11 Marginal CXCL10  4.535924      0.6722624 6.747252\n",
       "4 CD34+MFAP5+ C9    Marginal MFAP5   3.019067      0.4530927 6.663244\n",
       "5 CD34+MFAP5+ C9    Marginal C1QTNF3 2.525249      0.3883603 6.502337\n",
       "6 CD34+MFAP5+ C9    Marginal CYP4B1  1.912124      0.3295715 5.801849\n",
       "  Pval        \n",
       "1 1.271637e-14\n",
       "2 3.514730e-12\n",
       "3 7.533556e-12\n",
       "4 1.339244e-11\n",
       "5 3.954093e-11\n",
       "6 3.279386e-09"
      ]
     },
     "metadata": {},
     "output_type": "display_data"
    }
   ],
   "source": [
    "head(t8)"
   ]
  },
  {
   "cell_type": "markdown",
   "metadata": {},
   "source": [
    "# Joint fibroblast MASC results "
   ]
  },
  {
   "cell_type": "code",
   "execution_count": 24,
   "metadata": {},
   "outputs": [],
   "source": [
    "# t7 <- fib$masc %>% \n",
    "#     inner_join(unique(dplyr::select(meta_data, Cluster, Cluster_name))) %>% \n",
    "#     dplyr::select(Cluster = Cluster_name, Tissue, Ncells, LogFoldChange = beta, Sigma = sigma, Zscore = zscore, Pval = pvalue)\n",
    "\n",
    "# head(t7)\n"
   ]
  },
  {
   "cell_type": "markdown",
   "metadata": {},
   "source": [
    "# Pathways"
   ]
  },
  {
   "cell_type": "code",
   "execution_count": 25,
   "metadata": {},
   "outputs": [
    {
     "data": {
      "text/html": [
       "<table class=\"dataframe\">\n",
       "<caption>A data.table: 1 × 10</caption>\n",
       "<thead>\n",
       "\t<tr><th scope=col>Cluster</th><th scope=col>database</th><th scope=col>pathway</th><th scope=col>pval</th><th scope=col>padj</th><th scope=col>ES</th><th scope=col>NES</th><th scope=col>nMoreExtreme</th><th scope=col>size</th><th scope=col>leadingEdge</th></tr>\n",
       "\t<tr><th scope=col>&lt;chr&gt;</th><th scope=col>&lt;chr&gt;</th><th scope=col>&lt;chr&gt;</th><th scope=col>&lt;dbl&gt;</th><th scope=col>&lt;dbl&gt;</th><th scope=col>&lt;dbl&gt;</th><th scope=col>&lt;dbl&gt;</th><th scope=col>&lt;dbl&gt;</th><th scope=col>&lt;int&gt;</th><th scope=col>&lt;list&gt;</th></tr>\n",
       "</thead>\n",
       "<tbody>\n",
       "\t<tr><td>11</td><td>H</td><td>HALLMARK_ALLOGRAFT_REJECTION</td><td>0.0001968117</td><td>0.00294449</td><td>0.6968605</td><td>2.940547</td><td>0</td><td>157</td><td>CCL19   , HLA-DRA , CD74    , IRF8    , CCL2    , CCL5    , CXCL9   , ICAM1   , CTSS    , HLA-DQA1, HLA-DMB , CCL13   , HLA-DMA , HLA-DOB , STAT1   , TAP2    , IL15    , CD40    , ACHE    , JAK2    , IL27RA  , GBP2    , FYB1    , TRAF2   , THY1    , PSMB10  , RIPK2   , IL6     , SOCS1   , PTPRC   , TAPBP   , CCL7    , IRF7    , TAP1    , HLA-E   , ITGB2   , CXCL13  , FAS     , CCL11   , HLA-A   , CSF1    , LIF     , B2M     , IL7     , CD7     , MMP9    , BCL3    , C2      , IFNAR2  , SRGN    , CDKN2A  , CD79A   , TIMP1   , IL10    , NPM1    , IL4R    , CD3G    , IL12RB1 , LCP2    , NCK1    , RPS19   , HLA-DOA , IFNGR1  , RPS3A   </td></tr>\n",
       "</tbody>\n",
       "</table>\n"
      ],
      "text/latex": [
       "A data.table: 1 × 10\n",
       "\\begin{tabular}{llllllllll}\n",
       " Cluster & database & pathway & pval & padj & ES & NES & nMoreExtreme & size & leadingEdge\\\\\n",
       " <chr> & <chr> & <chr> & <dbl> & <dbl> & <dbl> & <dbl> & <dbl> & <int> & <list>\\\\\n",
       "\\hline\n",
       "\t 11 & H & HALLMARK\\_ALLOGRAFT\\_REJECTION & 0.0001968117 & 0.00294449 & 0.6968605 & 2.940547 & 0 & 157 & CCL19   , HLA-DRA , CD74    , IRF8    , CCL2    , CCL5    , CXCL9   , ICAM1   , CTSS    , HLA-DQA1, HLA-DMB , CCL13   , HLA-DMA , HLA-DOB , STAT1   , TAP2    , IL15    , CD40    , ACHE    , JAK2    , IL27RA  , GBP2    , FYB1    , TRAF2   , THY1    , PSMB10  , RIPK2   , IL6     , SOCS1   , PTPRC   , TAPBP   , CCL7    , IRF7    , TAP1    , HLA-E   , ITGB2   , CXCL13  , FAS     , CCL11   , HLA-A   , CSF1    , LIF     , B2M     , IL7     , CD7     , MMP9    , BCL3    , C2      , IFNAR2  , SRGN    , CDKN2A  , CD79A   , TIMP1   , IL10    , NPM1    , IL4R    , CD3G    , IL12RB1 , LCP2    , NCK1    , RPS19   , HLA-DOA , IFNGR1  , RPS3A   \\\\\n",
       "\\end{tabular}\n"
      ],
      "text/markdown": [
       "\n",
       "A data.table: 1 × 10\n",
       "\n",
       "| Cluster &lt;chr&gt; | database &lt;chr&gt; | pathway &lt;chr&gt; | pval &lt;dbl&gt; | padj &lt;dbl&gt; | ES &lt;dbl&gt; | NES &lt;dbl&gt; | nMoreExtreme &lt;dbl&gt; | size &lt;int&gt; | leadingEdge &lt;list&gt; |\n",
       "|---|---|---|---|---|---|---|---|---|---|\n",
       "| 11 | H | HALLMARK_ALLOGRAFT_REJECTION | 0.0001968117 | 0.00294449 | 0.6968605 | 2.940547 | 0 | 157 | CCL19   , HLA-DRA , CD74    , IRF8    , CCL2    , CCL5    , CXCL9   , ICAM1   , CTSS    , HLA-DQA1, HLA-DMB , CCL13   , HLA-DMA , HLA-DOB , STAT1   , TAP2    , IL15    , CD40    , ACHE    , JAK2    , IL27RA  , GBP2    , FYB1    , TRAF2   , THY1    , PSMB10  , RIPK2   , IL6     , SOCS1   , PTPRC   , TAPBP   , CCL7    , IRF7    , TAP1    , HLA-E   , ITGB2   , CXCL13  , FAS     , CCL11   , HLA-A   , CSF1    , LIF     , B2M     , IL7     , CD7     , MMP9    , BCL3    , C2      , IFNAR2  , SRGN    , CDKN2A  , CD79A   , TIMP1   , IL10    , NPM1    , IL4R    , CD3G    , IL12RB1 , LCP2    , NCK1    , RPS19   , HLA-DOA , IFNGR1  , RPS3A    |\n",
       "\n"
      ],
      "text/plain": [
       "  Cluster database pathway                      pval         padj      \n",
       "1 11      H        HALLMARK_ALLOGRAFT_REJECTION 0.0001968117 0.00294449\n",
       "  ES        NES      nMoreExtreme size\n",
       "1 0.6968605 2.940547 0            157 \n",
       "  leadingEdge                                                                                                                                                                                                                                                                                                                                                                                                                                                                                                                                                                                                                                                   \n",
       "1 CCL19   , HLA-DRA , CD74    , IRF8    , CCL2    , CCL5    , CXCL9   , ICAM1   , CTSS    , HLA-DQA1, HLA-DMB , CCL13   , HLA-DMA , HLA-DOB , STAT1   , TAP2    , IL15    , CD40    , ACHE    , JAK2    , IL27RA  , GBP2    , FYB1    , TRAF2   , THY1    , PSMB10  , RIPK2   , IL6     , SOCS1   , PTPRC   , TAPBP   , CCL7    , IRF7    , TAP1    , HLA-E   , ITGB2   , CXCL13  , FAS     , CCL11   , HLA-A   , CSF1    , LIF     , B2M     , IL7     , CD7     , MMP9    , BCL3    , C2      , IFNAR2  , SRGN    , CDKN2A  , CD79A   , TIMP1   , IL10    , NPM1    , IL4R    , CD3G    , IL12RB1 , LCP2    , NCK1    , RPS19   , HLA-DOA , IFNGR1  , RPS3A   "
      ]
     },
     "metadata": {},
     "output_type": "display_data"
    }
   ],
   "source": [
    "t9 <- fib$gsea %>% \n",
    "#     dplyr::select(-leadingEdge) %>% \n",
    "    subset(database %in% c('H', 'C5')) %>% \n",
    "    subset(pval < .1)\n",
    "\n",
    "head(t9, 1)\n"
   ]
  },
  {
   "cell_type": "markdown",
   "metadata": {},
   "source": [
    "# Intra-cluster inflammation"
   ]
  },
  {
   "cell_type": "code",
   "execution_count": 26,
   "metadata": {},
   "outputs": [],
   "source": [
    "t10 <- readRDS('/data/srlab2/ik936/Roche/data/cache/R2C07_deseq2.rds') %>% \n",
    "    dplyr::mutate(Cluster = paste0('C', as.character(Cluster))) %>% \n",
    "    dplyr::select(Cluster, Tissue, feature, everything()) "
   ]
  },
  {
   "cell_type": "code",
   "execution_count": 27,
   "metadata": {},
   "outputs": [
    {
     "data": {
      "text/html": [
       "<table class=\"dataframe\">\n",
       "<caption>A data.frame: 6 × 9</caption>\n",
       "<thead>\n",
       "\t<tr><th></th><th scope=col>Cluster</th><th scope=col>Tissue</th><th scope=col>feature</th><th scope=col>baseMean</th><th scope=col>log2FoldChange</th><th scope=col>lfcSE</th><th scope=col>stat</th><th scope=col>pvalue</th><th scope=col>padj</th></tr>\n",
       "\t<tr><th></th><th scope=col>&lt;chr&gt;</th><th scope=col>&lt;fct&gt;</th><th scope=col>&lt;chr&gt;</th><th scope=col>&lt;dbl&gt;</th><th scope=col>&lt;dbl&gt;</th><th scope=col>&lt;dbl&gt;</th><th scope=col>&lt;dbl&gt;</th><th scope=col>&lt;dbl&gt;</th><th scope=col>&lt;dbl&gt;</th></tr>\n",
       "</thead>\n",
       "<tbody>\n",
       "\t<tr><th scope=row>1</th><td>C5</td><td>SalivaryGland</td><td>A1BG  </td><td>  5.5847553</td><td> 0.2824931126</td><td>1.2748163</td><td> 0.221595148</td><td>0.8246291</td><td>       NA</td></tr>\n",
       "\t<tr><th scope=row>2</th><td>C5</td><td>SalivaryGland</td><td>A1CF  </td><td>  0.3722376</td><td> 0.7515676972</td><td>4.8049740</td><td> 0.156414521</td><td>0.8757063</td><td>       NA</td></tr>\n",
       "\t<tr><th scope=row>3</th><td>C5</td><td>SalivaryGland</td><td>A2M   </td><td> 58.6013326</td><td>-0.0008939626</td><td>0.6951188</td><td>-0.001286057</td><td>0.9989739</td><td>       NA</td></tr>\n",
       "\t<tr><th scope=row>4</th><td>C5</td><td>SalivaryGland</td><td>A2ML1 </td><td>  3.0177100</td><td> 2.4507207785</td><td>1.8346846</td><td> 1.335772257</td><td>0.1816237</td><td>       NA</td></tr>\n",
       "\t<tr><th scope=row>5</th><td>C5</td><td>SalivaryGland</td><td>A4GALT</td><td>101.0007561</td><td>-0.7599410737</td><td>0.6415354</td><td>-1.184566108</td><td>0.2361890</td><td>0.5089451</td></tr>\n",
       "\t<tr><th scope=row>6</th><td>C5</td><td>SalivaryGland</td><td>AAAS  </td><td>  8.9402410</td><td>-0.7743134905</td><td>1.0299011</td><td>-0.751832843</td><td>0.4521516</td><td>       NA</td></tr>\n",
       "</tbody>\n",
       "</table>\n"
      ],
      "text/latex": [
       "A data.frame: 6 × 9\n",
       "\\begin{tabular}{r|lllllllll}\n",
       "  & Cluster & Tissue & feature & baseMean & log2FoldChange & lfcSE & stat & pvalue & padj\\\\\n",
       "  & <chr> & <fct> & <chr> & <dbl> & <dbl> & <dbl> & <dbl> & <dbl> & <dbl>\\\\\n",
       "\\hline\n",
       "\t1 & C5 & SalivaryGland & A1BG   &   5.5847553 &  0.2824931126 & 1.2748163 &  0.221595148 & 0.8246291 &        NA\\\\\n",
       "\t2 & C5 & SalivaryGland & A1CF   &   0.3722376 &  0.7515676972 & 4.8049740 &  0.156414521 & 0.8757063 &        NA\\\\\n",
       "\t3 & C5 & SalivaryGland & A2M    &  58.6013326 & -0.0008939626 & 0.6951188 & -0.001286057 & 0.9989739 &        NA\\\\\n",
       "\t4 & C5 & SalivaryGland & A2ML1  &   3.0177100 &  2.4507207785 & 1.8346846 &  1.335772257 & 0.1816237 &        NA\\\\\n",
       "\t5 & C5 & SalivaryGland & A4GALT & 101.0007561 & -0.7599410737 & 0.6415354 & -1.184566108 & 0.2361890 & 0.5089451\\\\\n",
       "\t6 & C5 & SalivaryGland & AAAS   &   8.9402410 & -0.7743134905 & 1.0299011 & -0.751832843 & 0.4521516 &        NA\\\\\n",
       "\\end{tabular}\n"
      ],
      "text/markdown": [
       "\n",
       "A data.frame: 6 × 9\n",
       "\n",
       "| <!--/--> | Cluster &lt;chr&gt; | Tissue &lt;fct&gt; | feature &lt;chr&gt; | baseMean &lt;dbl&gt; | log2FoldChange &lt;dbl&gt; | lfcSE &lt;dbl&gt; | stat &lt;dbl&gt; | pvalue &lt;dbl&gt; | padj &lt;dbl&gt; |\n",
       "|---|---|---|---|---|---|---|---|---|---|\n",
       "| 1 | C5 | SalivaryGland | A1BG   |   5.5847553 |  0.2824931126 | 1.2748163 |  0.221595148 | 0.8246291 |        NA |\n",
       "| 2 | C5 | SalivaryGland | A1CF   |   0.3722376 |  0.7515676972 | 4.8049740 |  0.156414521 | 0.8757063 |        NA |\n",
       "| 3 | C5 | SalivaryGland | A2M    |  58.6013326 | -0.0008939626 | 0.6951188 | -0.001286057 | 0.9989739 |        NA |\n",
       "| 4 | C5 | SalivaryGland | A2ML1  |   3.0177100 |  2.4507207785 | 1.8346846 |  1.335772257 | 0.1816237 |        NA |\n",
       "| 5 | C5 | SalivaryGland | A4GALT | 101.0007561 | -0.7599410737 | 0.6415354 | -1.184566108 | 0.2361890 | 0.5089451 |\n",
       "| 6 | C5 | SalivaryGland | AAAS   |   8.9402410 | -0.7743134905 | 1.0299011 | -0.751832843 | 0.4521516 |        NA |\n",
       "\n"
      ],
      "text/plain": [
       "  Cluster Tissue        feature baseMean    log2FoldChange lfcSE    \n",
       "1 C5      SalivaryGland A1BG      5.5847553  0.2824931126  1.2748163\n",
       "2 C5      SalivaryGland A1CF      0.3722376  0.7515676972  4.8049740\n",
       "3 C5      SalivaryGland A2M      58.6013326 -0.0008939626  0.6951188\n",
       "4 C5      SalivaryGland A2ML1     3.0177100  2.4507207785  1.8346846\n",
       "5 C5      SalivaryGland A4GALT  101.0007561 -0.7599410737  0.6415354\n",
       "6 C5      SalivaryGland AAAS      8.9402410 -0.7743134905  1.0299011\n",
       "  stat         pvalue    padj     \n",
       "1  0.221595148 0.8246291        NA\n",
       "2  0.156414521 0.8757063        NA\n",
       "3 -0.001286057 0.9989739        NA\n",
       "4  1.335772257 0.1816237        NA\n",
       "5 -1.184566108 0.2361890 0.5089451\n",
       "6 -0.751832843 0.4521516        NA"
      ]
     },
     "metadata": {},
     "output_type": "display_data"
    }
   ],
   "source": [
    "head(t10)"
   ]
  },
  {
   "cell_type": "markdown",
   "metadata": {},
   "source": [
    "# Co-stim markers "
   ]
  },
  {
   "cell_type": "code",
   "execution_count": 28,
   "metadata": {},
   "outputs": [],
   "source": [
    "t11 <- readRDS('/data/srlab2/ik936/Roche/data/cache/stim_revisions_ddres_v1.rds') %>% \n",
    "    dplyr::mutate(Tissue = c(fls = 'Synovium', lung = 'Lung')[Tissue])"
   ]
  },
  {
   "cell_type": "code",
   "execution_count": 29,
   "metadata": {},
   "outputs": [
    {
     "data": {
      "text/html": [
       "<table class=\"dataframe\">\n",
       "<caption>A data.frame: 6 × 9</caption>\n",
       "<thead>\n",
       "\t<tr><th></th><th scope=col>Tissue</th><th scope=col>Condition</th><th scope=col>feature</th><th scope=col>baseMean</th><th scope=col>log2FoldChange</th><th scope=col>lfcSE</th><th scope=col>stat</th><th scope=col>pvalue</th><th scope=col>padj</th></tr>\n",
       "\t<tr><th></th><th scope=col>&lt;chr&gt;</th><th scope=col>&lt;chr&gt;</th><th scope=col>&lt;chr&gt;</th><th scope=col>&lt;dbl&gt;</th><th scope=col>&lt;dbl&gt;</th><th scope=col>&lt;dbl&gt;</th><th scope=col>&lt;dbl&gt;</th><th scope=col>&lt;dbl&gt;</th><th scope=col>&lt;dbl&gt;</th></tr>\n",
       "</thead>\n",
       "<tbody>\n",
       "\t<tr><th scope=row>1</th><td>Synovium</td><td>ECs</td><td>IGFBP2</td><td>5618.041</td><td>4.380813</td><td>0.1489800</td><td>29.40538</td><td>4.687768e-190</td><td>6.626628e-186</td></tr>\n",
       "\t<tr><th scope=row>2</th><td>Synovium</td><td>ECs</td><td>S1PR3 </td><td>1070.459</td><td>3.573479</td><td>0.1866052</td><td>19.14994</td><td> 9.689077e-82</td><td> 1.712060e-78</td></tr>\n",
       "\t<tr><th scope=row>3</th><td>Synovium</td><td>ECs</td><td>NOTCH3</td><td>1084.259</td><td>3.266069</td><td>0.1733502</td><td>18.84087</td><td> 3.491870e-79</td><td> 5.484564e-76</td></tr>\n",
       "\t<tr><th scope=row>4</th><td>Synovium</td><td>ECs</td><td>ERRFI1</td><td>3167.705</td><td>3.264059</td><td>0.1740926</td><td>18.74898</td><td> 1.973353e-78</td><td> 2.789532e-75</td></tr>\n",
       "\t<tr><th scope=row>5</th><td>Synovium</td><td>ECs</td><td>DUSP6 </td><td>1722.990</td><td>2.916591</td><td>0.1571357</td><td>18.56096</td><td> 6.650267e-77</td><td> 8.546198e-74</td></tr>\n",
       "\t<tr><th scope=row>6</th><td>Synovium</td><td>ECs</td><td>TFPI  </td><td>4122.846</td><td>3.101188</td><td>0.1717326</td><td>18.05824</td><td> 6.795362e-73</td><td> 8.004936e-70</td></tr>\n",
       "</tbody>\n",
       "</table>\n"
      ],
      "text/latex": [
       "A data.frame: 6 × 9\n",
       "\\begin{tabular}{r|lllllllll}\n",
       "  & Tissue & Condition & feature & baseMean & log2FoldChange & lfcSE & stat & pvalue & padj\\\\\n",
       "  & <chr> & <chr> & <chr> & <dbl> & <dbl> & <dbl> & <dbl> & <dbl> & <dbl>\\\\\n",
       "\\hline\n",
       "\t1 & Synovium & ECs & IGFBP2 & 5618.041 & 4.380813 & 0.1489800 & 29.40538 & 4.687768e-190 & 6.626628e-186\\\\\n",
       "\t2 & Synovium & ECs & S1PR3  & 1070.459 & 3.573479 & 0.1866052 & 19.14994 &  9.689077e-82 &  1.712060e-78\\\\\n",
       "\t3 & Synovium & ECs & NOTCH3 & 1084.259 & 3.266069 & 0.1733502 & 18.84087 &  3.491870e-79 &  5.484564e-76\\\\\n",
       "\t4 & Synovium & ECs & ERRFI1 & 3167.705 & 3.264059 & 0.1740926 & 18.74898 &  1.973353e-78 &  2.789532e-75\\\\\n",
       "\t5 & Synovium & ECs & DUSP6  & 1722.990 & 2.916591 & 0.1571357 & 18.56096 &  6.650267e-77 &  8.546198e-74\\\\\n",
       "\t6 & Synovium & ECs & TFPI   & 4122.846 & 3.101188 & 0.1717326 & 18.05824 &  6.795362e-73 &  8.004936e-70\\\\\n",
       "\\end{tabular}\n"
      ],
      "text/markdown": [
       "\n",
       "A data.frame: 6 × 9\n",
       "\n",
       "| <!--/--> | Tissue &lt;chr&gt; | Condition &lt;chr&gt; | feature &lt;chr&gt; | baseMean &lt;dbl&gt; | log2FoldChange &lt;dbl&gt; | lfcSE &lt;dbl&gt; | stat &lt;dbl&gt; | pvalue &lt;dbl&gt; | padj &lt;dbl&gt; |\n",
       "|---|---|---|---|---|---|---|---|---|---|\n",
       "| 1 | Synovium | ECs | IGFBP2 | 5618.041 | 4.380813 | 0.1489800 | 29.40538 | 4.687768e-190 | 6.626628e-186 |\n",
       "| 2 | Synovium | ECs | S1PR3  | 1070.459 | 3.573479 | 0.1866052 | 19.14994 |  9.689077e-82 |  1.712060e-78 |\n",
       "| 3 | Synovium | ECs | NOTCH3 | 1084.259 | 3.266069 | 0.1733502 | 18.84087 |  3.491870e-79 |  5.484564e-76 |\n",
       "| 4 | Synovium | ECs | ERRFI1 | 3167.705 | 3.264059 | 0.1740926 | 18.74898 |  1.973353e-78 |  2.789532e-75 |\n",
       "| 5 | Synovium | ECs | DUSP6  | 1722.990 | 2.916591 | 0.1571357 | 18.56096 |  6.650267e-77 |  8.546198e-74 |\n",
       "| 6 | Synovium | ECs | TFPI   | 4122.846 | 3.101188 | 0.1717326 | 18.05824 |  6.795362e-73 |  8.004936e-70 |\n",
       "\n"
      ],
      "text/plain": [
       "  Tissue   Condition feature baseMean log2FoldChange lfcSE     stat    \n",
       "1 Synovium ECs       IGFBP2  5618.041 4.380813       0.1489800 29.40538\n",
       "2 Synovium ECs       S1PR3   1070.459 3.573479       0.1866052 19.14994\n",
       "3 Synovium ECs       NOTCH3  1084.259 3.266069       0.1733502 18.84087\n",
       "4 Synovium ECs       ERRFI1  3167.705 3.264059       0.1740926 18.74898\n",
       "5 Synovium ECs       DUSP6   1722.990 2.916591       0.1571357 18.56096\n",
       "6 Synovium ECs       TFPI    4122.846 3.101188       0.1717326 18.05824\n",
       "  pvalue        padj         \n",
       "1 4.687768e-190 6.626628e-186\n",
       "2  9.689077e-82  1.712060e-78\n",
       "3  3.491870e-79  5.484564e-76\n",
       "4  1.973353e-78  2.789532e-75\n",
       "5  6.650267e-77  8.546198e-74\n",
       "6  6.795362e-73  8.004936e-70"
      ]
     },
     "metadata": {},
     "output_type": "display_data"
    }
   ],
   "source": [
    "head(t11)"
   ]
  },
  {
   "cell_type": "markdown",
   "metadata": {},
   "source": [
    "# Co-stim pathways "
   ]
  },
  {
   "cell_type": "code",
   "execution_count": 30,
   "metadata": {},
   "outputs": [],
   "source": [
    "t12 <- fread('/data/srlab2/ik936/Roche/manuscript/tables/EC_coculture_GO_pathways.csv', sep = ',')"
   ]
  },
  {
   "cell_type": "code",
   "execution_count": 31,
   "metadata": {},
   "outputs": [
    {
     "data": {
      "text/html": [
       "<table class=\"dataframe\">\n",
       "<caption>A data.table: 6 × 9</caption>\n",
       "<thead>\n",
       "\t<tr><th scope=col>Ontology</th><th scope=col>pathway</th><th scope=col>pval</th><th scope=col>padj</th><th scope=col>log2err</th><th scope=col>ES</th><th scope=col>NES</th><th scope=col>size</th><th scope=col>leadingEdge</th></tr>\n",
       "\t<tr><th scope=col>&lt;chr&gt;</th><th scope=col>&lt;chr&gt;</th><th scope=col>&lt;dbl&gt;</th><th scope=col>&lt;dbl&gt;</th><th scope=col>&lt;dbl&gt;</th><th scope=col>&lt;dbl&gt;</th><th scope=col>&lt;dbl&gt;</th><th scope=col>&lt;int&gt;</th><th scope=col>&lt;chr&gt;</th></tr>\n",
       "</thead>\n",
       "<tbody>\n",
       "\t<tr><td>BP</td><td>'de novo' posttranslational protein folding (GO:0051084)               </td><td>0.1029810</td><td>0.4847898</td><td>0.23112671</td><td> 0.4003760</td><td> 1.3107621</td><td>29</td><td>ERO1A|HSPA6|CCT2|ENTPD5|DNAJC7|HSPA8|HSPA9|CHCHD4|HSPE1|HSPA5|GAK|HSPA4|HSPA14|UGGT2|PTGES3</td></tr>\n",
       "\t<tr><td>BP</td><td>2-oxoglutarate metabolic process (GO:0006103)                          </td><td>0.9045226</td><td>0.9858164</td><td>0.04216194</td><td>-0.2523274</td><td>-0.6550171</td><td>17</td><td>ADHFE1|IDH1|AADAT|TAT                                                                      </td></tr>\n",
       "\t<tr><td>BP</td><td>3'-UTR-mediated mRNA destabilization (GO:0061158)                      </td><td>0.8504202</td><td>0.9693308</td><td>0.04513442</td><td>-0.2993289</td><td>-0.6875038</td><td>10</td><td>CPEB3|ZC3H12D|RC3H1|ZFP36L2                                                                </td></tr>\n",
       "\t<tr><td>BP</td><td>3'-UTR-mediated mRNA stabilization (GO:0070935)                        </td><td>0.3098237</td><td>0.7005844</td><td>0.12210792</td><td> 0.4299334</td><td> 1.1263580</td><td>13</td><td>YBX3|ELAVL1|ZFP36|HNRNPC|DAZL|MAPKAPK2|TARDBP                                              </td></tr>\n",
       "\t<tr><td>BP</td><td>3'-phosphoadenosine 5'-phosphosulfate biosynthetic process (GO:0050428)</td><td>0.3094170</td><td>0.7005844</td><td>0.11426650</td><td> 0.5545328</td><td> 1.1533300</td><td> 6</td><td>PAPSS2|SLC35B2|SLC35B3                                                                     </td></tr>\n",
       "\t<tr><td>BP</td><td>3'-phosphoadenosine 5'-phosphosulfate metabolic process (GO:0050427)   </td><td>0.8359788</td><td>0.9653768</td><td>0.06720651</td><td> 0.2452066</td><td> 0.7692315</td><td>25</td><td>PODXL2|SULT4A1|PAPSS2|SLC35B2|TPST2|IMPAD1                                                 </td></tr>\n",
       "</tbody>\n",
       "</table>\n"
      ],
      "text/latex": [
       "A data.table: 6 × 9\n",
       "\\begin{tabular}{lllllllll}\n",
       " Ontology & pathway & pval & padj & log2err & ES & NES & size & leadingEdge\\\\\n",
       " <chr> & <chr> & <dbl> & <dbl> & <dbl> & <dbl> & <dbl> & <int> & <chr>\\\\\n",
       "\\hline\n",
       "\t BP & 'de novo' posttranslational protein folding (GO:0051084)                & 0.1029810 & 0.4847898 & 0.23112671 &  0.4003760 &  1.3107621 & 29 & ERO1A\\textbar{}HSPA6\\textbar{}CCT2\\textbar{}ENTPD5\\textbar{}DNAJC7\\textbar{}HSPA8\\textbar{}HSPA9\\textbar{}CHCHD4\\textbar{}HSPE1\\textbar{}HSPA5\\textbar{}GAK\\textbar{}HSPA4\\textbar{}HSPA14\\textbar{}UGGT2\\textbar{}PTGES3\\\\\n",
       "\t BP & 2-oxoglutarate metabolic process (GO:0006103)                           & 0.9045226 & 0.9858164 & 0.04216194 & -0.2523274 & -0.6550171 & 17 & ADHFE1\\textbar{}IDH1\\textbar{}AADAT\\textbar{}TAT                                                                      \\\\\n",
       "\t BP & 3'-UTR-mediated mRNA destabilization (GO:0061158)                       & 0.8504202 & 0.9693308 & 0.04513442 & -0.2993289 & -0.6875038 & 10 & CPEB3\\textbar{}ZC3H12D\\textbar{}RC3H1\\textbar{}ZFP36L2                                                                \\\\\n",
       "\t BP & 3'-UTR-mediated mRNA stabilization (GO:0070935)                         & 0.3098237 & 0.7005844 & 0.12210792 &  0.4299334 &  1.1263580 & 13 & YBX3\\textbar{}ELAVL1\\textbar{}ZFP36\\textbar{}HNRNPC\\textbar{}DAZL\\textbar{}MAPKAPK2\\textbar{}TARDBP                                              \\\\\n",
       "\t BP & 3'-phosphoadenosine 5'-phosphosulfate biosynthetic process (GO:0050428) & 0.3094170 & 0.7005844 & 0.11426650 &  0.5545328 &  1.1533300 &  6 & PAPSS2\\textbar{}SLC35B2\\textbar{}SLC35B3                                                                     \\\\\n",
       "\t BP & 3'-phosphoadenosine 5'-phosphosulfate metabolic process (GO:0050427)    & 0.8359788 & 0.9653768 & 0.06720651 &  0.2452066 &  0.7692315 & 25 & PODXL2\\textbar{}SULT4A1\\textbar{}PAPSS2\\textbar{}SLC35B2\\textbar{}TPST2\\textbar{}IMPAD1                                                 \\\\\n",
       "\\end{tabular}\n"
      ],
      "text/markdown": [
       "\n",
       "A data.table: 6 × 9\n",
       "\n",
       "| Ontology &lt;chr&gt; | pathway &lt;chr&gt; | pval &lt;dbl&gt; | padj &lt;dbl&gt; | log2err &lt;dbl&gt; | ES &lt;dbl&gt; | NES &lt;dbl&gt; | size &lt;int&gt; | leadingEdge &lt;chr&gt; |\n",
       "|---|---|---|---|---|---|---|---|---|\n",
       "| BP | 'de novo' posttranslational protein folding (GO:0051084)                | 0.1029810 | 0.4847898 | 0.23112671 |  0.4003760 |  1.3107621 | 29 | ERO1A|HSPA6|CCT2|ENTPD5|DNAJC7|HSPA8|HSPA9|CHCHD4|HSPE1|HSPA5|GAK|HSPA4|HSPA14|UGGT2|PTGES3 |\n",
       "| BP | 2-oxoglutarate metabolic process (GO:0006103)                           | 0.9045226 | 0.9858164 | 0.04216194 | -0.2523274 | -0.6550171 | 17 | ADHFE1|IDH1|AADAT|TAT                                                                       |\n",
       "| BP | 3'-UTR-mediated mRNA destabilization (GO:0061158)                       | 0.8504202 | 0.9693308 | 0.04513442 | -0.2993289 | -0.6875038 | 10 | CPEB3|ZC3H12D|RC3H1|ZFP36L2                                                                 |\n",
       "| BP | 3'-UTR-mediated mRNA stabilization (GO:0070935)                         | 0.3098237 | 0.7005844 | 0.12210792 |  0.4299334 |  1.1263580 | 13 | YBX3|ELAVL1|ZFP36|HNRNPC|DAZL|MAPKAPK2|TARDBP                                               |\n",
       "| BP | 3'-phosphoadenosine 5'-phosphosulfate biosynthetic process (GO:0050428) | 0.3094170 | 0.7005844 | 0.11426650 |  0.5545328 |  1.1533300 |  6 | PAPSS2|SLC35B2|SLC35B3                                                                      |\n",
       "| BP | 3'-phosphoadenosine 5'-phosphosulfate metabolic process (GO:0050427)    | 0.8359788 | 0.9653768 | 0.06720651 |  0.2452066 |  0.7692315 | 25 | PODXL2|SULT4A1|PAPSS2|SLC35B2|TPST2|IMPAD1                                                  |\n",
       "\n"
      ],
      "text/plain": [
       "  Ontology\n",
       "1 BP      \n",
       "2 BP      \n",
       "3 BP      \n",
       "4 BP      \n",
       "5 BP      \n",
       "6 BP      \n",
       "  pathway                                                                \n",
       "1 'de novo' posttranslational protein folding (GO:0051084)               \n",
       "2 2-oxoglutarate metabolic process (GO:0006103)                          \n",
       "3 3'-UTR-mediated mRNA destabilization (GO:0061158)                      \n",
       "4 3'-UTR-mediated mRNA stabilization (GO:0070935)                        \n",
       "5 3'-phosphoadenosine 5'-phosphosulfate biosynthetic process (GO:0050428)\n",
       "6 3'-phosphoadenosine 5'-phosphosulfate metabolic process (GO:0050427)   \n",
       "  pval      padj      log2err    ES         NES        size\n",
       "1 0.1029810 0.4847898 0.23112671  0.4003760  1.3107621 29  \n",
       "2 0.9045226 0.9858164 0.04216194 -0.2523274 -0.6550171 17  \n",
       "3 0.8504202 0.9693308 0.04513442 -0.2993289 -0.6875038 10  \n",
       "4 0.3098237 0.7005844 0.12210792  0.4299334  1.1263580 13  \n",
       "5 0.3094170 0.7005844 0.11426650  0.5545328  1.1533300  6  \n",
       "6 0.8359788 0.9653768 0.06720651  0.2452066  0.7692315 25  \n",
       "  leadingEdge                                                                                \n",
       "1 ERO1A|HSPA6|CCT2|ENTPD5|DNAJC7|HSPA8|HSPA9|CHCHD4|HSPE1|HSPA5|GAK|HSPA4|HSPA14|UGGT2|PTGES3\n",
       "2 ADHFE1|IDH1|AADAT|TAT                                                                      \n",
       "3 CPEB3|ZC3H12D|RC3H1|ZFP36L2                                                                \n",
       "4 YBX3|ELAVL1|ZFP36|HNRNPC|DAZL|MAPKAPK2|TARDBP                                              \n",
       "5 PAPSS2|SLC35B2|SLC35B3                                                                     \n",
       "6 PODXL2|SULT4A1|PAPSS2|SLC35B2|TPST2|IMPAD1                                                 "
      ]
     },
     "metadata": {},
     "output_type": "display_data"
    }
   ],
   "source": [
    "head(t12)"
   ]
  },
  {
   "cell_type": "markdown",
   "metadata": {},
   "source": [
    "# Dermal marker genes"
   ]
  },
  {
   "cell_type": "code",
   "execution_count": 32,
   "metadata": {},
   "outputs": [
    {
     "name": "stderr",
     "output_type": "stream",
     "text": [
      "Joining, by = \"Cluster\"\n",
      "\n"
     ]
    }
   ],
   "source": [
    "## fibroblasts, mapped\n",
    "t13 <- readRDS('/data/srlab2/ik936/Roche/data/eczema/obj_fib.rds')$query$effects %>% \n",
    "    dplyr::mutate(\n",
    "        Tissue = 'Skin',\n",
    "        Cluster = gsub('C', '', Cluster)\n",
    "    ) %>% \n",
    "    inner_join(unique(dplyr::select(meta_data, Cluster, Cluster_name))) %>% \n",
    "    dplyr::select(Cluster = Cluster_name, Tissue, Feature = feature, LogFoldChange = beta, Sigma = sigma, Zscore = zscore, Pval = pvalue) %>% \n",
    "    subset(Pval < .1)\n"
   ]
  },
  {
   "cell_type": "code",
   "execution_count": 33,
   "metadata": {},
   "outputs": [
    {
     "data": {
      "text/html": [
       "<table class=\"dataframe\">\n",
       "<caption>A tibble: 6 × 7</caption>\n",
       "<thead>\n",
       "\t<tr><th scope=col>Cluster</th><th scope=col>Tissue</th><th scope=col>Feature</th><th scope=col>LogFoldChange</th><th scope=col>Sigma</th><th scope=col>Zscore</th><th scope=col>Pval</th></tr>\n",
       "\t<tr><th scope=col>&lt;chr&gt;</th><th scope=col>&lt;chr&gt;</th><th scope=col>&lt;chr&gt;</th><th scope=col>&lt;dbl&gt;</th><th scope=col>&lt;dbl&gt;</th><th scope=col>&lt;dbl&gt;</th><th scope=col>&lt;dbl&gt;</th></tr>\n",
       "</thead>\n",
       "<tbody>\n",
       "\t<tr><td>SPARC+COL3A1+ C4</td><td>Skin</td><td>PLA2G2A</td><td>-2.938145</td><td>0.3671918</td><td>-8.001663</td><td>1.227500e-15</td></tr>\n",
       "\t<tr><td>CD34+MFAP5+ C9  </td><td>Skin</td><td>NKD2   </td><td>-2.815291</td><td>0.3715960</td><td>-7.576216</td><td>3.557796e-14</td></tr>\n",
       "\t<tr><td>CD34+MFAP5+ C9  </td><td>Skin</td><td>COL4A1 </td><td>-1.955736</td><td>0.2619006</td><td>-7.467471</td><td>8.175044e-14</td></tr>\n",
       "\t<tr><td>CD34+MFAP5+ C9  </td><td>Skin</td><td>FBN1   </td><td> 1.809090</td><td>0.2489661</td><td> 7.266411</td><td>3.691647e-13</td></tr>\n",
       "\t<tr><td>CD34+MFAP5+ C9  </td><td>Skin</td><td>CD55   </td><td> 1.857448</td><td>0.2579580</td><td> 7.200581</td><td>5.995667e-13</td></tr>\n",
       "\t<tr><td>CD34+MFAP5+ C9  </td><td>Skin</td><td>MFAP5  </td><td> 1.852379</td><td>0.2610586</td><td> 7.095643</td><td>1.287515e-12</td></tr>\n",
       "</tbody>\n",
       "</table>\n"
      ],
      "text/latex": [
       "A tibble: 6 × 7\n",
       "\\begin{tabular}{lllllll}\n",
       " Cluster & Tissue & Feature & LogFoldChange & Sigma & Zscore & Pval\\\\\n",
       " <chr> & <chr> & <chr> & <dbl> & <dbl> & <dbl> & <dbl>\\\\\n",
       "\\hline\n",
       "\t SPARC+COL3A1+ C4 & Skin & PLA2G2A & -2.938145 & 0.3671918 & -8.001663 & 1.227500e-15\\\\\n",
       "\t CD34+MFAP5+ C9   & Skin & NKD2    & -2.815291 & 0.3715960 & -7.576216 & 3.557796e-14\\\\\n",
       "\t CD34+MFAP5+ C9   & Skin & COL4A1  & -1.955736 & 0.2619006 & -7.467471 & 8.175044e-14\\\\\n",
       "\t CD34+MFAP5+ C9   & Skin & FBN1    &  1.809090 & 0.2489661 &  7.266411 & 3.691647e-13\\\\\n",
       "\t CD34+MFAP5+ C9   & Skin & CD55    &  1.857448 & 0.2579580 &  7.200581 & 5.995667e-13\\\\\n",
       "\t CD34+MFAP5+ C9   & Skin & MFAP5   &  1.852379 & 0.2610586 &  7.095643 & 1.287515e-12\\\\\n",
       "\\end{tabular}\n"
      ],
      "text/markdown": [
       "\n",
       "A tibble: 6 × 7\n",
       "\n",
       "| Cluster &lt;chr&gt; | Tissue &lt;chr&gt; | Feature &lt;chr&gt; | LogFoldChange &lt;dbl&gt; | Sigma &lt;dbl&gt; | Zscore &lt;dbl&gt; | Pval &lt;dbl&gt; |\n",
       "|---|---|---|---|---|---|---|\n",
       "| SPARC+COL3A1+ C4 | Skin | PLA2G2A | -2.938145 | 0.3671918 | -8.001663 | 1.227500e-15 |\n",
       "| CD34+MFAP5+ C9   | Skin | NKD2    | -2.815291 | 0.3715960 | -7.576216 | 3.557796e-14 |\n",
       "| CD34+MFAP5+ C9   | Skin | COL4A1  | -1.955736 | 0.2619006 | -7.467471 | 8.175044e-14 |\n",
       "| CD34+MFAP5+ C9   | Skin | FBN1    |  1.809090 | 0.2489661 |  7.266411 | 3.691647e-13 |\n",
       "| CD34+MFAP5+ C9   | Skin | CD55    |  1.857448 | 0.2579580 |  7.200581 | 5.995667e-13 |\n",
       "| CD34+MFAP5+ C9   | Skin | MFAP5   |  1.852379 | 0.2610586 |  7.095643 | 1.287515e-12 |\n",
       "\n"
      ],
      "text/plain": [
       "  Cluster          Tissue Feature LogFoldChange Sigma     Zscore   \n",
       "1 SPARC+COL3A1+ C4 Skin   PLA2G2A -2.938145     0.3671918 -8.001663\n",
       "2 CD34+MFAP5+ C9   Skin   NKD2    -2.815291     0.3715960 -7.576216\n",
       "3 CD34+MFAP5+ C9   Skin   COL4A1  -1.955736     0.2619006 -7.467471\n",
       "4 CD34+MFAP5+ C9   Skin   FBN1     1.809090     0.2489661  7.266411\n",
       "5 CD34+MFAP5+ C9   Skin   CD55     1.857448     0.2579580  7.200581\n",
       "6 CD34+MFAP5+ C9   Skin   MFAP5    1.852379     0.2610586  7.095643\n",
       "  Pval        \n",
       "1 1.227500e-15\n",
       "2 3.557796e-14\n",
       "3 8.175044e-14\n",
       "4 3.691647e-13\n",
       "5 5.995667e-13\n",
       "6 1.287515e-12"
      ]
     },
     "metadata": {},
     "output_type": "display_data"
    }
   ],
   "source": [
    "head(t13)"
   ]
  },
  {
   "cell_type": "markdown",
   "metadata": {},
   "source": [
    "# Mouse marker genes "
   ]
  },
  {
   "cell_type": "code",
   "execution_count": 34,
   "metadata": {},
   "outputs": [],
   "source": [
    "# dname <- \n",
    "# # fields_load <- c('meta_data', 'effects_hs', 'U', 'masc')\n",
    "# fields_load <- c('meta_data', 'effects_hs', 'presto_hs', 'U', 'masc')\n",
    "# obj <- map(fields_load, function(name) {\n",
    "#     readRDS(file.path(dname, paste0(name, '.rds')))\n",
    "# })\n",
    "# names(obj) <- fields_load\n"
   ]
  },
  {
   "cell_type": "code",
   "execution_count": 35,
   "metadata": {},
   "outputs": [],
   "source": [
    "mm_presto <- readRDS('/data/srlab2/ik936/Roche/data/cache/mouse_query_joint/presto_hs.rds') \n"
   ]
  },
  {
   "cell_type": "code",
   "execution_count": 36,
   "metadata": {},
   "outputs": [
    {
     "name": "stderr",
     "output_type": "stream",
     "text": [
      "Warning message:\n",
      "“Expected 2 pieces. Missing pieces filled with `NA` in 14 rows [1, 2, 3, 4, 5, 6, 7, 8, 9, 10, 11, 12, 13, 14].”\n",
      "Joining, by = \"Cluster\"\n",
      "\n"
     ]
    }
   ],
   "source": [
    "contrasts_mat <- make_contrast.presto(mm_presto, 'Cluster', 'Tissue')\n",
    "t14 <- contrasts.presto(mm_presto, contrasts_mat, one_tailed = FALSE) %>% \n",
    "    tidyr::separate(contrast, c('Cluster', 'Tissue'), sep = '\\\\|', remove = FALSE) %>% \n",
    "#     arrange(pvalue)\n",
    "    dplyr::mutate(Cluster = gsub('C', '', Cluster)) %>% \n",
    "    inner_join(unique(dplyr::select(meta_data, Cluster, Cluster_name))) %>% \n",
    "    dplyr::select(Cluster = Cluster_name, Tissue, Feature = feature, LogFoldChange = beta, Sigma = sigma, Zscore = zscore, Pval = pvalue) %>% \n",
    "    subset(Pval < .1)\n"
   ]
  },
  {
   "cell_type": "code",
   "execution_count": 37,
   "metadata": {},
   "outputs": [
    {
     "data": {
      "text/html": [
       "<table class=\"dataframe\">\n",
       "<caption>A tibble: 6 × 7</caption>\n",
       "<thead>\n",
       "\t<tr><th scope=col>Cluster</th><th scope=col>Tissue</th><th scope=col>Feature</th><th scope=col>LogFoldChange</th><th scope=col>Sigma</th><th scope=col>Zscore</th><th scope=col>Pval</th></tr>\n",
       "\t<tr><th scope=col>&lt;chr&gt;</th><th scope=col>&lt;chr&gt;</th><th scope=col>&lt;chr&gt;</th><th scope=col>&lt;dbl&gt;</th><th scope=col>&lt;dbl&gt;</th><th scope=col>&lt;dbl&gt;</th><th scope=col>&lt;dbl&gt;</th></tr>\n",
       "</thead>\n",
       "<tbody>\n",
       "\t<tr><td>C1               </td><td>Synovium_cia</td><td>A2M  </td><td> 3.0160142</td><td>0.9168663</td><td> 3.289481</td><td>0.001003724</td></tr>\n",
       "\t<tr><td>CXCL10+CCL19+ C11</td><td>Synovium_sta</td><td>AAMDC</td><td>-0.8550637</td><td>0.4018379</td><td>-2.127882</td><td>0.033346843</td></tr>\n",
       "\t<tr><td>MYH11+ C13       </td><td>Gut         </td><td>AARD </td><td>-1.3430183</td><td>0.7476975</td><td>-1.796205</td><td>0.072461859</td></tr>\n",
       "\t<tr><td>C6               </td><td>Gut         </td><td>AARD </td><td> 1.6068837</td><td>0.7328393</td><td> 2.192682</td><td>0.028330289</td></tr>\n",
       "\t<tr><td>CD34+MFAP5+ C9   </td><td>Gut         </td><td>AARD </td><td>-1.3435749</td><td>0.7134690</td><td>-1.883158</td><td>0.059678958</td></tr>\n",
       "\t<tr><td>C1               </td><td>Lung        </td><td>AARD </td><td>-1.0780220</td><td>0.5720651</td><td>-1.884439</td><td>0.059505574</td></tr>\n",
       "</tbody>\n",
       "</table>\n"
      ],
      "text/latex": [
       "A tibble: 6 × 7\n",
       "\\begin{tabular}{lllllll}\n",
       " Cluster & Tissue & Feature & LogFoldChange & Sigma & Zscore & Pval\\\\\n",
       " <chr> & <chr> & <chr> & <dbl> & <dbl> & <dbl> & <dbl>\\\\\n",
       "\\hline\n",
       "\t C1                & Synovium\\_cia & A2M   &  3.0160142 & 0.9168663 &  3.289481 & 0.001003724\\\\\n",
       "\t CXCL10+CCL19+ C11 & Synovium\\_sta & AAMDC & -0.8550637 & 0.4018379 & -2.127882 & 0.033346843\\\\\n",
       "\t MYH11+ C13        & Gut          & AARD  & -1.3430183 & 0.7476975 & -1.796205 & 0.072461859\\\\\n",
       "\t C6                & Gut          & AARD  &  1.6068837 & 0.7328393 &  2.192682 & 0.028330289\\\\\n",
       "\t CD34+MFAP5+ C9    & Gut          & AARD  & -1.3435749 & 0.7134690 & -1.883158 & 0.059678958\\\\\n",
       "\t C1                & Lung         & AARD  & -1.0780220 & 0.5720651 & -1.884439 & 0.059505574\\\\\n",
       "\\end{tabular}\n"
      ],
      "text/markdown": [
       "\n",
       "A tibble: 6 × 7\n",
       "\n",
       "| Cluster &lt;chr&gt; | Tissue &lt;chr&gt; | Feature &lt;chr&gt; | LogFoldChange &lt;dbl&gt; | Sigma &lt;dbl&gt; | Zscore &lt;dbl&gt; | Pval &lt;dbl&gt; |\n",
       "|---|---|---|---|---|---|---|\n",
       "| C1                | Synovium_cia | A2M   |  3.0160142 | 0.9168663 |  3.289481 | 0.001003724 |\n",
       "| CXCL10+CCL19+ C11 | Synovium_sta | AAMDC | -0.8550637 | 0.4018379 | -2.127882 | 0.033346843 |\n",
       "| MYH11+ C13        | Gut          | AARD  | -1.3430183 | 0.7476975 | -1.796205 | 0.072461859 |\n",
       "| C6                | Gut          | AARD  |  1.6068837 | 0.7328393 |  2.192682 | 0.028330289 |\n",
       "| CD34+MFAP5+ C9    | Gut          | AARD  | -1.3435749 | 0.7134690 | -1.883158 | 0.059678958 |\n",
       "| C1                | Lung         | AARD  | -1.0780220 | 0.5720651 | -1.884439 | 0.059505574 |\n",
       "\n"
      ],
      "text/plain": [
       "  Cluster           Tissue       Feature LogFoldChange Sigma     Zscore   \n",
       "1 C1                Synovium_cia A2M      3.0160142    0.9168663  3.289481\n",
       "2 CXCL10+CCL19+ C11 Synovium_sta AAMDC   -0.8550637    0.4018379 -2.127882\n",
       "3 MYH11+ C13        Gut          AARD    -1.3430183    0.7476975 -1.796205\n",
       "4 C6                Gut          AARD     1.6068837    0.7328393  2.192682\n",
       "5 CD34+MFAP5+ C9    Gut          AARD    -1.3435749    0.7134690 -1.883158\n",
       "6 C1                Lung         AARD    -1.0780220    0.5720651 -1.884439\n",
       "  Pval       \n",
       "1 0.001003724\n",
       "2 0.033346843\n",
       "3 0.072461859\n",
       "4 0.028330289\n",
       "5 0.059678958\n",
       "6 0.059505574"
      ]
     },
     "metadata": {},
     "output_type": "display_data"
    }
   ],
   "source": [
    "head(t14)\n"
   ]
  },
  {
   "cell_type": "markdown",
   "metadata": {},
   "source": [
    "# Mouse MASC"
   ]
  },
  {
   "cell_type": "code",
   "execution_count": 38,
   "metadata": {},
   "outputs": [],
   "source": [
    "# t11 <- readRDS('/data/srlab2/ik936/Roche/data/cache/mouse_query_joint/masc.rds') %>% \n",
    "#     dplyr::mutate(Cluster = gsub('C', '', Cluster), Species = 'mm') %>% \n",
    "#     inner_join(unique(dplyr::select(meta_data, Cluster, Cluster_name))) %>% \n",
    "#     dplyr::select(Cluster = Cluster_name, Tissue, Species, Ncells, LogFoldChange = beta, Sigma = sigma, Zscore = zscore, Pval = pvalue)  \n"
   ]
  },
  {
   "cell_type": "code",
   "execution_count": 39,
   "metadata": {},
   "outputs": [],
   "source": [
    "# head(t11)\n"
   ]
  },
  {
   "cell_type": "markdown",
   "metadata": {},
   "source": [
    "# DSS phase modules enrichment"
   ]
  },
  {
   "cell_type": "code",
   "execution_count": 40,
   "metadata": {},
   "outputs": [],
   "source": [
    "t15 <- readRDS('/data/srlab2/ik936/Roche/data/cache/gut_time_enrichment.rds')\n"
   ]
  },
  {
   "cell_type": "code",
   "execution_count": 41,
   "metadata": {},
   "outputs": [
    {
     "data": {
      "text/html": [
       "<table class=\"dataframe\">\n",
       "<caption>A data.table: 1 × 10</caption>\n",
       "<thead>\n",
       "\t<tr><th scope=col>Cluster</th><th scope=col>database</th><th scope=col>pathway</th><th scope=col>pval</th><th scope=col>padj</th><th scope=col>ES</th><th scope=col>NES</th><th scope=col>nMoreExtreme</th><th scope=col>size</th><th scope=col>leadingEdge</th></tr>\n",
       "\t<tr><th scope=col>&lt;chr&gt;</th><th scope=col>&lt;chr&gt;</th><th scope=col>&lt;chr&gt;</th><th scope=col>&lt;dbl&gt;</th><th scope=col>&lt;dbl&gt;</th><th scope=col>&lt;dbl&gt;</th><th scope=col>&lt;dbl&gt;</th><th scope=col>&lt;dbl&gt;</th><th scope=col>&lt;int&gt;</th><th scope=col>&lt;list&gt;</th></tr>\n",
       "</thead>\n",
       "<tbody>\n",
       "\t<tr><td>13</td><td>1</td><td>1</td><td>0.0005181347</td><td>0.0009326425</td><td>-0.3818272</td><td>-2.084944</td><td>0</td><td>392</td><td>Il6      , Cp       , Cyp7b1   , Icam1    , Nfkbie   , C6       , Hgf      , Cxcl5    , Chil1    , Socs3    , Rasd1    , Irf1     , Limd2    , Sfrp1    , Sat1     , Cebpd    , Irf8     , Il34     , Gpr68    , Glis1    , Csta1    , Medag    , Ctsk     , Cemip    , Tnfrsf1b , Tnfaip2  , Cd40     , Ccl8     , Fscn1    , Adam12   , Cxcl10   , Rasl11a  , Aldh1a3  , Rpl28    , Herc6    , Srpx2    , Trafd1   , Rhoh     , Tmem140  , Lacc1    , F10      , Fcgr3    , Fcgr2b   , Cyp1b1   , Elk3     , Tmem86a  , Ly6e     , Gadd45g  , Tifa     , Cyba     , Rbp1     , Bst1     , Cxcl9    , Snx10    , Il16     , Slc40a1  , Ccr1     , Cxcl16   , Pear1    , Susd1    , Ms4a7    , Nfil3    , H2-Oa    , Prr16    , Tmem176a , Cd22     , Lamc2    , Tmem229b , Hp       , Tap1     , AB124611 , Ptx3     , S1pr2    , Il11     , Serpina3n, Serpina3i, Serpina3g, Serpina3f, Abcg3    , Il4ra    , Gch1     , Thpo     , Hk2      , Plekhs1  , Zmynd15  , Rps28    , Trim34a  , Il12b    , C1s1     , Mrc2     , Ido1     , Nrg1     , Sla      , Etl4     , Coro1a   , Mmp3     , Mmp10    , Igsf6    , Themis2  , Sgip1    , Slc15a3  , Pgd      , Sulf1    , Lcn2     , Limk2    , Egfl7    , C1ra     , Cd163l1  , Mid1     , Unc93b1  , Nxnl2    , Emb      , Dmbt1    , Prf1     , Il12rb1  , Rac2     , Cfp      , Ripk3    , Tnfrsf1a , Ifitm6   , Ifitm1   , Arid3a   , Cd302    , Fmnl1    , B3gnt5   , Prkch    , Olfml3   , Pros1    , Sirpb1b  , Sirpa    , Gm9733   , Gm5150   , Gpsm3    , Tmem71   , Cyp4f18  , Aoah     , Itgax    , Mttp     , Ifnar2   , Slc11a1  , Myo1f    , Draxin   , Ncf1     , Timp1    , Stom     </td></tr>\n",
       "</tbody>\n",
       "</table>\n"
      ],
      "text/latex": [
       "A data.table: 1 × 10\n",
       "\\begin{tabular}{llllllllll}\n",
       " Cluster & database & pathway & pval & padj & ES & NES & nMoreExtreme & size & leadingEdge\\\\\n",
       " <chr> & <chr> & <chr> & <dbl> & <dbl> & <dbl> & <dbl> & <dbl> & <int> & <list>\\\\\n",
       "\\hline\n",
       "\t 13 & 1 & 1 & 0.0005181347 & 0.0009326425 & -0.3818272 & -2.084944 & 0 & 392 & Il6      , Cp       , Cyp7b1   , Icam1    , Nfkbie   , C6       , Hgf      , Cxcl5    , Chil1    , Socs3    , Rasd1    , Irf1     , Limd2    , Sfrp1    , Sat1     , Cebpd    , Irf8     , Il34     , Gpr68    , Glis1    , Csta1    , Medag    , Ctsk     , Cemip    , Tnfrsf1b , Tnfaip2  , Cd40     , Ccl8     , Fscn1    , Adam12   , Cxcl10   , Rasl11a  , Aldh1a3  , Rpl28    , Herc6    , Srpx2    , Trafd1   , Rhoh     , Tmem140  , Lacc1    , F10      , Fcgr3    , Fcgr2b   , Cyp1b1   , Elk3     , Tmem86a  , Ly6e     , Gadd45g  , Tifa     , Cyba     , Rbp1     , Bst1     , Cxcl9    , Snx10    , Il16     , Slc40a1  , Ccr1     , Cxcl16   , Pear1    , Susd1    , Ms4a7    , Nfil3    , H2-Oa    , Prr16    , Tmem176a , Cd22     , Lamc2    , Tmem229b , Hp       , Tap1     , AB124611 , Ptx3     , S1pr2    , Il11     , Serpina3n, Serpina3i, Serpina3g, Serpina3f, Abcg3    , Il4ra    , Gch1     , Thpo     , Hk2      , Plekhs1  , Zmynd15  , Rps28    , Trim34a  , Il12b    , C1s1     , Mrc2     , Ido1     , Nrg1     , Sla      , Etl4     , Coro1a   , Mmp3     , Mmp10    , Igsf6    , Themis2  , Sgip1    , Slc15a3  , Pgd      , Sulf1    , Lcn2     , Limk2    , Egfl7    , C1ra     , Cd163l1  , Mid1     , Unc93b1  , Nxnl2    , Emb      , Dmbt1    , Prf1     , Il12rb1  , Rac2     , Cfp      , Ripk3    , Tnfrsf1a , Ifitm6   , Ifitm1   , Arid3a   , Cd302    , Fmnl1    , B3gnt5   , Prkch    , Olfml3   , Pros1    , Sirpb1b  , Sirpa    , Gm9733   , Gm5150   , Gpsm3    , Tmem71   , Cyp4f18  , Aoah     , Itgax    , Mttp     , Ifnar2   , Slc11a1  , Myo1f    , Draxin   , Ncf1     , Timp1    , Stom     \\\\\n",
       "\\end{tabular}\n"
      ],
      "text/markdown": [
       "\n",
       "A data.table: 1 × 10\n",
       "\n",
       "| Cluster &lt;chr&gt; | database &lt;chr&gt; | pathway &lt;chr&gt; | pval &lt;dbl&gt; | padj &lt;dbl&gt; | ES &lt;dbl&gt; | NES &lt;dbl&gt; | nMoreExtreme &lt;dbl&gt; | size &lt;int&gt; | leadingEdge &lt;list&gt; |\n",
       "|---|---|---|---|---|---|---|---|---|---|\n",
       "| 13 | 1 | 1 | 0.0005181347 | 0.0009326425 | -0.3818272 | -2.084944 | 0 | 392 | Il6      , Cp       , Cyp7b1   , Icam1    , Nfkbie   , C6       , Hgf      , Cxcl5    , Chil1    , Socs3    , Rasd1    , Irf1     , Limd2    , Sfrp1    , Sat1     , Cebpd    , Irf8     , Il34     , Gpr68    , Glis1    , Csta1    , Medag    , Ctsk     , Cemip    , Tnfrsf1b , Tnfaip2  , Cd40     , Ccl8     , Fscn1    , Adam12   , Cxcl10   , Rasl11a  , Aldh1a3  , Rpl28    , Herc6    , Srpx2    , Trafd1   , Rhoh     , Tmem140  , Lacc1    , F10      , Fcgr3    , Fcgr2b   , Cyp1b1   , Elk3     , Tmem86a  , Ly6e     , Gadd45g  , Tifa     , Cyba     , Rbp1     , Bst1     , Cxcl9    , Snx10    , Il16     , Slc40a1  , Ccr1     , Cxcl16   , Pear1    , Susd1    , Ms4a7    , Nfil3    , H2-Oa    , Prr16    , Tmem176a , Cd22     , Lamc2    , Tmem229b , Hp       , Tap1     , AB124611 , Ptx3     , S1pr2    , Il11     , Serpina3n, Serpina3i, Serpina3g, Serpina3f, Abcg3    , Il4ra    , Gch1     , Thpo     , Hk2      , Plekhs1  , Zmynd15  , Rps28    , Trim34a  , Il12b    , C1s1     , Mrc2     , Ido1     , Nrg1     , Sla      , Etl4     , Coro1a   , Mmp3     , Mmp10    , Igsf6    , Themis2  , Sgip1    , Slc15a3  , Pgd      , Sulf1    , Lcn2     , Limk2    , Egfl7    , C1ra     , Cd163l1  , Mid1     , Unc93b1  , Nxnl2    , Emb      , Dmbt1    , Prf1     , Il12rb1  , Rac2     , Cfp      , Ripk3    , Tnfrsf1a , Ifitm6   , Ifitm1   , Arid3a   , Cd302    , Fmnl1    , B3gnt5   , Prkch    , Olfml3   , Pros1    , Sirpb1b  , Sirpa    , Gm9733   , Gm5150   , Gpsm3    , Tmem71   , Cyp4f18  , Aoah     , Itgax    , Mttp     , Ifnar2   , Slc11a1  , Myo1f    , Draxin   , Ncf1     , Timp1    , Stom      |\n",
       "\n"
      ],
      "text/plain": [
       "  Cluster database pathway pval         padj         ES         NES      \n",
       "1 13      1        1       0.0005181347 0.0009326425 -0.3818272 -2.084944\n",
       "  nMoreExtreme size\n",
       "1 0            392 \n",
       "  leadingEdge                                                                                                                                                                                                                                                                                                                                                                                                                                                                                                                                                                                                                                                                                                                                                                                                                                                                                                                                                                                                                                                                                                                                                                                                                                                                                                                                                                                                                                                                                                                                                                                                                                              \n",
       "1 Il6      , Cp       , Cyp7b1   , Icam1    , Nfkbie   , C6       , Hgf      , Cxcl5    , Chil1    , Socs3    , Rasd1    , Irf1     , Limd2    , Sfrp1    , Sat1     , Cebpd    , Irf8     , Il34     , Gpr68    , Glis1    , Csta1    , Medag    , Ctsk     , Cemip    , Tnfrsf1b , Tnfaip2  , Cd40     , Ccl8     , Fscn1    , Adam12   , Cxcl10   , Rasl11a  , Aldh1a3  , Rpl28    , Herc6    , Srpx2    , Trafd1   , Rhoh     , Tmem140  , Lacc1    , F10      , Fcgr3    , Fcgr2b   , Cyp1b1   , Elk3     , Tmem86a  , Ly6e     , Gadd45g  , Tifa     , Cyba     , Rbp1     , Bst1     , Cxcl9    , Snx10    , Il16     , Slc40a1  , Ccr1     , Cxcl16   , Pear1    , Susd1    , Ms4a7    , Nfil3    , H2-Oa    , Prr16    , Tmem176a , Cd22     , Lamc2    , Tmem229b , Hp       , Tap1     , AB124611 , Ptx3     , S1pr2    , Il11     , Serpina3n, Serpina3i, Serpina3g, Serpina3f, Abcg3    , Il4ra    , Gch1     , Thpo     , Hk2      , Plekhs1  , Zmynd15  , Rps28    , Trim34a  , Il12b    , C1s1     , Mrc2     , Ido1     , Nrg1     , Sla      , Etl4     , Coro1a   , Mmp3     , Mmp10    , Igsf6    , Themis2  , Sgip1    , Slc15a3  , Pgd      , Sulf1    , Lcn2     , Limk2    , Egfl7    , C1ra     , Cd163l1  , Mid1     , Unc93b1  , Nxnl2    , Emb      , Dmbt1    , Prf1     , Il12rb1  , Rac2     , Cfp      , Ripk3    , Tnfrsf1a , Ifitm6   , Ifitm1   , Arid3a   , Cd302    , Fmnl1    , B3gnt5   , Prkch    , Olfml3   , Pros1    , Sirpb1b  , Sirpa    , Gm9733   , Gm5150   , Gpsm3    , Tmem71   , Cyp4f18  , Aoah     , Itgax    , Mttp     , Ifnar2   , Slc11a1  , Myo1f    , Draxin   , Ncf1     , Timp1    , Stom     "
      ]
     },
     "metadata": {},
     "output_type": "display_data"
    }
   ],
   "source": [
    "head(t15, 1)\n"
   ]
  },
  {
   "cell_type": "markdown",
   "metadata": {},
   "source": [
    "# DSS-time sorted fibroblasts "
   ]
  },
  {
   "cell_type": "code",
   "execution_count": 42,
   "metadata": {},
   "outputs": [
    {
     "name": "stderr",
     "output_type": "stream",
     "text": [
      "Joining, by = \"feature\"\n",
      "\n"
     ]
    }
   ],
   "source": [
    "lres_dynamic <- readRDS('/data/srlab2/ik936/Roche/data/cache/DSS_lres_dynamics.rds')\n",
    "lres_peaks <- readRDS('/data/srlab2/ik936/Roche/data/cache/DSS_lres_peaks.rds')\n",
    "t16 <- lres_dynamic %>% \n",
    "    dplyr::select(-matches('^sm.ns')) %>% \n",
    "    left_join(dplyr::select(lres_peaks, feature, logFC, TimePoint)) %>% \n",
    "    tidyr::spread(TimePoint, logFC) %>% \n",
    "    dplyr::select(feature, AveExpr, F, P.Value, fdr, D2, D4, D7, D9, D11, D14)\n",
    "    "
   ]
  },
  {
   "cell_type": "code",
   "execution_count": 43,
   "metadata": {},
   "outputs": [
    {
     "data": {
      "text/html": [
       "<table class=\"dataframe\">\n",
       "<caption>A data.frame: 6 × 11</caption>\n",
       "<thead>\n",
       "\t<tr><th></th><th scope=col>feature</th><th scope=col>AveExpr</th><th scope=col>F</th><th scope=col>P.Value</th><th scope=col>fdr</th><th scope=col>D2</th><th scope=col>D4</th><th scope=col>D7</th><th scope=col>D9</th><th scope=col>D11</th><th scope=col>D14</th></tr>\n",
       "\t<tr><th></th><th scope=col>&lt;chr&gt;</th><th scope=col>&lt;dbl&gt;</th><th scope=col>&lt;dbl&gt;</th><th scope=col>&lt;dbl&gt;</th><th scope=col>&lt;dbl&gt;</th><th scope=col>&lt;dbl&gt;</th><th scope=col>&lt;dbl&gt;</th><th scope=col>&lt;dbl&gt;</th><th scope=col>&lt;dbl&gt;</th><th scope=col>&lt;dbl&gt;</th><th scope=col>&lt;dbl&gt;</th></tr>\n",
       "</thead>\n",
       "<tbody>\n",
       "\t<tr><th scope=row>1</th><td>Mmp3 </td><td>6.663360</td><td>25.88071</td><td>4.639500e-10</td><td>6.872027e-06</td><td> 0.67485171</td><td> 2.0044705</td><td> 2.2321690</td><td> 2.192098984</td><td>1.17392003</td><td> 0.8614719</td></tr>\n",
       "\t<tr><th scope=row>2</th><td>Aspn </td><td>6.882398</td><td>17.14975</td><td>6.836827e-08</td><td>3.423470e-04</td><td>-0.07962628</td><td>-0.1203999</td><td>-1.5844234</td><td>-1.218143558</td><td>0.06496953</td><td>-0.3026773</td></tr>\n",
       "\t<tr><th scope=row>3</th><td>Lum  </td><td>8.368560</td><td>17.11716</td><td>6.985597e-08</td><td>3.423470e-04</td><td> 0.13147833</td><td> 0.1952191</td><td>-0.5015135</td><td>-0.007835263</td><td>0.40966210</td><td> 0.2958924</td></tr>\n",
       "\t<tr><th scope=row>4</th><td>C3   </td><td>7.016185</td><td>16.49894</td><td>1.056128e-07</td><td>3.423470e-04</td><td>-0.25414661</td><td> 0.1767106</td><td> 0.7544408</td><td> 1.377849891</td><td>1.31230018</td><td> 0.8241961</td></tr>\n",
       "\t<tr><th scope=row>5</th><td>Actg2</td><td>2.729150</td><td>16.36615</td><td>1.155641e-07</td><td>3.423470e-04</td><td>-1.73553934</td><td>-1.2098486</td><td> 1.9159592</td><td> 2.562895704</td><td>3.33042266</td><td> 2.1122172</td></tr>\n",
       "\t<tr><th scope=row>6</th><td>Saa3 </td><td>3.733894</td><td>16.02062</td><td>1.463908e-07</td><td>3.613902e-04</td><td>-0.21513325</td><td> 2.9921403</td><td> 5.4708013</td><td> 5.093025282</td><td>2.06782075</td><td> 2.2841579</td></tr>\n",
       "</tbody>\n",
       "</table>\n"
      ],
      "text/latex": [
       "A data.frame: 6 × 11\n",
       "\\begin{tabular}{r|lllllllllll}\n",
       "  & feature & AveExpr & F & P.Value & fdr & D2 & D4 & D7 & D9 & D11 & D14\\\\\n",
       "  & <chr> & <dbl> & <dbl> & <dbl> & <dbl> & <dbl> & <dbl> & <dbl> & <dbl> & <dbl> & <dbl>\\\\\n",
       "\\hline\n",
       "\t1 & Mmp3  & 6.663360 & 25.88071 & 4.639500e-10 & 6.872027e-06 &  0.67485171 &  2.0044705 &  2.2321690 &  2.192098984 & 1.17392003 &  0.8614719\\\\\n",
       "\t2 & Aspn  & 6.882398 & 17.14975 & 6.836827e-08 & 3.423470e-04 & -0.07962628 & -0.1203999 & -1.5844234 & -1.218143558 & 0.06496953 & -0.3026773\\\\\n",
       "\t3 & Lum   & 8.368560 & 17.11716 & 6.985597e-08 & 3.423470e-04 &  0.13147833 &  0.1952191 & -0.5015135 & -0.007835263 & 0.40966210 &  0.2958924\\\\\n",
       "\t4 & C3    & 7.016185 & 16.49894 & 1.056128e-07 & 3.423470e-04 & -0.25414661 &  0.1767106 &  0.7544408 &  1.377849891 & 1.31230018 &  0.8241961\\\\\n",
       "\t5 & Actg2 & 2.729150 & 16.36615 & 1.155641e-07 & 3.423470e-04 & -1.73553934 & -1.2098486 &  1.9159592 &  2.562895704 & 3.33042266 &  2.1122172\\\\\n",
       "\t6 & Saa3  & 3.733894 & 16.02062 & 1.463908e-07 & 3.613902e-04 & -0.21513325 &  2.9921403 &  5.4708013 &  5.093025282 & 2.06782075 &  2.2841579\\\\\n",
       "\\end{tabular}\n"
      ],
      "text/markdown": [
       "\n",
       "A data.frame: 6 × 11\n",
       "\n",
       "| <!--/--> | feature &lt;chr&gt; | AveExpr &lt;dbl&gt; | F &lt;dbl&gt; | P.Value &lt;dbl&gt; | fdr &lt;dbl&gt; | D2 &lt;dbl&gt; | D4 &lt;dbl&gt; | D7 &lt;dbl&gt; | D9 &lt;dbl&gt; | D11 &lt;dbl&gt; | D14 &lt;dbl&gt; |\n",
       "|---|---|---|---|---|---|---|---|---|---|---|---|\n",
       "| 1 | Mmp3  | 6.663360 | 25.88071 | 4.639500e-10 | 6.872027e-06 |  0.67485171 |  2.0044705 |  2.2321690 |  2.192098984 | 1.17392003 |  0.8614719 |\n",
       "| 2 | Aspn  | 6.882398 | 17.14975 | 6.836827e-08 | 3.423470e-04 | -0.07962628 | -0.1203999 | -1.5844234 | -1.218143558 | 0.06496953 | -0.3026773 |\n",
       "| 3 | Lum   | 8.368560 | 17.11716 | 6.985597e-08 | 3.423470e-04 |  0.13147833 |  0.1952191 | -0.5015135 | -0.007835263 | 0.40966210 |  0.2958924 |\n",
       "| 4 | C3    | 7.016185 | 16.49894 | 1.056128e-07 | 3.423470e-04 | -0.25414661 |  0.1767106 |  0.7544408 |  1.377849891 | 1.31230018 |  0.8241961 |\n",
       "| 5 | Actg2 | 2.729150 | 16.36615 | 1.155641e-07 | 3.423470e-04 | -1.73553934 | -1.2098486 |  1.9159592 |  2.562895704 | 3.33042266 |  2.1122172 |\n",
       "| 6 | Saa3  | 3.733894 | 16.02062 | 1.463908e-07 | 3.613902e-04 | -0.21513325 |  2.9921403 |  5.4708013 |  5.093025282 | 2.06782075 |  2.2841579 |\n",
       "\n"
      ],
      "text/plain": [
       "  feature AveExpr  F        P.Value      fdr          D2          D4        \n",
       "1 Mmp3    6.663360 25.88071 4.639500e-10 6.872027e-06  0.67485171  2.0044705\n",
       "2 Aspn    6.882398 17.14975 6.836827e-08 3.423470e-04 -0.07962628 -0.1203999\n",
       "3 Lum     8.368560 17.11716 6.985597e-08 3.423470e-04  0.13147833  0.1952191\n",
       "4 C3      7.016185 16.49894 1.056128e-07 3.423470e-04 -0.25414661  0.1767106\n",
       "5 Actg2   2.729150 16.36615 1.155641e-07 3.423470e-04 -1.73553934 -1.2098486\n",
       "6 Saa3    3.733894 16.02062 1.463908e-07 3.613902e-04 -0.21513325  2.9921403\n",
       "  D7         D9           D11        D14       \n",
       "1  2.2321690  2.192098984 1.17392003  0.8614719\n",
       "2 -1.5844234 -1.218143558 0.06496953 -0.3026773\n",
       "3 -0.5015135 -0.007835263 0.40966210  0.2958924\n",
       "4  0.7544408  1.377849891 1.31230018  0.8241961\n",
       "5  1.9159592  2.562895704 3.33042266  2.1122172\n",
       "6  5.4708013  5.093025282 2.06782075  2.2841579"
      ]
     },
     "metadata": {},
     "output_type": "display_data"
    }
   ],
   "source": [
    "head(t16)"
   ]
  },
  {
   "cell_type": "markdown",
   "metadata": {},
   "source": [
    "# DSS GSEA "
   ]
  },
  {
   "cell_type": "code",
   "execution_count": 44,
   "metadata": {},
   "outputs": [],
   "source": [
    "t17 <- readRDS('/data/srlab2/ik936/Roche/data/cache/DSS_enrich_res.rds')"
   ]
  },
  {
   "cell_type": "code",
   "execution_count": 50,
   "metadata": {},
   "outputs": [
    {
     "data": {
      "text/html": [
       "<table class=\"dataframe\">\n",
       "<caption>A data.table: 1 × 9</caption>\n",
       "<thead>\n",
       "\t<tr><th scope=col>Cluster</th><th scope=col>pathway</th><th scope=col>pval</th><th scope=col>padj</th><th scope=col>log2err</th><th scope=col>ES</th><th scope=col>NES</th><th scope=col>size</th><th scope=col>leadingEdge</th></tr>\n",
       "\t<tr><th scope=col>&lt;chr&gt;</th><th scope=col>&lt;chr&gt;</th><th scope=col>&lt;dbl&gt;</th><th scope=col>&lt;dbl&gt;</th><th scope=col>&lt;dbl&gt;</th><th scope=col>&lt;dbl&gt;</th><th scope=col>&lt;dbl&gt;</th><th scope=col>&lt;int&gt;</th><th scope=col>&lt;list&gt;</th></tr>\n",
       "</thead>\n",
       "<tbody>\n",
       "\t<tr><td>C11</td><td>Inflammation</td><td>4.746245e-19</td><td>9.492491e-19</td><td>1.123915</td><td>0.831111</td><td>3.093872</td><td>58</td><td>Gbp4         , Ccl2         , Cxcl9        , Saa3         , Plac8        , Gbp9         , Serpina3f    , F830016B08Rik, Cxcl5        , Mt2          , Cxcl13       , Chl1         , Ifitm1       , Ifitm3       , Ccl7         , Cxcl1        , Mmp3         , Ccl19        , C3           , Gm12840      , Serpina3n    , Angptl4      , Tmem176b     , Cxcl2        , Serpina3m    , Gm12185      , Ifitm2       </td></tr>\n",
       "</tbody>\n",
       "</table>\n"
      ],
      "text/latex": [
       "A data.table: 1 × 9\n",
       "\\begin{tabular}{lllllllll}\n",
       " Cluster & pathway & pval & padj & log2err & ES & NES & size & leadingEdge\\\\\n",
       " <chr> & <chr> & <dbl> & <dbl> & <dbl> & <dbl> & <dbl> & <int> & <list>\\\\\n",
       "\\hline\n",
       "\t C11 & Inflammation & 4.746245e-19 & 9.492491e-19 & 1.123915 & 0.831111 & 3.093872 & 58 & Gbp4         , Ccl2         , Cxcl9        , Saa3         , Plac8        , Gbp9         , Serpina3f    , F830016B08Rik, Cxcl5        , Mt2          , Cxcl13       , Chl1         , Ifitm1       , Ifitm3       , Ccl7         , Cxcl1        , Mmp3         , Ccl19        , C3           , Gm12840      , Serpina3n    , Angptl4      , Tmem176b     , Cxcl2        , Serpina3m    , Gm12185      , Ifitm2       \\\\\n",
       "\\end{tabular}\n"
      ],
      "text/markdown": [
       "\n",
       "A data.table: 1 × 9\n",
       "\n",
       "| Cluster &lt;chr&gt; | pathway &lt;chr&gt; | pval &lt;dbl&gt; | padj &lt;dbl&gt; | log2err &lt;dbl&gt; | ES &lt;dbl&gt; | NES &lt;dbl&gt; | size &lt;int&gt; | leadingEdge &lt;list&gt; |\n",
       "|---|---|---|---|---|---|---|---|---|\n",
       "| C11 | Inflammation | 4.746245e-19 | 9.492491e-19 | 1.123915 | 0.831111 | 3.093872 | 58 | Gbp4         , Ccl2         , Cxcl9        , Saa3         , Plac8        , Gbp9         , Serpina3f    , F830016B08Rik, Cxcl5        , Mt2          , Cxcl13       , Chl1         , Ifitm1       , Ifitm3       , Ccl7         , Cxcl1        , Mmp3         , Ccl19        , C3           , Gm12840      , Serpina3n    , Angptl4      , Tmem176b     , Cxcl2        , Serpina3m    , Gm12185      , Ifitm2        |\n",
       "\n"
      ],
      "text/plain": [
       "  Cluster pathway      pval         padj         log2err  ES       NES     \n",
       "1 C11     Inflammation 4.746245e-19 9.492491e-19 1.123915 0.831111 3.093872\n",
       "  size\n",
       "1 58  \n",
       "  leadingEdge                                                                                                                                                                                                                                                                                                                                                                                                        \n",
       "1 Gbp4         , Ccl2         , Cxcl9        , Saa3         , Plac8        , Gbp9         , Serpina3f    , F830016B08Rik, Cxcl5        , Mt2          , Cxcl13       , Chl1         , Ifitm1       , Ifitm3       , Ccl7         , Cxcl1        , Mmp3         , Ccl19        , C3           , Gm12840      , Serpina3n    , Angptl4      , Tmem176b     , Cxcl2        , Serpina3m    , Gm12185      , Ifitm2       "
      ]
     },
     "metadata": {},
     "output_type": "display_data"
    }
   ],
   "source": [
    "head(t17, 1)"
   ]
  },
  {
   "cell_type": "markdown",
   "metadata": {},
   "source": [
    "# Lung histology scores"
   ]
  },
  {
   "cell_type": "code",
   "execution_count": 46,
   "metadata": {},
   "outputs": [],
   "source": [
    "t18 <- openxlsx::read.xlsx('/data/srlab2/ik936/Roche/data/marina_scores_final.xlsx') %>% \n",
    "    subset(!is.na(`Total.Lymphs.Per.50.40x.fields`) & !is.na(X2)) %>%\n",
    "    left_join(clin_tables[[2]], by = 'LibraryID') %>% \n",
    "    dplyr::select(SampleID = SampleID.y, `Lymphocytes.per.10.40x.fields.(2mm2)`) %>% \n",
    "#     dplyr::select(SampleID = SampleID.y, `Total.Lymphs.Per.50.40x.fields`, `Lymphocytes.per.10.40x.fields.(2mm2)`) %>% \n",
    "    arrange(as.integer(gsub('Lung', '', SampleID)))"
   ]
  },
  {
   "cell_type": "code",
   "execution_count": 47,
   "metadata": {},
   "outputs": [
    {
     "data": {
      "text/html": [
       "<table class=\"dataframe\">\n",
       "<caption>A data.frame: 6 × 2</caption>\n",
       "<thead>\n",
       "\t<tr><th></th><th scope=col>SampleID</th><th scope=col>Lymphocytes.per.10.40x.fields.(2mm2)</th></tr>\n",
       "\t<tr><th></th><th scope=col>&lt;chr&gt;</th><th scope=col>&lt;dbl&gt;</th></tr>\n",
       "</thead>\n",
       "<tbody>\n",
       "\t<tr><th scope=row>1</th><td>Lung6 </td><td> 743.0</td></tr>\n",
       "\t<tr><th scope=row>2</th><td>Lung8 </td><td> 538.0</td></tr>\n",
       "\t<tr><th scope=row>3</th><td>Lung9 </td><td>1145.0</td></tr>\n",
       "\t<tr><th scope=row>4</th><td>Lung10</td><td> 591.4</td></tr>\n",
       "\t<tr><th scope=row>5</th><td>Lung11</td><td>1192.2</td></tr>\n",
       "\t<tr><th scope=row>6</th><td>Lung12</td><td> 798.0</td></tr>\n",
       "</tbody>\n",
       "</table>\n"
      ],
      "text/latex": [
       "A data.frame: 6 × 2\n",
       "\\begin{tabular}{r|ll}\n",
       "  & SampleID & Lymphocytes.per.10.40x.fields.(2mm2)\\\\\n",
       "  & <chr> & <dbl>\\\\\n",
       "\\hline\n",
       "\t1 & Lung6  &  743.0\\\\\n",
       "\t2 & Lung8  &  538.0\\\\\n",
       "\t3 & Lung9  & 1145.0\\\\\n",
       "\t4 & Lung10 &  591.4\\\\\n",
       "\t5 & Lung11 & 1192.2\\\\\n",
       "\t6 & Lung12 &  798.0\\\\\n",
       "\\end{tabular}\n"
      ],
      "text/markdown": [
       "\n",
       "A data.frame: 6 × 2\n",
       "\n",
       "| <!--/--> | SampleID &lt;chr&gt; | Lymphocytes.per.10.40x.fields.(2mm2) &lt;dbl&gt; |\n",
       "|---|---|---|\n",
       "| 1 | Lung6  |  743.0 |\n",
       "| 2 | Lung8  |  538.0 |\n",
       "| 3 | Lung9  | 1145.0 |\n",
       "| 4 | Lung10 |  591.4 |\n",
       "| 5 | Lung11 | 1192.2 |\n",
       "| 6 | Lung12 |  798.0 |\n",
       "\n"
      ],
      "text/plain": [
       "  SampleID Lymphocytes.per.10.40x.fields.(2mm2)\n",
       "1 Lung6     743.0                              \n",
       "2 Lung8     538.0                              \n",
       "3 Lung9    1145.0                              \n",
       "4 Lung10    591.4                              \n",
       "5 Lung11   1192.2                              \n",
       "6 Lung12    798.0                              "
      ]
     },
     "metadata": {},
     "output_type": "display_data"
    }
   ],
   "source": [
    "head(t18)"
   ]
  },
  {
   "cell_type": "markdown",
   "metadata": {},
   "source": [
    "# Save"
   ]
  },
  {
   "cell_type": "code",
   "execution_count": 51,
   "metadata": {},
   "outputs": [],
   "source": [
    "x <- list(table_ts_ahca, \n",
    "     clin_tables_clean[[1]], \n",
    "     clin_tables_clean[[2]], \n",
    "     clin_tables_clean[[3]], \n",
    "     clin_tables_clean[[4]], \n",
    "     t6, t7, t8, t9, t10, t11, t12, t13, t14, t15, t16, t17, t18\n",
    ")\n",
    "\n",
    "names(x) <- paste0('TableS', seq_len(length(x)))\n"
   ]
  },
  {
   "cell_type": "code",
   "execution_count": 52,
   "metadata": {},
   "outputs": [
    {
     "name": "stderr",
     "output_type": "stream",
     "text": [
      "Registered S3 method overwritten by 'pryr':\n",
      "  method      from\n",
      "  print.bytes Rcpp\n",
      "\n"
     ]
    },
    {
     "data": {
      "text/plain": [
       "86.3 MB"
      ]
     },
     "metadata": {},
     "output_type": "display_data"
    }
   ],
   "source": [
    "pryr::object_size(x)"
   ]
  },
  {
   "cell_type": "code",
   "execution_count": 53,
   "metadata": {},
   "outputs": [],
   "source": [
    "openxlsx::write.xlsx(x, '/data/srlab2/ik936/Roche/manuscript/tables/SupplementaryTables.xlsx', overwrite = TRUE)\n"
   ]
  },
  {
   "cell_type": "raw",
   "metadata": {},
   "source": [
    "\n",
    "\n",
    "\n",
    "\n",
    "\n",
    "\n",
    "\n",
    "\n",
    "\n",
    "\n",
    "\n",
    "\n",
    "\n",
    "\n",
    "\n",
    "\n",
    "\n"
   ]
  }
 ],
 "metadata": {
  "kernelspec": {
   "display_name": "R",
   "language": "R",
   "name": "ir"
  },
  "language_info": {
   "codemirror_mode": "r",
   "file_extension": ".r",
   "mimetype": "text/x-r-source",
   "name": "R",
   "pygments_lexer": "r",
   "version": "4.1.1"
  },
  "toc-autonumbering": true
 },
 "nbformat": 4,
 "nbformat_minor": 4
}
