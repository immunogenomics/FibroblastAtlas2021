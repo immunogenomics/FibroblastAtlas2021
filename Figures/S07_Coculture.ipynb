{
 "cells": [
  {
   "cell_type": "markdown",
   "id": "26cd4703-8bcd-4acb-aed9-d6cd9b3de3ab",
   "metadata": {},
   "source": [
    "# Load"
   ]
  },
  {
   "cell_type": "markdown",
   "id": "0129ecd8-a7de-4d2b-8459-7725b6215087",
   "metadata": {},
   "source": [
    "## Libs"
   ]
  },
  {
   "cell_type": "code",
   "execution_count": 1,
   "id": "b579b00c-522d-439b-8f06-7b9e9c1bc33c",
   "metadata": {
    "tags": []
   },
   "outputs": [],
   "source": [
    "suppressPackageStartupMessages({\n",
    "    source('../libs.R')\n",
    "    source('../utils.R')    \n",
    "    source('../Figures/colors.R')    \n",
    "    source('../utils_mapping.R')\n",
    "    source('../utils_plotting.R')\n",
    "})\n"
   ]
  },
  {
   "cell_type": "markdown",
   "id": "0d29dbfb-b997-4af3-9492-94e4ce0aef90",
   "metadata": {},
   "source": [
    "## data"
   ]
  },
  {
   "cell_type": "code",
   "execution_count": 2,
   "id": "6b207e5b-b41d-41f0-9ee9-6c0d32cc5d78",
   "metadata": {},
   "outputs": [],
   "source": [
    "ddres_costim <- readRDS('/data/srlab2/ik936/Roche/data/cache/stim_revisions_ddres_v1.rds')"
   ]
  },
  {
   "cell_type": "code",
   "execution_count": 3,
   "id": "f6cc1a52-02c2-4ebe-975d-a4b7c49422bd",
   "metadata": {},
   "outputs": [],
   "source": [
    "cluster_names_df <- unique(dplyr::select(readRDS('/data/srlab2/ik936/Roche/data/cache/obj_fibroblasts/meta_data.rds'), Cluster, Cluster_name))"
   ]
  },
  {
   "cell_type": "code",
   "execution_count": null,
   "id": "e9893653-0b47-43f4-8879-9347816e4b3c",
   "metadata": {},
   "outputs": [],
   "source": [
    "## Get pseudobulk expression to plot in heatmap \n",
    "obj_costim <- readRDS('/data/srlab2/ik936/Roche/data/cache/revision1_stim_object.rds')\n",
    "pb_costim <- presto::collapse_counts(obj_costim$exprs_raw, obj_costim$meta_data, c('DonorID', 'Condition', 'Tissue'))\n",
    "\n",
    "## Z-score within tissue \n",
    "pb_costim$exprs_scaled <- pb_costim$meta_data %>% split(.$Tissue) %>% map(function(.SD) {\n",
    "    scaleData(pb_costim$exprs_norm[, rownames(.SD)], margin = 1, thresh = 5)\n",
    "}) %>% \n",
    "    purrr::reduce(Matrix::cbind2)\n",
    "pb_costim$exprs_scaled <- pb_costim$exprs_scaled[, colnames(pb_costim$exprs_norm)]\n",
    "pb_costim$exprs_scaled[which(is.na(pb_costim$exprs_scaled))] <- 0"
   ]
  },
  {
   "cell_type": "code",
   "execution_count": null,
   "id": "6f903b76-ac7d-45ca-94be-96b9ec95ee09",
   "metadata": {},
   "outputs": [],
   "source": [
    "obj_costim_fls <- readRDS('/data/srlab2/ik936/Roche/data/cache/revision1_stim_object_synovium.rds')\n",
    "obj_costim_lung <- readRDS('/data/srlab2/ik936/Roche/data/cache/revision1_stim_object_lung.rds')"
   ]
  },
  {
   "cell_type": "markdown",
   "id": "9846b54d-ca00-4a69-94d7-a71b89974977",
   "metadata": {},
   "source": [
    "# Cell counts"
   ]
  },
  {
   "cell_type": "code",
   "execution_count": null,
   "id": "2d3d4098-3a5e-46db-bae5-f130ba317806",
   "metadata": {},
   "outputs": [],
   "source": [
    "fig.size(4, 6)\n",
    "p_counts <- data.table(obj_costim$meta_data)[, .N, by = .(Condition, DonorID, Tissue)] %>% \n",
    "    ggplot(aes(DonorID, N, fill = Condition)) + \n",
    "        geom_bar(stat = 'identity', position = position_dodge()) + \n",
    "        facet_grid(Tissue~., scales = 'free') + \n",
    "        coord_flip() + \n",
    "        scale_y_log10() + \n",
    "        scale_fill_tableau() + \n",
    "        geom_hline(yintercept = c(1e3), linetype = 2) + \n",
    "        labs(y = 'Number cells') + \n",
    "        NULL\n",
    "\n",
    "p_counts"
   ]
  },
  {
   "cell_type": "markdown",
   "id": "f0eadb9b-b8ee-4546-b001-927f93fc605d",
   "metadata": {},
   "source": [
    "# UMAPs"
   ]
  },
  {
   "cell_type": "code",
   "execution_count": null,
   "id": "7cfb3a86-8354-454d-94af-82b9bd4e601d",
   "metadata": {},
   "outputs": [],
   "source": [
    "fig.size(4, 10)\n",
    "p_umap_fls <- do_scatter(obj_costim_fls$U$embedding, obj_costim_fls$meta_data, 'DonorID', quo(Condition), do_labels=FALSE, no_guides=FALSE, nrow=1) + \n",
    "    labs(title = 'Synovial fibroblasts') + \n",
    "    theme(\n",
    "        legend.position=\"bottom\",\n",
    "        plot.title = element_text(size=12),\n",
    "        axis.ticks = element_blank(), \n",
    "        axis.text = element_blank(),\n",
    "#         axis.title.x = element_blank()\n",
    "    ) + \n",
    "    NULL\n",
    "p_umap_fls"
   ]
  },
  {
   "cell_type": "code",
   "execution_count": null,
   "id": "6170022c-4b75-4cde-a27b-f36363ebab7a",
   "metadata": {},
   "outputs": [],
   "source": [
    "fig.size(4, 10)\n",
    "p_umap_lung <- do_scatter(obj_costim_lung$U$embedding, obj_costim_lung$meta_data, 'DonorID', quo(Condition), do_labels=FALSE, no_guides=FALSE, palette_use = tableau_color_pal()(6)[4:6], nrow=1) + \n",
    "    labs(title = 'Lung fibroblasts') + \n",
    "    theme(\n",
    "        legend.position=\"bottom\",\n",
    "        plot.title = element_text(size=12),\n",
    "        axis.ticks = element_blank(), \n",
    "        axis.text = element_blank(),\n",
    "#         axis.title.y = element_blank()\n",
    "    ) + \n",
    "    NULL\n",
    "p_umap_lung"
   ]
  },
  {
   "cell_type": "markdown",
   "id": "ed179d09-7c59-45de-9fc6-6e3819ff2076",
   "metadata": {},
   "source": [
    "# Condition-vs-condition"
   ]
  },
  {
   "cell_type": "code",
   "execution_count": null,
   "id": "a52b41cd-4a70-4858-94a1-37a5c860cc2b",
   "metadata": {},
   "outputs": [],
   "source": [
    "# data.table(ddres_costim)[padj < .05 & stat > 0, .SD[order(-log2FoldChange)][1:10], by = .(Tissue, Condition)]\n",
    "#[, .N, by = .(Tissue, Condition)]\n",
    "# data.table(ddres_costim)[padj < .05 & stat > 0, .SD[order(-stat)][1:10], by = .(Tissue, Condition)]\n",
    "\n",
    "# genes_plot_tcells <- data.table(ddres_costim)[padj < .01 & log2FoldChange > 2, .SD[order(-stat)], by = .(Tissue, Condition)][Condition == 'Tcells', unique(feature)]\n",
    "# genes_plot_ecs <- data.table(ddres_costim)[padj < .01 & log2FoldChange > 2, .SD[order(-stat)], by = .(Tissue, Condition)][Condition == 'ECs', unique(feature)]\n",
    "\n",
    "\n",
    "genes_plot <- data.table(ddres_costim)[padj < .01 & log2FoldChange > 2, .SD[order(-stat)], by = .(Condition)][, unique(feature)]\n",
    "# genes_highlight <- data.table(ddres_costim)[padj < .01 & log2FoldChange > 2, .SD[order(-stat)][1:5], by = .(Tissue, Condition)][, unique(feature)] \n",
    "# genes_highlight <- ddres_costim %>% \n",
    "#     subset(padj < .01 & log2FoldChange > 2) %>% \n",
    "#     dplyr::select(Tissue, Condition, feature, log2FoldChange) %>% \n",
    "#     tidyr::spread(Tissue, log2FoldChange) %>% \n",
    "#     subset(!is.na(lung) & !is.na(fls)) %>% \n",
    "#     split(.$Condition) %>% \n",
    "#     map(function(.SD) {\n",
    "#         .SD %>% \n",
    "#             arrange(-(fls*lung)) %>% \n",
    "#             head(10)\n",
    "#     }) %>% \n",
    "#     bind_rows() %>% \n",
    "#     with(unique(feature)) \n",
    "\n",
    "genes_highlight <- c('CXCL10', 'CXCL11', 'CCL19', 'IGFBP2', 'ZBTB16', 'CCND2')\n",
    "\n",
    "# genes_highlight <- union(genes_highlight, c('CXCL10', 'CCL19', 'SPARC'))\n",
    "row_o <- pb_costim$meta_data %>% arrange(Condition, Tissue) %>% rownames()\n",
    "mat <- t(pb_costim$exprs_scaled[genes_plot, row_o])\n",
    "rownames(mat) <- glue('{Tissue} {Condition}', .envir = pb_costim$meta_data[row_o, ])\n"
   ]
  },
  {
   "cell_type": "code",
   "execution_count": null,
   "id": "4fb9f52b-9117-49b5-8479-988be84dd764",
   "metadata": {},
   "outputs": [],
   "source": [
    "anno_cols <- data.table(ddres_costim)[feature %in% genes_plot][, .(score = mean(log2FoldChange)), by = .(feature, Condition)][, .SD[order(-score)][1], by = feature][, .(feature, Condition)] %>% \n",
    "    data.frame() %>% \n",
    "    tibble::column_to_rownames('feature') %>% \n",
    "    arrange(Condition)\n",
    "# anno_cols <- anno_cols[colnames(mat), , drop = FALSE]\n",
    "mat <- mat[, rownames(anno_cols), drop = FALSE]"
   ]
  },
  {
   "cell_type": "code",
   "execution_count": null,
   "id": "eac07507-5940-45ac-80e5-ad8184ba7b67",
   "metadata": {},
   "outputs": [],
   "source": [
    "fig.size(5, 8)\n",
    "plt_df <- ddres_costim %>% \n",
    "#     dplyr::select(Tissue, Condition, SCORE=stat, feature) %>% \n",
    "    dplyr::select(Tissue, Condition, SCORE=log2FoldChange, feature) %>% \n",
    "    tidyr::spread(Condition, SCORE, fill = 0) %>% \n",
    "    dplyr::mutate(Tissue = c(fls='Synovium', lung='Lung')[Tissue])\n",
    "\n",
    "plt_df_highlight <- anno_cols %>%  \n",
    "    tibble::rownames_to_column('feature') %>% \n",
    "    subset(feature %in% genes_highlight) %>% \n",
    "    left_join(plt_df) %>% \n",
    "    subset(\n",
    "        (Condition == 'ECs' & ECs > 1.5) | (Condition == 'Tcells' & Tcells > 1.5)\n",
    "    )\n",
    "\n",
    "p_scatter_condition <- ggplot(plt_df, aes(Tcells, ECs)) +\n",
    "    facet_wrap(~Tissue, scales = 'free') + \n",
    "    geom_hline(yintercept = 0, linetype = 2) + \n",
    "    geom_vline(xintercept = 0, linetype = 2) + \n",
    "    geom_abline(linetype = 2) + \n",
    "    geom_point(shape = '.', position = position_jitter(height = .05, width = .05), alpha = .6, color = 'grey') + \n",
    "    geom_point(\n",
    "        data = plt_df_highlight, \n",
    "        shape = 16, size = 1, color = muted('red')\n",
    "    ) + \n",
    "    geom_text_repel(\n",
    "        data = plt_df_highlight, \n",
    "        aes(label = feature),\n",
    "        max.overlaps = 20,\n",
    "        color = muted('red')\n",
    "    ) + \n",
    "    labs(title = 'Compare Conditions') + \n",
    "    scale_color_manual(values = palette_global[c('Yes', 'No')]) + \n",
    "    guides(color = 'none') + \n",
    "    labs(y = 'Endothelial vs Control (logFC)', x = 'T cell supernatant vs Control (logFC)') + \n",
    "    NULL\n",
    "\n",
    "p_scatter_condition"
   ]
  },
  {
   "cell_type": "code",
   "execution_count": null,
   "id": "600e1e8e-2a61-48e4-8135-72a3eb8e9cc2",
   "metadata": {},
   "outputs": [],
   "source": [
    "genes_test <- data.table(ddres_costim)[pvalue < .01, unique(feature)]\n",
    "ddres_costim %>% \n",
    "    subset(feature %in% genes_test) %>% \n",
    "#     dplyr::select(Tissue, Condition, SCORE=stat, feature) %>% \n",
    "    dplyr::select(Tissue, Condition, SCORE=log2FoldChange, feature) %>% \n",
    "    tidyr::spread(Condition, SCORE) %>% \n",
    "    split(.$Tissue) %>% \n",
    "    map(function(.SD) {\n",
    "        broom::tidy(cor.test(~ ECs + Tcells, .SD, method = 'spearman'))\n",
    "    }) %>% \n",
    "    bind_rows(.id = 'Condition')"
   ]
  },
  {
   "cell_type": "markdown",
   "id": "36fa0b5f-b3bb-4ece-b7b5-7735bb50be22",
   "metadata": {},
   "source": [
    "# Focused corplot (T cells vs C11)"
   ]
  },
  {
   "cell_type": "code",
   "execution_count": null,
   "id": "f09024d8-681b-42b3-8b40-ef1f61c1988a",
   "metadata": {},
   "outputs": [],
   "source": [
    "plt_df <- readRDS('/data/srlab2/ik936/Roche/data/cache/obj_fibroblasts/effects_nested.rds') %>% subset(Tissue %in% c('Lung', 'Synovium')) %>% \n",
    "    inner_join(\n",
    "        ddres_costim %>% dplyr::mutate(Tissue = case_when(Tissue == 'fls' ~ 'Synovium', Tissue == 'lung' ~ 'Lung')), \n",
    "        by = c('feature', 'Tissue'), suffix = c('_cluster', '_culture')\n",
    "    ) %>% \n",
    "    identity()\n",
    "head(plt_df)"
   ]
  },
  {
   "cell_type": "code",
   "execution_count": null,
   "id": "891891c7-6fb8-4819-821a-e639585c10a8",
   "metadata": {},
   "outputs": [],
   "source": [
    "fig.size(4, 8)\n",
    "p_culture_cor_focus <- plt_df %>% \n",
    "    dplyr::mutate(Label = case_when(\n",
    "        (pvalue_cluster < .01 & (beta) > 1) | (pvalue_culture < .01 & (log2FoldChange) > 1) ~ 'Significant', \n",
    "        TRUE ~ 'Not'\n",
    "    )) %>% \n",
    "    dplyr::mutate(Label = factor(Label, c('Significant', 'Not'))) %>% \n",
    "    subset(Cluster == '11' & Condition == 'Tcells') %>% \n",
    "    ggplot(aes(beta, log2FoldChange)) + \n",
    "        geom_point(shape = '.', aes(color = Label)) + \n",
    "        geom_hline(yintercept = 0, linetype = 2) + \n",
    "        geom_vline(xintercept = 0, linetype = 2) + \n",
    "        facet_wrap(~Tissue, scales = 'free') + \n",
    "#         guides(color = 'none') + \n",
    "#         scale_color_tableau() + \n",
    "        scale_color_manual(values = c(muted('red'), 'grey')) + \n",
    "        guides(color = guide_legend(override.aes = list(stroke = 1, alpha = 1, shape = 16, size = 4)), alpha = 'none') + \n",
    "        labs(x = 'CXCL10+CCL19+ cluster (logFC)', y = 'T cell culture (logFC)') + #, title = 'Comparison of relative expression signatures') + \n",
    "        theme(\n",
    "            legend.title = element_blank(),\n",
    "            legend.position='bottom'\n",
    "        ) + \n",
    "        geom_point(\n",
    "            data = . %>% subset(feature %in% c('CXCL10', 'CXCL11', 'CCL19')),             \n",
    "            size = 2, color = muted('red')\n",
    "        ) + \n",
    "        geom_text_repel(\n",
    "            data = . %>% subset(feature %in% c('CXCL10', 'CXCL11', 'CCL19')), \n",
    "            aes(label = feature),\n",
    "            max.overlaps = 20,\n",
    "            box.padding = 1.5,\n",
    "#             point.padding = 1\n",
    "#             color = muted('red')\n",
    "        ) + \n",
    "        NULL\n",
    "\n",
    "p_culture_cor_focus"
   ]
  },
  {
   "cell_type": "markdown",
   "id": "1babe342-0793-499c-8faa-d335f576898d",
   "metadata": {},
   "source": [
    "# Panels"
   ]
  },
  {
   "cell_type": "code",
   "execution_count": null,
   "id": "2682e6d4-0836-4bcc-9830-85d3b78142ab",
   "metadata": {},
   "outputs": [],
   "source": [
    "fig.size(14, 10)\n",
    "p_final <- (\n",
    "    p_counts / wrap_elements(full=p_umap_fls | p_umap_lung) / p_scatter_condition / p_culture_cor_focus\n",
    ") + \n",
    "\n",
    "    plot_annotation(tag_levels = 'a')\n",
    "p_final"
   ]
  },
  {
   "cell_type": "code",
   "execution_count": null,
   "id": "1631a3ea-0c43-491f-8b8f-47b312dc0dc2",
   "metadata": {},
   "outputs": [],
   "source": [
    "ggsave(\n",
    "    filename = '/data/srlab2/ik936/Roche/manuscript/figures/SuppFigure7.pdf', \n",
    "    plot = p_final,\n",
    "    units = 'in', device = 'pdf', \n",
    "    height = 14, width = 10,\n",
    "    useDingbats = FALSE\n",
    ")\n",
    "\n",
    "\n",
    "ggsave(\n",
    "    filename = '/data/srlab2/ik936/Roche/manuscript/figures/SuppFigure7.png', \n",
    "    plot = p_final,\n",
    "    units = 'in', device = 'png', \n",
    "    height = 14, width = 10\n",
    ")\n"
   ]
  },
  {
   "cell_type": "code",
   "execution_count": null,
   "id": "9d72a254-f4fb-417d-bd48-e4f394fb1a59",
   "metadata": {},
   "outputs": [],
   "source": []
  }
 ],
 "metadata": {
  "kernelspec": {
   "display_name": "R",
   "language": "R",
   "name": "ir"
  },
  "language_info": {
   "codemirror_mode": "r",
   "file_extension": ".r",
   "mimetype": "text/x-r-source",
   "name": "R",
   "pygments_lexer": "r",
   "version": "4.1.1"
  },
  "toc-autonumbering": true
 },
 "nbformat": 4,
 "nbformat_minor": 5
}
