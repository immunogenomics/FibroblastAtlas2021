{
 "cells": [
  {
   "cell_type": "code",
   "execution_count": null,
   "metadata": {},
   "outputs": [],
   "source": [
    "suppressPackageStartupMessages({\n",
    "    source('../libs.R')\n",
    "    source('../utils.R')    \n",
    "    source('../Figures/colors.R')    \n",
    "    source('../utils_mapping.R')\n",
    "    source('../utils_plotting.R')\n",
    "})\n"
   ]
  },
  {
   "cell_type": "markdown",
   "metadata": {},
   "source": [
    "# Load"
   ]
  },
  {
   "cell_type": "markdown",
   "metadata": {},
   "source": [
    "## obj_fibroblasts"
   ]
  },
  {
   "cell_type": "code",
   "execution_count": null,
   "metadata": {},
   "outputs": [],
   "source": [
    "dname <- '/data/srlab2/ik936/Roche/data/cache/obj_fibroblasts/'\n",
    "fields_load <- c('meta_data', 'effects_nested', 'effects_marginal')\n",
    "# fields_load <- c('meta_data', 'umap_after', 'umap_before', 'V', 'V_unweighted', 'effects_nested', 'effects_marginal')\n",
    "obj <- map(fields_load, function(name) {\n",
    "    readRDS(file.path(dname, paste0(name, '.rds')))\n",
    "})\n",
    "names(obj) <- fields_load\n",
    "\n",
    "\n",
    "obj$meta_data <- obj$meta_data %>% \n",
    "    dplyr::mutate(tissue_cluster = case_when(\n",
    "        tissue_cluster == 'NOTCH3+ perivascular' ~ 'Sublining',\n",
    "        TRUE ~ tissue_cluster\n",
    "    ))\n",
    "\n",
    "# %>% \n",
    "#     with(table(tissue_cluster))\n"
   ]
  },
  {
   "cell_type": "code",
   "execution_count": null,
   "metadata": {},
   "outputs": [],
   "source": [
    "masc_res <- readRDS('/data/srlab2/ik936/Roche/data/cache/confusion_analysis_results.rds')\n"
   ]
  },
  {
   "cell_type": "markdown",
   "metadata": {},
   "source": [
    "## adams"
   ]
  },
  {
   "cell_type": "code",
   "execution_count": null,
   "metadata": {},
   "outputs": [],
   "source": [
    "adams <- readRDS('/data/srlab2/ik936/Roche/data/lung/Adams/query.rds')\n",
    "adams$effects <- readRDS('/data/srlab2/ik936/Roche/data/lung/Adams/effects.rds')\n",
    "# adams$masc_res <- readRDS('/data/srlab2/ik936/Roche/data/lung/Adams/masc_res.rds')\n",
    "adams$frequencies <- readRDS('/data/srlab2/ik936/Roche/data/cache/adams_ttest_frequencies.rds')"
   ]
  },
  {
   "cell_type": "markdown",
   "metadata": {},
   "source": [
    "## travaglini"
   ]
  },
  {
   "cell_type": "code",
   "execution_count": null,
   "metadata": {},
   "outputs": [],
   "source": [
    "trav <- readRDS('/data/srlab2/ik936/Roche/data/lung/Travaglini/obj_mesenchymal')"
   ]
  },
  {
   "cell_type": "markdown",
   "metadata": {},
   "source": [
    "# Travaglini clusters: heatmap"
   ]
  },
  {
   "cell_type": "code",
   "execution_count": null,
   "metadata": {},
   "outputs": [],
   "source": [
    "## Markers from paper\n",
    "markers_list <- map(\n",
    "    paste0('Cluster ', 25:33), \n",
    "    function(sheetname) {\n",
    "        openxlsx::read.xlsx('/data/srlab2/ik936/Roche/data/lung/Travaglini/41586_2020_2922_MOESM6_ESM.xlsx', sheetname, startRow = 2) %>% \n",
    "            arrange(-avg_logFC) %>% head(20) %>% \n",
    "            subset(avg_logFC >= .5) %>%\n",
    "            dplyr::select(Gene:p_val_adj)\n",
    "    }\n",
    ")\n",
    "\n",
    "names(markers_list) <- c('ASM', 'VSM', 'MyoF', 'FibM', 'AdvF', 'AlvF', 'LipF', 'Peri', 'Meso')\n",
    "markers <- bind_rows(markers_list, .id = 'Cluster')\n",
    "\n",
    "## Make markers unique to a cluster \n",
    "markers <- data.table(markers)[, .SD[order(-avg_logFC)][1], by = Gene]\n",
    "\n",
    "## Matrix of betas \n",
    "X <- trav$effects %>% \n",
    "    subset(feature %in% Reduce(union, markers)) %>% \n",
    "    dplyr::select(SCORE=beta, Cluster, feature) %>% \n",
    "    tidyr::spread(Cluster, SCORE, fill = 0) %>% \n",
    "    tibble::column_to_rownames('feature') %>% \n",
    "    as.matrix()\n",
    "\n",
    "markers <- subset(markers, Gene %in% rownames(X))"
   ]
  },
  {
   "cell_type": "code",
   "execution_count": null,
   "metadata": {},
   "outputs": [],
   "source": [
    "fig.size(3, 12)\n",
    "ht_opt(RESET = TRUE)\n",
    "ht_opt(\"heatmap_column_names_gp\" = gpar(fontsize = 5))\n",
    "ht_opt(\"heatmap_row_names_gp\" = gpar(fontsize = 8))\n",
    "suppressWarnings({\n",
    "    h3 <- split(markers$Gene, markers$Cluster) %>% imap(function(.genes, .cluster) {\n",
    "        ## ComplexHeatmap requires identical columns\n",
    "        if (.cluster == 'VSM') {\n",
    "            Heatmap(\n",
    "                t(X[.genes, ]) %>% scale(),\n",
    "    #             t(X[.genes, ]),\n",
    "                show_column_names = TRUE,\n",
    "                show_heatmap_legend = TRUE,\n",
    "                name = 'Z-score',\n",
    "                column_title = .cluster,\n",
    "                heatmap_legend_param = list(direction = \"horizontal\"),\n",
    "                col = colorRamp2(c(-2, 0, 2), c(muted('blue'), \"white\", muted(\"red\")))\n",
    "            )\n",
    "            \n",
    "        } else {\n",
    "            Heatmap(\n",
    "                t(X[.genes, ]) %>% scale(),\n",
    "    #             t(X[.genes, ]),\n",
    "    #             show_column_names = FALSE,\n",
    "                show_heatmap_legend = FALSE,\n",
    "                column_title = .cluster,\n",
    "                heatmap_legend_param = list(direction = \"horizontal\"),\n",
    "                col = colorRamp2(c(-2, 0, 2), c(muted('blue'), \"white\", muted(\"red\")))\n",
    "            )\n",
    "            \n",
    "        }\n",
    "    }) %>% \n",
    "        purrr::reduce(`+`)\n",
    "    \n",
    "})\n",
    "\n",
    "\n",
    "\n",
    "h3 <- grid.grabExpr(draw(h3, merge_legend = TRUE, heatmap_legend_side = \"bottom\"))\n",
    "\n",
    "# h3 <- grid.grabExpr(draw(h3))\n",
    "p4 <- wrap_elements(full = h3)\n",
    "p4"
   ]
  },
  {
   "cell_type": "markdown",
   "metadata": {},
   "source": [
    "# Travaglini clusters: UMAP"
   ]
  },
  {
   "cell_type": "code",
   "execution_count": null,
   "metadata": {},
   "outputs": [],
   "source": [
    "fig.size(6, 10)\n",
    "idx <- which(!is.na(trav$meta_data$ClusterTrav))\n",
    "p5 <- do_scatter(\n",
    "    trav$U$embedding[idx, ], trav$meta_data[idx, ], 'ClusterTrav', \n",
    "    pt_shape = 16, #pt_size = 5, \n",
    "#     do_labels = TRUE, no_guides = TRUE\n",
    "    do_labels = FALSE, no_guides = FALSE\n",
    ") + \n",
    "    theme_void() + \n",
    "    labs(color = 'Travaglini\\nCluster', fill = 'Travaglini\\nCluster')\n",
    "\n",
    "p5"
   ]
  },
  {
   "cell_type": "markdown",
   "metadata": {},
   "source": [
    "# Travaglini correspondence UMAPs"
   ]
  },
  {
   "cell_type": "code",
   "execution_count": null,
   "metadata": {},
   "outputs": [],
   "source": [
    "ref <- readRDS('/data/srlab2/ik936/Roche/data/lung/stromal_ref_roche.rds')"
   ]
  },
  {
   "cell_type": "code",
   "execution_count": null,
   "metadata": {},
   "outputs": [],
   "source": [
    "system.time({\n",
    "    dname <- '/data/srlab2/ik936/Roche/data/cache/obj_fibroblasts/'\n",
    "#     fields_load <- c('R', 'V', 'Z_corr', 'betas', 'meta_data', 'vargenes_means_sds', 'loadings', 'umap_after_fname')\n",
    "#     fields_load <- c('meta_data', 'exprs_raw', 'umap_after', 'umap_before', 'V', 'Z_corr')\n",
    "    fields_load <- c('meta_data', 'umap_after')\n",
    "    atlas <- map(fields_load, function(name) {\n",
    "        readRDS(file.path(dname, paste0(name, '.rds')))\n",
    "    })\n",
    "    names(atlas) <- fields_load    \n",
    "})\n"
   ]
  },
  {
   "cell_type": "code",
   "execution_count": null,
   "metadata": {},
   "outputs": [],
   "source": [
    ".m <- atlas$umap_after %>% \n",
    "    cbind(atlas$meta_data) %>% \n",
    "    inner_join(dplyr::select(ref$meta_data, CellID, ClusterTrav)) %>% \n",
    "    subset(!ClusterTrav %in% c('Pericytes', 'VascularSmoothMuscle', 'AlveolarSmoothMuscle') & !is.na(ClusterTrav))"
   ]
  },
  {
   "cell_type": "code",
   "execution_count": null,
   "metadata": {},
   "outputs": [],
   "source": [
    "p6 <- do_scatter(\n",
    "    dplyr::select(.m, `1`, `2`),\n",
    "    dplyr::select(.m, -`1`, -`2`),\n",
    "    'ClusterTrav',\n",
    "    palette_use = tableau_color_pal()(6),\n",
    "    pt_shape = 16, \n",
    "#     do_labels = TRUE, no_guides = TRUE \n",
    "    do_labels = FALSE, no_guides = TRUE \n",
    ") + \n",
    "    theme_void() + \n",
    "#     labs(color = 'Travaglini\\nCluster', fill = 'Travaglini\\nCluster') + \n",
    "    NULL\n",
    "\n",
    "# p7 <- do_scatter(\n",
    "#     dplyr::select(.m, `1`, `2`),\n",
    "#     dplyr::select(.m, -`1`, -`2`),\n",
    "#     'Cluster_name',\n",
    "#     pt_shape = 16, do_labels = FALSE, no_guides = FALSE \n",
    "# ) + \n",
    "# labs(fill = 'Cluster Atlas', color = 'Cluster Atlas')\n",
    "\n",
    "fig.size(4, 6)\n",
    "# p6 | p7\n",
    "p6"
   ]
  },
  {
   "cell_type": "code",
   "execution_count": null,
   "metadata": {},
   "outputs": [],
   "source": []
  },
  {
   "cell_type": "markdown",
   "metadata": {},
   "source": [
    "# Travaglini correspondence Heatmap"
   ]
  },
  {
   "cell_type": "code",
   "execution_count": null,
   "metadata": {},
   "outputs": [],
   "source": [
    "fig.size(6, 6)\n",
    "ht_opt(RESET = TRUE)\n",
    "h4 <- .m %>% \n",
    "    subset(Cluster != '12') %>% ## Only 5 cells \n",
    "    with(table(Cluster_name, ClusterTrav)) %>% \n",
    "    prop.table(1) %>% \n",
    "    prop.table(2) %>% \n",
    "    as('matrix') %>% \n",
    "    scale() %>% \n",
    "    Heatmap(\n",
    "        col = colorRamp2(c(-3, 0, 3), c('white', \"white\", muted(\"red\"))),\n",
    "        show_column_dend = FALSE,\n",
    "        name = 'Z-score',\n",
    "        show_row_dend = FALSE\n",
    "    )\n",
    "p7 <- wrap_elements(full = grid.grabExpr(draw(h4)))\n",
    "p7"
   ]
  },
  {
   "cell_type": "markdown",
   "metadata": {},
   "source": [
    "# Adams UMAPs"
   ]
  },
  {
   "cell_type": "code",
   "execution_count": null,
   "metadata": {},
   "outputs": [],
   "source": [
    "fig.size(4, 12)\n",
    "p8 <- do_scatter(\n",
    "#     query$umap, query$meta_data, 'Cluster', \n",
    "    adams$umap, adams$meta_data, 'Cluster', \n",
    "    quo(Disease_Identity), nrow=1, \n",
    "    do_labels=FALSE, no_guides=FALSE, \n",
    "    #palette_use=tableau_color_pal('Tableau 20')(14),\n",
    "    palette_use=palette_global[adams$meta_data$'Cluster'], \n",
    "    pt_shape=16, point_size=.5\n",
    ") + \n",
    "    theme_void(base_size = 14) + \n",
    "    NULL\n",
    "p8"
   ]
  },
  {
   "cell_type": "markdown",
   "metadata": {},
   "source": [
    "# Adams frequency barplot"
   ]
  },
  {
   "cell_type": "code",
   "execution_count": null,
   "metadata": {},
   "outputs": [],
   "source": [
    "x1 <- subset(obj$meta_data, Tissue == 'Lung') %>% with(prop.table(table(Cluster_name)))\n",
    "x2 <- adams$meta_data %>% with(prop.table(table(Cluster)))"
   ]
  },
  {
   "cell_type": "code",
   "execution_count": null,
   "metadata": {},
   "outputs": [],
   "source": [
    "p9 <- tibble(Adams = as.numeric(x2[names(x1)]), `Fibroblast Atlas` = as.numeric(x1), Cluster = names(x1)) %>% \n",
    "    tidyr::gather(key, val, -Cluster) %>% \n",
    "    ggplot(aes(key, 100*val, fill = Cluster)) + \n",
    "        geom_bar(stat = 'identity') + \n",
    "        scale_fill_manual(values = palette_global[names(x1)]) + \n",
    "        coord_flip() + \n",
    "        theme(\n",
    "            legend.position = 'bottom',\n",
    "            axis.title.y = element_blank(),\n",
    "            legend.text = element_text(size = 8),\n",
    "#             legend.title = element_text(size = 10)\n",
    "            legend.title = element_blank()\n",
    "        ) + \n",
    "        labs(y = 'Relative Frequency') + \n",
    "        NULL\n",
    "fig.size(3, 8)\n",
    "p9"
   ]
  },
  {
   "cell_type": "markdown",
   "metadata": {},
   "source": [
    "# Adams differential frequency plots"
   ]
  },
  {
   "cell_type": "code",
   "execution_count": null,
   "metadata": {},
   "outputs": [],
   "source": [
    "prop_df <- data.table(adams$meta_data)[\n",
    "    , Ntotal := .N, by = .(Subject_Identity)    \n",
    "][\n",
    "    , .N, by = .(Cluster, Subject_Identity, Ntotal)\n",
    "][\n",
    "    , prop := N / Ntotal\n",
    "][] %>% \n",
    "    dplyr::select(Cluster, Subject_Identity, prop) %>% \n",
    "    tidyr::spread(Subject_Identity, prop, fill = 0) %>% \n",
    "    tidyr::gather(Subject_Identity, prop, -Cluster) %>% \n",
    "    dplyr::left_join(unique(dplyr::select(adams$meta_data, Subject_Identity, Disease_Identity)))"
   ]
  },
  {
   "cell_type": "code",
   "execution_count": null,
   "metadata": {},
   "outputs": [],
   "source": [
    "plt_df <- prop_df %>% \n",
    "    subset(grepl('C13|C4|C11', Cluster)) %>% \n",
    "#     subset(grepl('C13|C4|C11', Cluster)) %>% \n",
    "    left_join(adams$frequencies) %>% \n",
    "    dplyr::mutate(LABEL = sprintf('%s\\n(fdr=%0.3f)', Cluster, padj)) \n",
    "#     dplyr::mutate(Cluster = factor(Cluster, c('SPARC+COL3A1+ C4', 'MYH11+ C13', 'C3', 'CXCL10+CCL19+ C11'))) %>% \n",
    "#     dplyr::mutate(LABEL = factor(LABEL, . %>% ) \n",
    "\n",
    "plt_levels <- plt_df %>% dplyr::select(LABEL, padj) %>% unique() %>% arrange(padj) %>% with(LABEL)\n",
    "\n",
    "# p10 <- plt_df %>% \n",
    "#     dplyr::mutate(LABEL = factor(LABEL, plt_levels)) %>% \n",
    "#     ggplot(aes(Disease_Identity, prop)) + \n",
    "#         geom_violin() + \n",
    "#         geom_jitter(width = .2, height = 0, shape = 21) + \n",
    "#         facet_wrap(~LABEL, scales = 'free_y', nrow=1) \n",
    "# #         facet_wrap(~LABEL, scales = 'free_y', ncol=1) \n",
    "# fig.size(4, 10)\n",
    "# # fig.size(6, 3)\n",
    "# p10"
   ]
  },
  {
   "cell_type": "code",
   "execution_count": null,
   "metadata": {},
   "outputs": [],
   "source": [
    "# p10 <- plt_df %>% \n",
    "p10 <- data.table(plt_df)[, val := median(100 * prop), by = .(Disease_Identity, LABEL)][] %>% \n",
    "    dplyr::mutate(LABEL = factor(LABEL, plt_levels)) %>% \n",
    "    ggplot(aes(LABEL, 100 * prop, color = Disease_Identity)) + \n",
    "#         geom_violin(position = position_dodge(width = 0), fill = NA) + \n",
    "        geom_jitter(width = .2, height = 0.03, shape = 21) + \n",
    "#         scale_color_tableau() + \n",
    "        scale_color_manual(values = list(Control = 'black', IPF = 'red')) + \n",
    "        facet_wrap(~LABEL, scales = 'free', ncol=1) + \n",
    "        coord_flip() + \n",
    "        theme(\n",
    "            legend.position = 'bottom',\n",
    "            strip.text = element_blank(),\n",
    "            axis.title.y = element_blank()\n",
    "        ) + \n",
    "        labs(y = '% fibroblasts', color = '')\n",
    "#         facet_wrap(~LABEL, scales = 'free_y', ncol=1) \n",
    "fig.size(4, 10)\n",
    "# fig.size(6, 3)\n",
    "p10\n"
   ]
  },
  {
   "cell_type": "markdown",
   "metadata": {},
   "source": [
    "# Adams heatmap - marker comparison\n"
   ]
  },
  {
   "cell_type": "code",
   "execution_count": null,
   "metadata": {},
   "outputs": [],
   "source": [
    "beta_thresh <- log(2)\n",
    "plt_df <- inner_join(\n",
    "     adams$effects %>% \n",
    "        dplyr::select(-contrast),\n",
    "    obj$effects_nested %>% \n",
    "        left_join(unique(dplyr::select(obj$meta_data, matches('^Cluster')))) %>% \n",
    "        subset(Tissue == 'Lung') %>% \n",
    "        dplyr::select(-contrast),\n",
    "    by = c('feature'), \n",
    "    suffix = c('_adams', '_roche')\n",
    ") \n",
    "\n",
    "cor_df <- split(plt_df, plt_df$Cluster_name_adams) %>% imap(function(.SD, .cluster_adams) {\n",
    "        split(.SD, .SD$Cluster_name_roche) %>% imap(function(.SE, .cluster_roche) {\n",
    "            .SE %>% \n",
    "                dplyr::mutate(LABEL = case_when(\n",
    "                    (abs(beta_roche) > beta_thresh & abs(zscore_roche) > 1.96) | \n",
    "                    (abs(beta_adams) > beta_thresh & abs(zscore_adams) > 1.96) ~ 'yes', \n",
    "                    TRUE ~ 'no'\n",
    "                )) %>% \n",
    "                subset(LABEL == 'yes') %>% \n",
    "                with(cor.test(~beta_roche + beta_adams)) %>% \n",
    "                broom::tidy() %>% \n",
    "                cbind(Cluster_roche = .cluster_roche)\n",
    "        }) %>% \n",
    "            bind_rows() %>% \n",
    "            cbind(Cluster_adams = .cluster_adams)\n",
    "    }) %>% \n",
    "    bind_rows()\n",
    "\n",
    "\n",
    "cormat <- cor_df %>% \n",
    "    dplyr::select(estimate, matches('^Cluster')) %>% \n",
    "    tidyr::spread(Cluster_roche, estimate) %>% \n",
    "    tibble::column_to_rownames('Cluster_adams') "
   ]
  },
  {
   "cell_type": "code",
   "execution_count": null,
   "metadata": {},
   "outputs": [],
   "source": [
    "data.table(cor_df)[, .SD[order(-estimate)][1], by = Cluster_roche] %>% with(quantile(estimate, c(0, 1)))\n",
    "# %>% with(sd(estimate))\n",
    "# with(mean(estimate))"
   ]
  },
  {
   "cell_type": "code",
   "execution_count": null,
   "metadata": {},
   "outputs": [],
   "source": [
    "fig.size(8, 9)\n",
    "\n",
    "ht_opt(RESET = TRUE)\n",
    "ht_opt(\"heatmap_column_names_gp\" = gpar(fontsize = 12))\n",
    "\n",
    "h2 <- Heatmap(\n",
    "#     .5 * (cormat + t(cormat)), \n",
    "    cormat, \n",
    "    cluster_rows = FALSE, cluster_columns = FALSE,\n",
    "    row_title = 'Fibroblast Atlas', column_title = 'Adams',\n",
    "#     col = colorRamp2(c(-1, 0, 1), c(muted('blue'), \"white\", muted(\"red\"))),\n",
    "    use_raster = TRUE, raster_device = \"CairoJPEG\",\n",
    "    name = 'Pearson Correlation'\n",
    ")\n",
    "\n",
    "p11 <- wrap_elements(full = grid.grabExpr(draw(h2)))\n",
    "\n",
    "p11\n"
   ]
  },
  {
   "cell_type": "markdown",
   "metadata": {},
   "source": [
    "# Adams scatter - C4 and C13 "
   ]
  },
  {
   "cell_type": "code",
   "execution_count": null,
   "metadata": {},
   "outputs": [],
   "source": [
    "fig.size(5, 8)\n",
    "plt_df <- inner_join(\n",
    "     adams$effects %>% \n",
    "        dplyr::select(-contrast),\n",
    "    subset(obj$effects_nested, Tissue == 'Lung') %>% \n",
    "        dplyr::select(-contrast),\n",
    "    by = c('feature', 'Cluster'), \n",
    "    suffix = c('_adams', '_roche')\n",
    ")\n",
    "\n",
    "# plt_df <- inner_join(\n",
    "#     subset(adams$effects, Cluster == '13') %>% \n",
    "#         dplyr::select(-contrast),\n",
    "#     subset(roche, Cluster == '13' & Tissue == 'Lung') %>% \n",
    "#         dplyr::select(-contrast),\n",
    "#     by = c('feature', 'Cluster'), \n",
    "#     suffix = c('_adams', '_roche')\n",
    "# )\n",
    "\n",
    "\n",
    "head(plt_df)"
   ]
  },
  {
   "cell_type": "code",
   "execution_count": null,
   "metadata": {},
   "outputs": [],
   "source": [
    "foo <- function(.Cluster, .genes, beta_thresh=log(2)) {\n",
    "    .x <- plt_df %>% \n",
    "        subset(Cluster == .Cluster) %>%\n",
    "        dplyr::mutate(LABEL = case_when(\n",
    "            (abs(beta_roche) > beta_thresh & abs(zscore_roche) > 1.96) | \n",
    "            (abs(beta_adams) > beta_thresh & abs(zscore_adams) > 1.96) ~ 'yes', \n",
    "            TRUE ~ 'no'\n",
    "        )) \n",
    "    cor_res <- broom::tidy(cor.test(~beta_roche + beta_adams, subset(.x, LABEL=='yes')))\n",
    "    ggplot(.x, aes(beta_adams, beta_roche)) + \n",
    "        geom_smooth(\n",
    "            method = 'lm', data = . %>% subset(LABEL == 'yes'),\n",
    "            color = muted('blue'), se = FALSE\n",
    "        ) + \n",
    "        geom_point(data = . %>% subset(LABEL == 'yes'), alpha = .5, color = muted('blue')) + \n",
    "        geom_point(data = . %>% subset(LABEL == 'no'), alpha = .2, shape = '.') + \n",
    "        geom_abline(linetype = 2) + \n",
    "        geom_hline(yintercept = 0, linetype = 2) + \n",
    "        geom_vline(xintercept = 0, linetype = 2) + \n",
    "        geom_point(\n",
    "            data = . %>% subset(feature %in% .genes),\n",
    "            color = muted('red'), shape = 16, size = 2\n",
    "        ) + \n",
    "        geom_label_repel(box.padding = 1,\n",
    "            data = . %>% subset(feature %in% .genes),\n",
    "            aes(label = feature), color = muted('red')\n",
    "        ) + \n",
    "        geom_errorbar(\n",
    "            data = . %>% subset(feature %in% .genes),\n",
    "            aes(ymin = beta_roche - 2*sigma_roche, ymax = beta_roche + 2*sigma_roche),\n",
    "            width = 0, color = muted('red')\n",
    "        ) + \n",
    "        geom_errorbarh(\n",
    "            data = . %>% subset(feature %in% .genes),\n",
    "            aes(xmin = beta_adams - 2*sigma_adams, xmax = beta_adams + 2*sigma_adams),\n",
    "            height = 0, color = muted('red')\n",
    "        ) + \n",
    "            labs(\n",
    "                x = 'logFC (Adams et al)', y = 'logFC (Atlas, Lung only)', \n",
    "                title = sprintf('Cluster C%s marker genes', .Cluster),\n",
    "                subtitle = sprintf('Pearson r=%0.2f, p=%0.2e', cor_res[['estimate']], cor_res[['p.value']])\n",
    "            ) + \n",
    "        NULL    \n",
    "}\n"
   ]
  },
  {
   "cell_type": "code",
   "execution_count": null,
   "metadata": {},
   "outputs": [],
   "source": [
    "fig.size(5, 12)\n",
    "p12 <- foo('13', c('MYH11', 'MYL9', 'ACTA2')) \n",
    "p13 <- foo('4', c('SPARC', 'COL3A1', 'THY1')) \n",
    "p12 | p13"
   ]
  },
  {
   "cell_type": "code",
   "execution_count": null,
   "metadata": {},
   "outputs": [],
   "source": [
    "plt_df %>% \n",
    "    subset(Cluster == '4') %>% \n",
    "#     subset(feature %in% c('MYH11', 'MYL9', 'ACTA2')) %>% \n",
    "    subset(feature %in% c('SPARC', 'COL3A1', 'THY1')) %>% \n",
    "#     dplyr::mutate(sigma_roche = 2 * sigma_roche) %>% \n",
    "#     dplyr::mutate(sigma_adams = 2 * sigma_adams) %>% \n",
    "    dplyr::select(feature, matches('^beta'), matches('^sigma'))"
   ]
  },
  {
   "cell_type": "markdown",
   "metadata": {},
   "source": [
    "# Panels"
   ]
  },
  {
   "cell_type": "code",
   "execution_count": null,
   "metadata": {},
   "outputs": [],
   "source": [
    "fig.size(12, 12)\n",
    "main_figure <- (\n",
    "#     (p4 | p5) + plot_layout(widths = c(3, 1))\n",
    "#     (p4) / \n",
    "    (\n",
    "        (wrap_elements(\n",
    "            full = p5 + labs(title = 'All types') + theme(plot.title=element_text(hjust=.2))\n",
    "        ) | wrap_elements(\n",
    "            full = p6 + labs(title = 'Fibroblasts') + theme(plot.title=element_text(hjust=.2))\n",
    "        ) | p7) + \n",
    "        plot_layout(widths = c(1.5, 1, 1))\n",
    "    ) / \n",
    "#     (p8 | p9 | p10 | p11)\n",
    "    (\n",
    "        (wrap_elements(full = p8) | wrap_elements(full = p10)) + \n",
    "        plot_layout(widths = c(2, 1))\n",
    "    ) / \n",
    "    (wrap_elements(full = p12) | wrap_elements(full = p13))\n",
    ") + \n",
    "#     plot_layout(heights = c(3, 1)) + \n",
    "    plot_annotation(tag_levels = 'a')\n",
    "\n",
    "main_figure\n"
   ]
  },
  {
   "cell_type": "code",
   "execution_count": null,
   "metadata": {},
   "outputs": [],
   "source": [
    "ggsave(\n",
    "    filename = '/data/srlab2/ik936/Roche/manuscript/figures/Figure6.pdf', \n",
    "    plot = main_figure, \n",
    "    units = 'in', device = 'pdf', \n",
    "    height = 12, width = 12,\n",
    "    useDingbats = FALSE\n",
    ")\n",
    "\n",
    "\n",
    "ggsave(\n",
    "    filename = '/data/srlab2/ik936/Roche/manuscript/figures/Figure6.png', \n",
    "    plot = main_figure, \n",
    "    units = 'in', device = 'png', \n",
    "    height = 12, width = 12\n",
    ")\n"
   ]
  },
  {
   "cell_type": "code",
   "execution_count": null,
   "metadata": {},
   "outputs": [],
   "source": []
  },
  {
   "cell_type": "raw",
   "metadata": {},
   "source": []
  }
 ],
 "metadata": {
  "kernelspec": {
   "display_name": "R",
   "language": "R",
   "name": "ir"
  },
  "language_info": {
   "codemirror_mode": "r",
   "file_extension": ".r",
   "mimetype": "text/x-r-source",
   "name": "R",
   "pygments_lexer": "r",
   "version": "4.0.3"
  }
 },
 "nbformat": 4,
 "nbformat_minor": 4
}
